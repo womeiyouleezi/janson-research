{
 "cells": [
  {
   "cell_type": "code",
   "execution_count": 1,
   "metadata": {},
   "outputs": [
    {
     "data": {
      "text/plain": [
       "'/usr/local/opt/python/bin/python3.7'"
      ]
     },
     "execution_count": 1,
     "metadata": {},
     "output_type": "execute_result"
    }
   ],
   "source": [
    "import sys\n",
    "sys.executable"
   ]
  },
  {
   "cell_type": "code",
   "execution_count": 2,
   "metadata": {},
   "outputs": [],
   "source": [
    "import numpy as np\n",
    "import pandas as pd\n",
    "from scipy.spatial import KDTree\n",
    "from scipy.stats import uniform, expon, poisson, describe\n",
    "import math\n",
    "\n",
    "import matplotlib.pyplot as plt\n",
    "\n",
    "from copy import deepcopy\n",
    "from collections import defaultdict\n",
    "\n",
    "from ipywidgets import interact, interactive, fixed, interact_manual\n",
    "import ipywidgets as widgets\n",
    "\n",
    "import pickle"
   ]
  },
  {
   "cell_type": "code",
   "execution_count": 3,
   "metadata": {},
   "outputs": [],
   "source": [
    "n = 500000\n",
    "D = 2\n",
    "\n",
    "ell = 0.8 * np.sqrt(2)\n",
    "\n",
    "x_init = np.array([0, 0])\n",
    "x_goal = np.array([ell, 0])"
   ]
  },
  {
   "cell_type": "code",
   "execution_count": 4,
   "metadata": {},
   "outputs": [],
   "source": [
    "# r_n function\n",
    "def r(n, D):\n",
    "    return (n ** (-1/(2*D))) /2\n",
    "    # designed for n = 500000"
   ]
  },
  {
   "cell_type": "code",
   "execution_count": 12,
   "metadata": {},
   "outputs": [],
   "source": [
    "filename = 'slurm scripts/data/08-12-20/path_points/'\n",
    "\n",
    "points = []\n",
    "distances = []\n",
    "lengths_based = []\n",
    "counts = []\n",
    "\n",
    "T_n_indices = defaultdict(list)\n",
    "\n",
    "for i in range(1,1001):\n",
    "    #if distances[i] == float('inf'):\n",
    "    #    S_n.append(float('inf'))\n",
    "    #    continue\n",
    "    f = open(filename+str(i)+'-dim2-n500000_pathpoints.pkl', \"rb\")\n",
    "    pathpoints = pickle.load(f)\n",
    "    points.append(pathpoints)\n",
    "    s_n = 0\n",
    "    for j in range(len(pathpoints)-2):\n",
    "        s_n += np.linalg.norm(pathpoints[j+1] - pathpoints[j])\n",
    "    lengths_based.append(s_n)\n",
    "    distances.append(s_n + np.linalg.norm(pathpoints[-1] - pathpoints[-2]))\n",
    "    counts.append(len(pathpoints)-2)\n",
    "    T_n_indices[len(pathpoints)-2].append(i)\n",
    "    \n",
    "    if pathpoints[-1][0] != 0.9 or pathpoints[-1][1] != 0.9:\n",
    "        print(i)\n",
    "\n",
    "        \n",
    "distances = np.array(distances)\n",
    "lengths_based = np.array(lengths_based)\n",
    "counts_based = np.array(counts)"
   ]
  },
  {
   "cell_type": "code",
   "execution_count": 5,
   "metadata": {},
   "outputs": [
    {
     "data": {
      "text/plain": [
       "555.3603672697957"
      ]
     },
     "execution_count": 5,
     "metadata": {},
     "output_type": "execute_result"
    }
   ],
   "source": [
    "(r(n,D) ** 2) * math.pi * n"
   ]
  },
  {
   "cell_type": "code",
   "execution_count": 6,
   "metadata": {},
   "outputs": [],
   "source": [
    "def run_simulation(seed, process=1):\n",
    "    np.random.seed(seed) \n",
    "    \n",
    "    results = defaultdict(lambda: float('inf'))\n",
    "    results['seed'] = seed\n",
    "    \n",
    "    X = [x_init[0]]\n",
    "    Y = [x_init[1]]\n",
    "    \n",
    "    lmbda = (n * (r(n, D) ** 2) * math.pi)\n",
    "\n",
    "    R = [None]\n",
    "    Theta = [None]\n",
    "    S = [None]\n",
    "    Gamma = [0]\n",
    "\n",
    "    t = 0\n",
    "    while np.linalg.norm(np.array([X[-1], Y[-1]]) - x_goal) > r(n, D) and t < 1000:\n",
    "        t += 1 # timestep index\n",
    "\n",
    "        # three samples for each time step\n",
    "        R.append(r(n, D) * (np.random.uniform() ** 0.5))\n",
    "        S.append(np.random.choice(a=[-1, 1]))\n",
    "        if process == 1:\n",
    "            Theta.append((math.pi / lmbda) * np.random.exponential())   # uses asymptotics on the # of points in a ball explicitly\n",
    "        elif process == 2:\n",
    "            n_B = np.random.poisson((r(n, D) ** 2) * math.pi * n)       # simulates the number of points in a ball, leading to a mixture of exponentials\n",
    "            Theta.append((math.pi / n_B) * np.random.exponential())\n",
    "                                   \n",
    "        # now we can determine the rest\n",
    "        X.append(X[t-1] + R[t] * np.cos(Gamma[t-1] - Theta[t] * S[t]))\n",
    "        Y.append(Y[t-1] + R[t] * np.sin(Gamma[t-1] - Theta[t] * S[t]))\n",
    "\n",
    "        g = np.arcsin((R[t] / np.linalg.norm(np.array([X[t], Y[t]]) - x_goal)) * np.sin(Theta[t] * S[t]))\n",
    "        Gamma.append(Gamma[t-1] + g)\n",
    "        \n",
    "    if t < 1000:\n",
    "        results['T'] = t\n",
    "        results['length'] = sum(R[1:])\n",
    "        results['last_point'] = (X[-1], Y[-1])\n",
    "        results['distance_to_goal'] = np.linalg.norm(np.array([X[-1], Y[-1]]) - x_goal) \n",
    "        results['R'] = R\n",
    "        results['Theta'] = Theta\n",
    "        results['S'] = S\n",
    "        results['X'] = X\n",
    "        results['Y'] = Y\n",
    "        \n",
    "    return results"
   ]
  },
  {
   "cell_type": "code",
   "execution_count": 7,
   "metadata": {},
   "outputs": [],
   "source": [
    "simulation_outputs_1 = defaultdict(dict)\n",
    "simulation_outputs_2 = defaultdict(dict)\n",
    "\n",
    "for i in range(1, 1001):\n",
    "    simulation_outputs_1[i] = run_simulation(i * 100, 1)\n",
    "    simulation_outputs_2[i] = run_simulation(i * 200, 2)"
   ]
  },
  {
   "cell_type": "code",
   "execution_count": 9,
   "metadata": {},
   "outputs": [
    {
     "data": {
      "application/vnd.jupyter.widget-view+json": {
       "model_id": "643daefa629c4bb38a73232096d6e339",
       "version_major": 2,
       "version_minor": 0
      },
      "text/plain": [
       "interactive(children=(IntSlider(value=1, description='idx', max=1000, min=1), Dropdown(description='key', opti…"
      ]
     },
     "metadata": {},
     "output_type": "display_data"
    },
    {
     "data": {
      "text/plain": [
       "<function __main__.show_results(idx, key, process)>"
      ]
     },
     "execution_count": 9,
     "metadata": {},
     "output_type": "execute_result"
    }
   ],
   "source": [
    "def show_results(idx, key, process):\n",
    "    if process==1:\n",
    "        print(simulation_outputs_1[idx][key])\n",
    "    else:\n",
    "        print(simulation_outputs_2[idx][key])\n",
    "\n",
    "interact(show_results, idx=widgets.IntSlider(min=1, max=1000, step=1, value=1), key=widgets.Dropdown(options=simulation_outputs_1[1].keys()), process=widgets.Dropdown(options=[1,2]))"
   ]
  },
  {
   "cell_type": "code",
   "execution_count": 10,
   "metadata": {},
   "outputs": [],
   "source": [
    "lengths_free = {1 : [], 2 : []}\n",
    "for k in simulation_outputs_1.keys():\n",
    "    lengths_free[1].append(simulation_outputs_1[k]['length'])\n",
    "    lengths_free[2].append(simulation_outputs_2[k]['length'])\n",
    "    \n",
    "lengths_free[1] = np.array(lengths_free[1])\n",
    "lengths_free[2] = np.array(lengths_free[2])\n",
    "\n",
    "counts_free = {1 : [], 2 : []}\n",
    "for k in simulation_outputs_1.keys():\n",
    "    counts_free[1].append(simulation_outputs_1[k]['T'])\n",
    "    counts_free[2].append(simulation_outputs_2[k]['T'])\n",
    "    \n",
    "counts_free[1] = np.array(counts_free[1])\n",
    "counts_free[2] = np.array(counts_free[2])"
   ]
  },
  {
   "cell_type": "code",
   "execution_count": 13,
   "metadata": {},
   "outputs": [
    {
     "name": "stdout",
     "output_type": "stream",
     "text": [
      "DescribeResult(nobs=1000, minmax=(1.1126248979058297, 1.1311135195351911), mean=1.1196871228929786, variance=2.1605416879607834e-05, skewness=0.3758413955784031, kurtosis=-0.8310809528509653)\n",
      "DescribeResult(nobs=1000, minmax=(1.1126039115026416, 1.1310496314200864), mean=1.1196094678529052, variance=2.1384207965097682e-05, skewness=0.37987571247289986, kurtosis=-0.8313209236787373)\n",
      "DescribeResult(nobs=1000, minmax=(1.1126048347744781, 1.1308823497845906), mean=1.1198069537601623, variance=2.0717493869762104e-05, skewness=0.2798078600849421, kurtosis=-0.89861498923351)\n"
     ]
    }
   ],
   "source": [
    "# statistics on length\n",
    "\n",
    "print(describe(lengths_based))\n",
    "print(describe(lengths_free[1]))\n",
    "print(describe(lengths_free[2]))"
   ]
  },
  {
   "cell_type": "code",
   "execution_count": 14,
   "metadata": {},
   "outputs": [
    {
     "name": "stdout",
     "output_type": "stream",
     "text": [
      "DescribeResult(nobs=1000, minmax=(77, 92), mean=84.914, variance=5.680284284284284, skewness=-0.014300944202705558, kurtosis=0.00994488869075516)\n",
      "DescribeResult(nobs=1000, minmax=(80, 100), mean=89.467, variance=11.654565565565562, skewness=0.28261040610904153, kurtosis=-0.054461693721175486)\n",
      "DescribeResult(nobs=1000, minmax=(79, 101), mean=89.356, variance=10.143407407407407, skewness=0.1815592025796908, kurtosis=0.24819666824362097)\n"
     ]
    }
   ],
   "source": [
    "# statistics on T\n",
    "\n",
    "print(describe(counts_based)) # graph based\n",
    "print(describe(counts_free[1]))  # graph free process 1\n",
    "print(describe(counts_free[2]))  # graph free process 2"
   ]
  },
  {
   "cell_type": "code",
   "execution_count": 15,
   "metadata": {},
   "outputs": [
    {
     "name": "stdout",
     "output_type": "stream",
     "text": [
      "DescribeResult(nobs=1000, minmax=(9.806764663307925, 10.758327615888245), mean=10.316789313941499, variance=0.0232903912891977, skewness=-0.10933426973532663, kurtosis=-0.060126368980016665)\n",
      "DescribeResult(nobs=1000, minmax=(10.016728963728564, 11.279316451981247), mean=10.58821380921983, variance=0.04431402856297593, skewness=0.23810589685434153, kurtosis=-0.017154192372287547)\n",
      "DescribeResult(nobs=1000, minmax=(9.961840806083927, 11.298070376922942), mean=10.583745663062233, variance=0.03897455788749313, skewness=0.08842521891947569, kurtosis=0.10166361829699255)\n"
     ]
    }
   ],
   "source": [
    "# statistics on T\n",
    "\n",
    "print(describe((counts_based ** 0.5) * lengths_based )) # graph based\n",
    "print(describe((counts_free[1] ** 0.5) * lengths_free[1] ))  # graph free process 1\n",
    "print(describe((counts_free[2] ** 0.5) * lengths_free[2] ))  # graph free process 2"
   ]
  },
  {
   "cell_type": "code",
   "execution_count": 26,
   "metadata": {},
   "outputs": [
    {
     "name": "stdout",
     "output_type": "stream",
     "text": [
      "280.9925892416291\n",
      "267.49612199056884\n"
     ]
    }
   ],
   "source": [
    "# need to run one more simulation, where both lambda_n and T_n are big enough (lambda_n > 500, T_n > 250)\n",
    "\n",
    "# r_n function\n",
    "def test(n, D):\n",
    "    return (n ** (-1/(2*D))) / 5 \n",
    "\n",
    "n_test = 5* 10 **6\n",
    "\n",
    "print(test(n_test, 2) ** 2 * math.pi * n_test)\n",
    "print(ell / test(n_test, 2))"
   ]
  },
  {
   "cell_type": "code",
   "execution_count": 32,
   "metadata": {},
   "outputs": [
    {
     "name": "stdout",
     "output_type": "stream",
     "text": [
      "159180\n"
     ]
    }
   ],
   "source": [
    "array = []\n",
    "\n",
    "for i in range(5 * 10 ** 6):\n",
    "    if True:\n",
    "        point = np.random.uniform(size=2)\n",
    "        if (point[0]-0.5)**2 - 1.997 * (point[0]-0.5) * (point[1]-0.5) + (point[1]-0.5)**2 > 1/1800:\n",
    "            continue\n",
    "        array.append(point)\n",
    "    else:\n",
    "        pass \n",
    "    \n",
    "print(len(array))"
   ]
  },
  {
   "cell_type": "code",
   "execution_count": null,
   "metadata": {},
   "outputs": [],
   "source": []
  }
 ],
 "metadata": {
  "kernelspec": {
   "display_name": "Python 3",
   "language": "python",
   "name": "python3"
  },
  "language_info": {
   "codemirror_mode": {
    "name": "ipython",
    "version": 3
   },
   "file_extension": ".py",
   "mimetype": "text/x-python",
   "name": "python",
   "nbconvert_exporter": "python",
   "pygments_lexer": "ipython3",
   "version": "3.7.6"
  }
 },
 "nbformat": 4,
 "nbformat_minor": 4
}
