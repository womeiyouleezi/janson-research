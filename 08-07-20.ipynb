{
 "cells": [
  {
   "cell_type": "code",
   "execution_count": 1,
   "metadata": {},
   "outputs": [
    {
     "data": {
      "text/plain": [
       "'/usr/local/opt/python/bin/python3.7'"
      ]
     },
     "execution_count": 1,
     "metadata": {},
     "output_type": "execute_result"
    }
   ],
   "source": [
    "import sys\n",
    "sys.executable"
   ]
  },
  {
   "cell_type": "code",
   "execution_count": 87,
   "metadata": {},
   "outputs": [],
   "source": [
    "import numpy as np\n",
    "import pandas as pd\n",
    "from scipy.spatial import KDTree\n",
    "from scipy.stats import uniform, expon, describe\n",
    "import math\n",
    "\n",
    "import matplotlib.pyplot as plt\n",
    "\n",
    "from copy import deepcopy\n",
    "from collections import defaultdict\n",
    "\n",
    "from ipywidgets import interact, interactive, fixed, interact_manual\n",
    "import ipywidgets as widgets\n",
    "\n",
    "import pickle"
   ]
  },
  {
   "cell_type": "code",
   "execution_count": 2,
   "metadata": {},
   "outputs": [],
   "source": [
    "seed = 1\n",
    "np.random.seed(seed) "
   ]
  },
  {
   "cell_type": "code",
   "execution_count": 3,
   "metadata": {},
   "outputs": [],
   "source": [
    "# r_n function\n",
    "def r(n, D):\n",
    "    return (n ** (-1/(2*D))) / 10\n",
    "    # designed for n = 10^6"
   ]
  },
  {
   "cell_type": "code",
   "execution_count": 4,
   "metadata": {},
   "outputs": [],
   "source": [
    "n = 1000000\n",
    "D = 2\n",
    "\n",
    "ell = 0.8 * np.sqrt(2)\n",
    "\n",
    "x_init = np.array([0, 0])\n",
    "x_goal = np.array([ell, 0])"
   ]
  },
  {
   "cell_type": "code",
   "execution_count": 5,
   "metadata": {},
   "outputs": [],
   "source": [
    "lmbda = (n * (r(n, D) ** 2) * math.pi)"
   ]
  },
  {
   "cell_type": "code",
   "execution_count": 14,
   "metadata": {},
   "outputs": [],
   "source": [
    "def run_simulation(seed):\n",
    "    np.random.seed(seed) \n",
    "    \n",
    "    results = defaultdict(lambda: float('inf'))\n",
    "    results['seed'] = seed\n",
    "    \n",
    "    X = [x_init[0]]\n",
    "    Y = [x_init[1]]\n",
    "\n",
    "    R = [None]\n",
    "    Theta = [None]\n",
    "    S = [None]\n",
    "    Gamma = [0]\n",
    "\n",
    "    t = 0\n",
    "    while np.linalg.norm(np.array([X[-1], Y[-1]]) - x_goal) > r(n, D) and t < 1000:\n",
    "        t += 1 # timestep index\n",
    "\n",
    "        # three samples for each time step\n",
    "        R.append(r(n, D) * (np.random.uniform() ** 0.5))\n",
    "        S.append(np.random.choice(a=[-1, 1]))\n",
    "        Theta.append((math.pi / lmbda) * np.random.exponential())\n",
    "\n",
    "        # now we can determine the rest\n",
    "        X.append(X[t-1] + R[t] * np.cos(Gamma[t-1] - Theta[t] * S[t]))\n",
    "        Y.append(Y[t-1] + R[t] * np.sin(Gamma[t-1] - Theta[t] * S[t]))\n",
    "\n",
    "        g = np.arcsin((R[t] / np.linalg.norm(np.array([X[t], Y[t]]) - x_goal)) * np.sin(Theta[t] * S[t]))\n",
    "        Gamma.append(Gamma[t-1] + g)\n",
    "        \n",
    "    if t < 1000:\n",
    "        results['T'] = t\n",
    "        results['length'] = sum(R[1:])\n",
    "        results['last_point'] = (X[-1], Y[-1])\n",
    "        results['distance_to_goal'] = np.linalg.norm(np.array([X[-1], Y[-1]]) - x_goal) \n",
    "        results['R'] = R\n",
    "        results['Theta'] = Theta\n",
    "        results['S'] = S\n",
    "        results['X'] = X\n",
    "        results['Y'] = Y\n",
    "        \n",
    "    return results\n",
    "        \n",
    "    "
   ]
  },
  {
   "cell_type": "code",
   "execution_count": 16,
   "metadata": {},
   "outputs": [],
   "source": [
    "simulation_outputs = defaultdict(dict)\n",
    "\n",
    "for i in range(1, 1001):\n",
    "    simulation_outputs[i] = run_simulation(i * 100)\n",
    "    "
   ]
  },
  {
   "cell_type": "code",
   "execution_count": 22,
   "metadata": {},
   "outputs": [],
   "source": [
    "def show_results(idx, key):\n",
    "    print(simulation_outputs[idx][key])"
   ]
  },
  {
   "cell_type": "code",
   "execution_count": 23,
   "metadata": {},
   "outputs": [
    {
     "data": {
      "application/vnd.jupyter.widget-view+json": {
       "model_id": "8350afd845a54ab7909038315f0b1d2a",
       "version_major": 2,
       "version_minor": 0
      },
      "text/plain": [
       "interactive(children=(IntSlider(value=1, description='idx', max=1000, min=1), Dropdown(description='key', opti…"
      ]
     },
     "metadata": {},
     "output_type": "display_data"
    },
    {
     "data": {
      "text/plain": [
       "<function __main__.show_results(idx, key)>"
      ]
     },
     "execution_count": 23,
     "metadata": {},
     "output_type": "execute_result"
    }
   ],
   "source": [
    "interact(show_results, idx=widgets.IntSlider(min=1, max=1000, step=1, value=1), key=widgets.Dropdown(options=simulation_outputs[1].keys()))"
   ]
  },
  {
   "cell_type": "code",
   "execution_count": 24,
   "metadata": {},
   "outputs": [],
   "source": [
    "T_array = []\n",
    "for k in simulation_outputs.keys():\n",
    "    T_array.append(simulation_outputs[k]['T'])"
   ]
  },
  {
   "cell_type": "code",
   "execution_count": 28,
   "metadata": {},
   "outputs": [
    {
     "name": "stdout",
     "output_type": "stream",
     "text": [
      "541.257\n"
     ]
    },
    {
     "data": {
      "image/png": "[encoded data removed]",
      "text/plain": [
       "<Figure size 1440x432 with 1 Axes>"
      ]
     },
     "metadata": {
      "needs_background": "light"
     },
     "output_type": "display_data"
    }
   ],
   "source": [
    "plt.figure(figsize=(20, 6))\n",
    "plt.hist(T_array, range(min(T_array), 1+max(T_array)))\n",
    "#plt.xticks(range(min(T_array), 1+max(T_array)))\n",
    "#plt.title(str(num) + ' bins')\n",
    "print(np.mean(T_array))"
   ]
  },
  {
   "cell_type": "code",
   "execution_count": 80,
   "metadata": {},
   "outputs": [],
   "source": [
    "def show_traversal(idx):\n",
    "    results = simulation_outputs[idx]\n",
    "    \n",
    "    x_ip = [0, ell]\n",
    "    y_ip = [0, 0]\n",
    "\n",
    "    # plot points here\n",
    "    plt.figure(figsize=(14, 14))\n",
    "    plt.margins(0.001)\n",
    "    plt.xlim(-0.05, ell + 0.05)\n",
    "    plt.ylim(-0.5 * ell , 0.5 * ell )\n",
    "\n",
    "    plt.scatter(results['X'], results['Y'], s=2, c='red')\n",
    "    plt.scatter(x_ip, y_ip, s=20, c='gold')\n",
    "    \n",
    "    path_edges = []\n",
    "    for j in range(len(results['X'])-1):\n",
    "        path_edges.append(np.array([[results['X'][j], results['Y'][j]], [results['X'][j+1], results['Y'][j+1]]]))\n",
    "    path_edges = np.array(path_edges)\n",
    "    for edge in path_edges:\n",
    "        xs, ys = edge.T\n",
    "        plt.plot(xs, ys, 'b-', linewidth=0.5, alpha=0.5)\n",
    "    \n",
    "    plt.title('simulation ' + str(idx))\n",
    "    plt.show()"
   ]
  },
  {
   "cell_type": "code",
   "execution_count": 81,
   "metadata": {
    "collapsed": true,
    "jupyter": {
     "outputs_hidden": true
    }
   },
   "outputs": [
    {
     "data": {
      "application/vnd.jupyter.widget-view+json": {
       "model_id": "db342a1a86f64be58948e80fc2092c7e",
       "version_major": 2,
       "version_minor": 0
      },
      "text/plain": [
       "interactive(children=(IntSlider(value=1, description='idx', max=1000, min=1), Output()), _dom_classes=('widget…"
      ]
     },
     "metadata": {},
     "output_type": "display_data"
    },
    {
     "data": {
      "text/plain": [
       "<function __main__.show_traversal(idx)>"
      ]
     },
     "execution_count": 81,
     "metadata": {},
     "output_type": "execute_result"
    }
   ],
   "source": [
    "interact(show_traversal, idx=widgets.IntSlider(min=1, max=1000, step=1, value=1))"
   ]
  },
  {
   "cell_type": "code",
   "execution_count": 79,
   "metadata": {},
   "outputs": [
    {
     "data": {
      "image/png": "[encoded data removed]",
      "text/plain": [
       "<Figure size 1440x432 with 1 Axes>"
      ]
     },
     "metadata": {
      "needs_background": "light"
     },
     "output_type": "display_data"
    }
   ],
   "source": [
    "plt.figure(figsize=(20, 6))\n",
    "plt.hist(simulation_outputs[4]['Theta'][1:], bins=30)\n",
    "plt.show()"
   ]
  },
  {
   "cell_type": "code",
   "execution_count": 96,
   "metadata": {},
   "outputs": [],
   "source": [
    "lengths_free = []\n",
    "for k in simulation_outputs.keys():\n",
    "    lengths_free.append(simulation_outputs[k]['length'])\n",
    "    \n",
    "lengths_free = np.array(lengths_free)"
   ]
  },
  {
   "cell_type": "code",
   "execution_count": 85,
   "metadata": {},
   "outputs": [
    {
     "data": {
      "image/png": "[encoded data removed]",
      "text/plain": [
       "<Figure size 1440x432 with 1 Axes>"
      ]
     },
     "metadata": {
      "needs_background": "light"
     },
     "output_type": "display_data"
    },
    {
     "name": "stdout",
     "output_type": "stream",
     "text": [
      "1.1408436054852436\n"
     ]
    }
   ],
   "source": [
    "plt.figure(figsize=(20, 6))\n",
    "plt.hist(lengths, bins=30)\n",
    "plt.show()\n",
    "\n",
    "print(np.mean(lengths))"
   ]
  },
  {
   "cell_type": "code",
   "execution_count": 86,
   "metadata": {},
   "outputs": [
    {
     "data": {
      "text/plain": [
       "1.1313708498984762"
      ]
     },
     "execution_count": 86,
     "metadata": {},
     "output_type": "execute_result"
    }
   ],
   "source": [
    "ell"
   ]
  },
  {
   "cell_type": "code",
   "execution_count": 90,
   "metadata": {},
   "outputs": [],
   "source": [
    "filename = 'slurm scripts/data/07-06-20/path_points/'"
   ]
  },
  {
   "cell_type": "code",
   "execution_count": 91,
   "metadata": {},
   "outputs": [],
   "source": [
    "points = []\n",
    "distances = []\n",
    "lengths_based = []\n",
    "counts = []\n",
    "\n",
    "T_n_indices = defaultdict(list)\n",
    "\n",
    "for i in range(1,1001):\n",
    "    #if distances[i] == float('inf'):\n",
    "    #    S_n.append(float('inf'))\n",
    "    #    continue\n",
    "    f = open(filename+str(i)+'-dim2-n1000000_pathpoints.pkl', \"rb\")\n",
    "    pathpoints = pickle.load(f)\n",
    "    points.append(pathpoints)\n",
    "    s_n = 0\n",
    "    for j in range(len(pathpoints)-2):\n",
    "        s_n += np.linalg.norm(pathpoints[j+1] - pathpoints[j])\n",
    "    lengths_based.append(s_n)\n",
    "    distances.append(s_n + np.linalg.norm(pathpoints[-1] - pathpoints[-2]))\n",
    "    counts.append(len(pathpoints)-2)\n",
    "    T_n_indices[len(pathpoints)-2].append(i)\n",
    "    \n",
    "    if pathpoints[-1][0] != 0.9 or pathpoints[-1][1] != 0.9:\n",
    "        print(i)\n",
    "\n",
    "        \n",
    "distances = np.array(distances)\n",
    "lengths_based = np.array(lengths_based)\n",
    "counts = np.array(counts)"
   ]
  },
  {
   "cell_type": "code",
   "execution_count": 93,
   "metadata": {},
   "outputs": [
    {
     "name": "stdout",
     "output_type": "stream",
     "text": [
      "DescribeResult(nobs=1000, minmax=(1.1386894714459912, 1.1494309343480296), mean=1.1433867143714047, variance=2.6997702476019394e-06, skewness=0.26824564636951004, kurtosis=0.018551549386232047)\n",
      "DescribeResult(nobs=1000, minmax=(1.1368960052117723, 1.1451161076214944), mean=1.1408436054852436, variance=1.95707727641456e-06, skewness=0.1018529113805514, kurtosis=-0.14919352581629575)\n"
     ]
    }
   ],
   "source": [
    "# statistics on length\n",
    "\n",
    "print(describe(lengths_based))\n",
    "print(describe(lengths_free))"
   ]
  },
  {
   "cell_type": "code",
   "execution_count": 97,
   "metadata": {},
   "outputs": [
    {
     "name": "stdout",
     "output_type": "stream",
     "text": [
      "DescribeResult(nobs=1000, minmax=(25.283552297670226, 26.56543629547474), mean=25.957789409135604, variance=0.02745435373945311, skewness=0.20701421735574027, kurtosis=0.462434080459615)\n",
      "DescribeResult(nobs=1000, minmax=(25.995467281823487, 27.312587587688636), mean=26.540831810982944, variance=0.04541984438641695, skewness=0.2451594408175094, kurtosis=0.10181655328939465)\n"
     ]
    }
   ],
   "source": [
    "# statistics on length\n",
    "\n",
    "asymp_based = []\n",
    "for i in range(len(lengths_based)):\n",
    "    asymp_based.append(lengths_based[i] * (counts[i] ** 0.5))\n",
    "asymp_free = []\n",
    "for i in range(len(lengths_free)):\n",
    "    asymp_free.append(simulation_outputs[i+1]['length'] * (simulation_outputs[i+1]['T'] ** 0.5))\n",
    "\n",
    "print(describe(asymp_based))\n",
    "print(describe(asymp_free))"
   ]
  },
  {
   "cell_type": "code",
   "execution_count": null,
   "metadata": {},
   "outputs": [],
   "source": []
  }
 ],
 "metadata": {
  "kernelspec": {
   "display_name": "Python 3",
   "language": "python",
   "name": "python3"
  },
  "language_info": {
   "codemirror_mode": {
    "name": "ipython",
    "version": 3
   },
   "file_extension": ".py",
   "mimetype": "text/x-python",
   "name": "python",
   "nbconvert_exporter": "python",
   "pygments_lexer": "ipython3",
   "version": "3.7.6"
  }
 },
 "nbformat": 4,
 "nbformat_minor": 4
}
