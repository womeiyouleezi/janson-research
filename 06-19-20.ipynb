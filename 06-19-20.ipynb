{
 "cells": [
  {
   "cell_type": "code",
   "execution_count": 1,
   "metadata": {},
   "outputs": [
    {
     "data": {
      "text/plain": [
       "'/usr/local/opt/python/bin/python3.7'"
      ]
     },
     "execution_count": 1,
     "metadata": {},
     "output_type": "execute_result"
    }
   ],
   "source": [
    "import sys\n",
    "sys.executable"
   ]
  },
  {
   "cell_type": "code",
   "execution_count": 2,
   "metadata": {},
   "outputs": [],
   "source": [
    "import numpy as np\n",
    "import pandas as pd\n",
    "from scipy.spatial import KDTree\n",
    "import math\n",
    "\n",
    "import matplotlib.pyplot as plt"
   ]
  },
  {
   "cell_type": "code",
   "execution_count": 10,
   "metadata": {},
   "outputs": [],
   "source": [
    "# r_n function\n",
    "def r(n, D):\n",
    "    return n ** (-1/(2*D))"
   ]
  },
  {
   "cell_type": "code",
   "execution_count": 16,
   "metadata": {},
   "outputs": [],
   "source": [
    "lengths = []\n",
    "\n",
    "filename = 'slurm scripts/data/06-17-20/asymptotics-dim2_n50000-'\n",
    "\n",
    "for i in range(1,6):\n",
    "    f = open(filename+str(i)+'.out', \"r\")\n",
    "    for line in f:\n",
    "        lengths.append(float(line))\n",
    "        \n",
    "lengths = np.array(lengths)"
   ]
  },
  {
   "cell_type": "code",
   "execution_count": 17,
   "metadata": {},
   "outputs": [
    {
     "name": "stdout",
     "output_type": "stream",
     "text": [
      "25.376910322573544\n"
     ]
    }
   ],
   "source": [
    "# T_n approaches 1.5 (true length) n^(1/4)\n",
    "\n",
    "n = 50000\n",
    "D = 2\n",
    "\n",
    "T = 1.5 * (2 ** 0.5) * 0.8 * (n ** 0.25)\n",
    "print(T)"
   ]
  },
  {
   "cell_type": "code",
   "execution_count": 14,
   "metadata": {},
   "outputs": [],
   "source": [
    "lengths = lengths - (T * (2/3) * r(n,D))\n",
    "lengths = lengths * (n ** 1/8)"
   ]
  },
  {
   "cell_type": "code",
   "execution_count": 18,
   "metadata": {},
   "outputs": [
    {
     "data": {
      "text/plain": [
       "array([1.13138797, 1.13140157, 1.13138212, 1.1313958 , 1.13139181,\n",
       "       1.13140694, 1.13141546, 1.13139972, 1.13140882, 1.13142828,\n",
       "       1.13140164, 1.13162617, 1.13140311, 1.13141567, 1.13139758,\n",
       "       1.13140352, 1.13139809, 1.13139881, 1.13140457, 1.13143728,\n",
       "       1.13138754, 1.13144139, 1.13139157, 1.13138945, 1.13139081,\n",
       "       1.1314073 , 1.13139538, 1.13138742, 1.13140033, 1.13138262,\n",
       "       1.13139077, 1.13141417, 1.13140613, 1.13138208, 1.13141118,\n",
       "       1.13139007, 1.13139004, 1.13139731, 1.13138803, 1.13139253,\n",
       "       1.13140162, 1.13142666, 1.13138819, 1.13141281, 1.13137897,\n",
       "       1.13141066, 1.13138769, 1.1314007 , 1.13139647, 1.13140223,\n",
       "       1.13140322, 1.13139732, 1.13139013, 1.13141753, 1.13139715,\n",
       "       1.13140162, 1.131389  , 1.13138252, 1.13139036, 1.1313975 ,\n",
       "       1.13139968, 1.13140546, 1.13139908, 1.13141704, 1.13138909,\n",
       "       1.13141327, 1.13142342, 1.13140051, 1.13146539, 1.13140657,\n",
       "       1.13141251, 1.1314163 , 1.13141328, 1.13140107, 1.13141047,\n",
       "       1.13139161, 1.13140485, 1.13138817, 1.13139321, 1.13140627,\n",
       "       1.1314028 , 1.1313935 , 1.13140025, 1.13138822, 1.13140321,\n",
       "       1.13139629, 1.13139655, 1.1314288 , 1.13140229, 1.13139024,\n",
       "       1.13140541, 1.13139122, 1.13139163, 1.13142608, 1.13140149,\n",
       "       1.1314231 , 1.13137937, 1.13140731, 1.1314679 , 1.13141472,\n",
       "       1.13141219, 1.1314119 , 1.13138919, 1.13139051, 1.13139601,\n",
       "       1.13138658, 1.13139169, 1.13139139, 1.13139907, 1.13139563,\n",
       "       1.13141402, 1.13144453, 1.13138952, 1.13139012, 1.13138916,\n",
       "       1.13143982, 1.13140803, 1.13138712, 1.13139979, 1.13145709,\n",
       "       1.13140928, 1.13139109, 1.13139401, 1.13140015, 1.13139203,\n",
       "       1.13138979, 1.13139894, 1.13139247, 1.13139179, 1.1314022 ,\n",
       "       1.13138896, 1.13141584, 1.1313814 , 1.1314025 , 1.13141201,\n",
       "       1.13139067, 1.13140528, 1.13137929, 1.13139178, 1.13140898,\n",
       "       1.1314183 , 1.13138898, 1.13139866, 1.1313989 , 1.13140141,\n",
       "       1.13139655, 1.13141767, 1.13138605, 1.13139639, 1.13139515,\n",
       "       1.13139511, 1.13142491, 1.13141806, 1.13139303, 1.13141483,\n",
       "       1.13138635, 1.13140462, 1.13141128, 1.13141251, 1.13143513,\n",
       "       1.13139674, 1.13140676, 1.13139504, 1.13142429, 1.13138587,\n",
       "       1.13139423, 1.13141304, 1.13139689, 1.1313993 , 1.13143075,\n",
       "       1.13140137, 1.13139185, 1.13140236, 1.13139176, 1.13143004,\n",
       "       1.13139641, 1.13141196, 1.1313898 , 1.13138922, 1.13140158,\n",
       "       1.131427  , 1.13140376, 1.13140804, 1.13138831, 1.13139276,\n",
       "       1.13138124, 1.13139895, 1.13139408, 1.13140724, 1.13141479,\n",
       "       1.13141408, 1.13138573, 1.13138353, 1.13140334, 1.13139833,\n",
       "       1.13144588, 1.13140061, 1.1313884 , 1.13140326, 1.13139849,\n",
       "       1.13139163, 1.13140321, 1.13142687, 1.13142025, 1.13138737,\n",
       "       1.13141428, 1.13138083, 1.13140744, 1.13142668, 1.13138746,\n",
       "       1.1313883 , 1.13139659, 1.1313864 , 1.13142864, 1.13140636,\n",
       "       1.13139189, 1.13139725, 1.13140559, 1.13139102, 1.13140109,\n",
       "       1.13140198, 1.13141398, 1.1313948 , 1.13138784, 1.13140441,\n",
       "       1.13138839, 1.13140086, 1.13140144, 1.13140319, 1.13138811,\n",
       "       1.13138355, 1.13138224])"
      ]
     },
     "execution_count": 18,
     "metadata": {},
     "output_type": "execute_result"
    }
   ],
   "source": [
    "lengths"
   ]
  },
  {
   "cell_type": "code",
   "execution_count": 19,
   "metadata": {},
   "outputs": [
    {
     "data": {
      "text/plain": [
       "array([1.71213437e-05, 3.07157646e-05, 1.12730745e-05, 2.49501162e-05,\n",
       "       2.09562594e-05, 3.60932361e-05, 4.46120971e-05, 2.88748308e-05,\n",
       "       3.79705881e-05, 5.74347001e-05, 3.07904258e-05, 2.55317323e-04,\n",
       "       3.22559223e-05, 4.48207759e-05, 2.67294986e-05, 3.26652822e-05,\n",
       "       2.72425720e-05, 2.79619780e-05, 3.37184223e-05, 6.64262429e-05,\n",
       "       1.66858661e-05, 7.05445282e-05, 2.07231720e-05, 1.85997852e-05,\n",
       "       1.99629478e-05, 3.64495729e-05, 2.45327198e-05, 1.65740991e-05,\n",
       "       2.94843359e-05, 1.17728118e-05, 1.99152664e-05, 4.33222454e-05,\n",
       "       3.52772596e-05, 1.12275064e-05, 4.03314889e-05, 1.92250540e-05,\n",
       "       1.91860619e-05, 2.64560319e-05, 1.71807377e-05, 2.16794744e-05,\n",
       "       3.07657044e-05, 5.58091245e-05, 1.73369853e-05, 4.19608990e-05,\n",
       "       8.11977618e-06, 3.98075087e-05, 1.68408125e-05, 2.98474674e-05,\n",
       "       2.56191182e-05, 3.13768938e-05, 3.23669764e-05, 2.64654428e-05,\n",
       "       1.92802416e-05, 4.66840824e-05, 2.63009997e-05, 3.07708752e-05,\n",
       "       1.81499251e-05, 1.16714732e-05, 1.95079029e-05, 2.66519207e-05,\n",
       "       2.88345293e-05, 3.46145462e-05, 2.82350975e-05, 4.61892096e-05,\n",
       "       1.82449300e-05, 4.24228133e-05, 5.25738803e-05, 2.96615455e-05,\n",
       "       9.45433149e-05, 3.57225274e-05, 4.16601331e-05, 4.54472308e-05,\n",
       "       4.24257169e-05, 3.02151315e-05, 3.96239811e-05, 2.07644158e-05,\n",
       "       3.39995191e-05, 1.73152772e-05, 2.23553559e-05, 3.54200965e-05,\n",
       "       3.19521391e-05, 2.26477522e-05, 2.94004514e-05, 1.73674734e-05,\n",
       "       3.23576414e-05, 2.54357518e-05, 2.56992500e-05, 5.79502604e-05,\n",
       "       3.14399010e-05, 1.93924036e-05, 3.45633362e-05, 2.03656081e-05,\n",
       "       2.07784306e-05, 5.52330543e-05, 3.06442604e-05, 5.22451067e-05,\n",
       "       8.51869462e-06, 3.64552282e-05, 9.70458481e-05, 4.38691636e-05,\n",
       "       4.13412810e-05, 4.10473499e-05, 1.83434965e-05, 1.96555937e-05,\n",
       "       2.51553152e-05, 1.57305880e-05, 2.08366473e-05, 2.05364085e-05,\n",
       "       2.82176880e-05, 2.47842237e-05, 4.31737108e-05, 7.36809783e-05,\n",
       "       1.86691682e-05, 1.92715528e-05, 1.83103603e-05, 6.89679202e-05,\n",
       "       3.71804705e-05, 1.62690839e-05, 2.89449917e-05, 8.62405877e-05,\n",
       "       3.84282011e-05, 2.02388988e-05, 2.31631625e-05, 2.93038876e-05,\n",
       "       2.11777882e-05, 1.89405964e-05, 2.80925728e-05, 2.16162680e-05,\n",
       "       2.09431943e-05, 3.13512146e-05, 1.81103053e-05, 4.49898193e-05,\n",
       "       1.05471798e-05, 3.16464272e-05, 4.11625943e-05, 1.98247526e-05,\n",
       "       3.44300609e-05, 8.43520801e-06, 2.09344873e-05, 3.81341772e-05,\n",
       "       4.74510628e-05, 1.81347755e-05, 2.78117223e-05, 2.80486062e-05,\n",
       "       3.05645130e-05, 2.56967683e-05, 4.68221863e-05, 1.52029505e-05,\n",
       "       2.55431535e-05, 2.42965208e-05, 2.42584657e-05, 5.40634813e-05,\n",
       "       4.72053391e-05, 2.21815207e-05, 4.39800684e-05, 1.54984239e-05,\n",
       "       3.37736217e-05, 4.04346270e-05, 4.16649685e-05, 6.42777699e-05,\n",
       "       2.58938935e-05, 3.59059171e-05, 2.41895268e-05, 5.34372973e-05,\n",
       "       1.50194945e-05, 2.33772991e-05, 4.21933684e-05, 2.60422694e-05,\n",
       "       2.84470425e-05, 5.98966107e-05, 3.05159646e-05, 2.10032173e-05,\n",
       "       3.15103457e-05, 2.09055517e-05, 5.91908994e-05, 2.55581838e-05,\n",
       "       4.11079565e-05, 1.89487754e-05, 1.83718238e-05, 3.07329997e-05,\n",
       "       5.61493232e-05, 3.29134030e-05, 3.71862812e-05, 1.74573488e-05,\n",
       "       2.19090324e-05, 1.03881609e-05, 2.80991393e-05, 2.32273891e-05,\n",
       "       3.63941887e-05, 4.39429219e-05, 4.32257290e-05, 1.48837933e-05,\n",
       "       1.26788115e-05, 3.24861696e-05, 2.74848645e-05, 7.50323454e-05,\n",
       "       2.97621813e-05, 1.75538316e-05, 3.24070684e-05, 2.76413488e-05,\n",
       "       2.07840665e-05, 3.23635621e-05, 5.60176339e-05, 4.93990861e-05,\n",
       "       1.65161284e-05, 4.34310790e-05, 9.97535160e-06, 3.65884960e-05,\n",
       "       5.58324938e-05, 1.66107858e-05, 1.74460451e-05, 2.57409965e-05,\n",
       "       1.55516145e-05, 5.77934372e-05, 3.55054082e-05, 2.10408638e-05,\n",
       "       2.64040663e-05, 3.47390640e-05, 2.01738289e-05, 3.02410876e-05,\n",
       "       3.11338366e-05, 4.31274311e-05, 2.39535305e-05, 1.69877787e-05,\n",
       "       3.35644762e-05, 1.75397021e-05, 3.00150913e-05, 3.05950541e-05,\n",
       "       3.23446120e-05, 1.72565085e-05, 1.26968936e-05, 1.13911731e-05])"
      ]
     },
     "execution_count": 19,
     "metadata": {},
     "output_type": "execute_result"
    }
   ],
   "source": [
    "lengths = lengths - (T * (2/3) * r(n,D))\n",
    "lengths"
   ]
  },
  {
   "cell_type": "code",
   "execution_count": 20,
   "metadata": {},
   "outputs": [
    {
     "data": {
      "text/plain": [
       "array([0.1070084 , 0.19197353, 0.07045672, 0.15593823, 0.13097662,\n",
       "       0.22558273, 0.27882561, 0.18046769, 0.23731618, 0.35896688,\n",
       "       0.19244016, 1.59573327, 0.20159951, 0.28012985, 0.16705937,\n",
       "       0.20415801, 0.17026607, 0.17476236, 0.21074014, 0.41516402,\n",
       "       0.10428666, 0.4409033 , 0.12951983, 0.11624866, 0.12476842,\n",
       "       0.22780983, 0.1533295 , 0.10358812, 0.1842771 , 0.07358007,\n",
       "       0.12447042, 0.27076403, 0.22048287, 0.07017192, 0.25207181,\n",
       "       0.12015659, 0.11991289, 0.1653502 , 0.10737961, 0.13549672,\n",
       "       0.19228565, 0.34880703, 0.10835616, 0.26225562, 0.0507486 ,\n",
       "       0.24879693, 0.10525508, 0.18654667, 0.16011949, 0.19610559,\n",
       "       0.2022936 , 0.16540902, 0.12050151, 0.29177551, 0.16438125,\n",
       "       0.19231797, 0.11343703, 0.07294671, 0.12192439, 0.1665745 ,\n",
       "       0.18021581, 0.21634091, 0.17646936, 0.28868256, 0.11403081,\n",
       "       0.26514258, 0.32858675, 0.18538466, 0.59089572, 0.2232658 ,\n",
       "       0.26037583, 0.28404519, 0.26516073, 0.18884457, 0.24764988,\n",
       "       0.1297776 , 0.21249699, 0.10822048, 0.13972097, 0.2213756 ,\n",
       "       0.19970087, 0.14154845, 0.18375282, 0.10854671, 0.20223526,\n",
       "       0.15897345, 0.16062031, 0.36218913, 0.19649938, 0.12120252,\n",
       "       0.21602085, 0.12728505, 0.12986519, 0.34520659, 0.19152663,\n",
       "       0.32653192, 0.05324184, 0.22784518, 0.60653655, 0.27418227,\n",
       "       0.25838301, 0.25654594, 0.11464685, 0.12284746, 0.15722072,\n",
       "       0.09831617, 0.13022905, 0.12835255, 0.17636055, 0.1549014 ,\n",
       "       0.26983569, 0.46050611, 0.1166823 , 0.1204472 , 0.11443975,\n",
       "       0.4310495 , 0.23237794, 0.10168177, 0.1809062 , 0.53900367,\n",
       "       0.24017626, 0.12649312, 0.14476977, 0.1831493 , 0.13236118,\n",
       "       0.11837873, 0.17557858, 0.13510168, 0.13089496, 0.19594509,\n",
       "       0.11318941, 0.28118637, 0.06591987, 0.19779017, 0.25726621,\n",
       "       0.1239047 , 0.21518788, 0.05272005, 0.13084055, 0.23833861,\n",
       "       0.29656914, 0.11334235, 0.17382326, 0.17530379, 0.19102821,\n",
       "       0.1606048 , 0.29263866, 0.09501844, 0.15964471, 0.15185326,\n",
       "       0.15161541, 0.33789676, 0.29503337, 0.1386345 , 0.27487543,\n",
       "       0.09686515, 0.21108514, 0.25271642, 0.26040605, 0.40173606,\n",
       "       0.16183683, 0.22441198, 0.15118454, 0.33398311, 0.09387184,\n",
       "       0.14610812, 0.26370855, 0.16276418, 0.17779402, 0.37435382,\n",
       "       0.19072478, 0.13127011, 0.19693966, 0.1306597 , 0.36994312,\n",
       "       0.15973865, 0.25692473, 0.11842985, 0.1148239 , 0.19208125,\n",
       "       0.35093327, 0.20570877, 0.23241426, 0.10910843, 0.13693145,\n",
       "       0.06492601, 0.17561962, 0.14517118, 0.22746368, 0.27464326,\n",
       "       0.27016081, 0.09302371, 0.07924257, 0.20303856, 0.1717804 ,\n",
       "       0.46895216, 0.18601363, 0.10971145, 0.20254418, 0.17275843,\n",
       "       0.12990042, 0.20227226, 0.35011021, 0.30874429, 0.1032258 ,\n",
       "       0.27144424, 0.06234595, 0.2286781 , 0.34895309, 0.10381741,\n",
       "       0.10903778, 0.16088123, 0.09719759, 0.36120898, 0.2219088 ,\n",
       "       0.1315054 , 0.16502541, 0.21711915, 0.12608643, 0.1890068 ,\n",
       "       0.19458648, 0.26954644, 0.14970957, 0.10617362, 0.20977798,\n",
       "       0.10962314, 0.18759432, 0.19121909, 0.20215382, 0.10785318,\n",
       "       0.07935559, 0.07119483])"
      ]
     },
     "execution_count": 20,
     "metadata": {},
     "output_type": "execute_result"
    }
   ],
   "source": [
    "lengths = lengths * (n ** 1/8)\n",
    "lengths"
   ]
  },
  {
   "cell_type": "code",
   "execution_count": 21,
   "metadata": {},
   "outputs": [
    {
     "data": {
      "text/plain": [
       "(array([152.,  66.,  10.,   3.,   0.,   0.,   0.,   0.,   0.,   1.]),\n",
       " array([0.0507486 , 0.20524707, 0.35974553, 0.514244  , 0.66874247,\n",
       "        0.82324093, 0.9777394 , 1.13223787, 1.28673633, 1.4412348 ,\n",
       "        1.59573327]),\n",
       " <a list of 10 Patch objects>)"
      ]
     },
     "execution_count": 21,
     "metadata": {},
     "output_type": "execute_result"
    },
    {
     "data": {
      "image/png": "[encoded data removed]",
      "text/plain": [
       "<Figure size 432x288 with 1 Axes>"
      ]
     },
     "metadata": {
      "needs_background": "light"
     },
     "output_type": "display_data"
    }
   ],
   "source": [
    "plt.hist(lengths)"
   ]
  },
  {
   "cell_type": "code",
   "execution_count": null,
   "metadata": {},
   "outputs": [],
   "source": []
  }
 ],
 "metadata": {
  "kernelspec": {
   "display_name": "Python 3",
   "language": "python",
   "name": "python3"
  },
  "language_info": {
   "codemirror_mode": {
    "name": "ipython",
    "version": 3
   },
   "file_extension": ".py",
   "mimetype": "text/x-python",
   "name": "python",
   "nbconvert_exporter": "python",
   "pygments_lexer": "ipython3",
   "version": "3.7.6"
  }
 },
 "nbformat": 4,
 "nbformat_minor": 4
}
