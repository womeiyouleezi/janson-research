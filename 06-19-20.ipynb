{
 "cells": [
  {
   "cell_type": "code",
   "execution_count": 1,
   "metadata": {},
   "outputs": [
    {
     "data": {
      "text/plain": [
       "'/usr/local/opt/python/bin/python3.7'"
      ]
     },
     "execution_count": 1,
     "metadata": {},
     "output_type": "execute_result"
    }
   ],
   "source": [
    "import sys\n",
    "sys.executable"
   ]
  },
  {
   "cell_type": "code",
   "execution_count": 26,
   "metadata": {},
   "outputs": [],
   "source": [
    "import numpy as np\n",
    "import pandas as pd\n",
    "from scipy.spatial import KDTree\n",
    "import math\n",
    "\n",
    "import matplotlib.pyplot as plt\n",
    "\n",
    "from copy import deepcopy"
   ]
  },
  {
   "cell_type": "code",
   "execution_count": 10,
   "metadata": {},
   "outputs": [],
   "source": [
    "# r_n function\n",
    "def r(n, D):\n",
    "    return n ** (-1/(2*D))"
   ]
  },
  {
   "cell_type": "code",
   "execution_count": 23,
   "metadata": {},
   "outputs": [],
   "source": [
    "distances = []\n",
    "counts = []\n",
    "\n",
    "filename = 'slurm scripts/data/06-19-20/asymptotics-dim2_n50000-'\n",
    "\n",
    "for i in range(1,6):\n",
    "    f = open(filename+str(i)+'.out', \"r\")\n",
    "    for line in f:\n",
    "        distance = line.split()[0]\n",
    "        count = line.split()[1]\n",
    "        distances.append(float(distance))\n",
    "        counts.append(int(count))\n",
    "        \n",
    "distances = np.array(distances)\n",
    "counts = np.array(counts)"
   ]
  },
  {
   "cell_type": "code",
   "execution_count": 24,
   "metadata": {},
   "outputs": [],
   "source": [
    "# T_n approaches 1.5 (true length) n^(1/4)\n",
    "\n",
    "n = 50000\n",
    "D = 2\n"
   ]
  },
  {
   "cell_type": "code",
   "execution_count": 27,
   "metadata": {},
   "outputs": [],
   "source": [
    "lengths = deepcopy(distances)"
   ]
  },
  {
   "cell_type": "code",
   "execution_count": 28,
   "metadata": {},
   "outputs": [],
   "source": [
    "lengths = lengths - (counts * (2/3) * r(n,D))"
   ]
  },
  {
   "cell_type": "code",
   "execution_count": 29,
   "metadata": {},
   "outputs": [],
   "source": [
    "lengths = lengths * (n ** 1/8)"
   ]
  },
  {
   "cell_type": "code",
   "execution_count": 33,
   "metadata": {},
   "outputs": [
    {
     "data": {
      "text/plain": [
       "array([ 383.7717705 ,  662.49852937,  662.37701256,  383.82070033,\n",
       "        941.0793262 ,  662.53213857,  383.94358771,  662.48702353,\n",
       "       -452.02330294, -451.90165224,  383.85720226,  106.61870163,\n",
       "        105.22456788,  662.58668569,  662.47361521,  383.86892011,\n",
       "       -173.4485593 ,  383.83952446,  105.2337085 , -451.8454551 ,\n",
       "        105.12725502,  384.1056654 , -452.13109929,  105.13921702,\n",
       "        662.43132426,  105.25077819, -173.46549588,  662.41014396,\n",
       "        383.8490392 ,  105.09654843,  662.43102626,  383.93552614,\n",
       "       -173.39834251, -173.54865346,  105.27504017,  662.42671243,\n",
       "        662.42646873,  941.11369978,  105.13034797,  383.80025882,\n",
       "        383.85704775,  105.37177539, -173.51046922,  662.56881146,\n",
       "        940.99909818,  662.55535277,  383.77001718,  105.20951503,\n",
       "       -173.48844065,  662.46157653,  662.44305703,  662.40278622,\n",
       "        105.26368837,  383.8041947 ,  662.48446258,  662.54043165,\n",
       "        105.17163363,  105.22300019,  105.16663298,  662.49694618,\n",
       "        662.40352112,  383.80830979, -173.29481342,  105.46260814,\n",
       "        384.18687252,  662.5270682 ,  383.79338668,  384.00455699,\n",
       "        941.09118812,  383.84682498,  105.20713618,  662.62983773,\n",
       "        662.75777533, -173.44578522,  941.16692866,  105.15719804,\n",
       "        662.36457569,  384.01922153,  105.27026537,  105.10281556,\n",
       "        105.24484534,  383.81879299, -173.39024162,  662.73169754,\n",
       "        383.78524051,  383.86364608,  105.10254978, -173.24413253,\n",
       "        105.34625093,  105.39162259,  662.3908855 ,  662.60348198,\n",
       "        941.08993581,  383.82299572,  383.78337473,  941.06220511,\n",
       "        941.23634583,  105.28561489,  662.40041684, -730.78783472,\n",
       "        662.46667533, -173.42271979,  383.8670557 , -452.0952101 ,\n",
       "        105.14346987, -451.9688436 ,  662.47093709,  105.21528633,\n",
       "        105.13640539,  662.37950255, -173.49690099,  662.47313035,\n",
       "       -173.43860957,  105.23930927, -173.44235602,  662.5952384 ,\n",
       "        383.77879291,  941.21349216,  105.35155511, -173.43344072,\n",
       "        662.89745156,  662.52982164,  662.56693167,  105.30701355,\n",
       "        105.28812909,  105.21181293, -173.3711755 ,  662.43633344,\n",
       "        383.8772591 , -173.5106049 ,  941.08807056,  383.8861377 ,\n",
       "       1219.78984419, -173.47727693,  383.84851492,  383.77330881,\n",
       "        105.22520362, -173.45985193,  105.18358867,  941.31053871,\n",
       "       -173.422326  ,  105.24322313,  105.20623759,  383.81113771,\n",
       "        383.78427762,  941.02936104,  383.9056452 ,  941.18881505,\n",
       "        383.82977338,  384.01549542,  383.85454822,  105.33157686,\n",
       "        662.74527931,  105.4176717 ,  662.79774318,  662.49306847,\n",
       "        105.15258295, -173.12706494, -173.46064984,  383.87641608,\n",
       "        383.84361406,  105.16040453,  662.52249659, -173.40517723,\n",
       "        105.35261783, -451.92820496,  941.20626715, 1219.79642151,\n",
       "        105.19542621,  105.20716394, -452.14080433,  662.382525  ,\n",
       "        384.10180718,  383.77977496,  662.49390638,  662.57232053,\n",
       "       -172.94987761,  383.78112681,  383.77582455,  662.50741855,\n",
       "        105.24187678,  105.39383043,  383.7636592 ,  383.78623307,\n",
       "        105.19898224,  662.71074009,  662.55908759, -730.77611291,\n",
       "        105.15440957,  105.14771696,  662.54010219,  383.8311446 ,\n",
       "        105.40469354,  941.06175254,  383.76180839,  662.5402075 ,\n",
       "        383.77683741,  105.13644689, -173.30227461, 1219.82749716,\n",
       "        662.42775836,  662.52257669, -452.13333407, -730.77254767,\n",
       "        941.29355617,  941.13987621,  383.99129402,  662.35979768,\n",
       "        941.17619476,  384.27129865,  105.29715063,  383.92314511,\n",
       "        662.56310178, -173.50417853,  662.4294033 ,  662.46377656,\n",
       "        383.76307828,  662.43678489,  941.07670213, -173.44246483,\n",
       "        941.10325098,  105.29280405, -451.800113  ,  105.13965066,\n",
       "        383.78520931,  383.77920185,  105.45401786,  383.89714004,\n",
       "        941.05003136,  105.20387456,  105.56197203,  662.5467321 ,\n",
       "        662.43304896,  383.80953187,  105.20611766,  383.79712328,\n",
       "       -452.14224039,  383.84034068,  662.44165752,  383.79565707,\n",
       "        105.21891345,  105.13615777,  941.22953595, -730.83649299,\n",
       "        662.50434601,  941.2056158 ,  105.14687307, -452.04543124,\n",
       "        383.82348361,  105.21564422, -173.49260354,  105.14507999,\n",
       "        384.03500792, -173.53609728,  662.47192279,  662.44394716,\n",
       "        383.82219037,  105.20680027, -173.42156615, -173.23346608,\n",
       "        383.92094338, -173.48402916,  662.43061036,  383.71160116,\n",
       "        662.45470757,  662.42660974, -173.49258369, -173.37497922,\n",
       "        383.84218682,  383.99697738,  105.22818887,  941.13187622,\n",
       "        105.13489443,  383.77652521,  941.16116479,  662.50457947,\n",
       "        941.24766342,  662.52678807,  662.45281205, -173.26939415,\n",
       "        662.4151755 ,  105.20349464,  662.42352196,  105.29986046,\n",
       "        383.7581539 ,  383.95343562,  105.15075823,  105.24077642,\n",
       "       -173.38270837,  105.1931809 ,  383.77638911,  941.10636243,\n",
       "        941.3033511 ,  383.83220388,  662.46405471, 1219.8072672 ,\n",
       "       -173.30971138, -173.36218429, -173.46145215,  383.88706278,\n",
       "        105.07568841,  383.79560265,  105.26130697,  662.60312498,\n",
       "        383.77810445,  383.83858537,  383.84006589, -173.42779717,\n",
       "       -452.10001432,  383.95740077,  383.75978054,  105.18261307,\n",
       "        105.17482162,  662.45817125,  105.36086512,  383.95979547,\n",
       "        105.16160287,  105.29784379,  383.76162725, -173.40774024,\n",
       "       -452.0079027 ,  105.28337441,  384.06649816,  662.46839268,\n",
       "        105.24738034,  383.81594664, -173.28484227,  941.04222142,\n",
       "        383.81087022,  662.57026439,  941.11111377, -452.0828251 ,\n",
       "        941.3227034 ,  941.13907436,  383.79603221,  383.86170176,\n",
       "        662.43721554,  384.03470522, -730.74267421,  383.92168683,\n",
       "        383.78319195,  662.42137974,  383.85684335,  941.29928285,\n",
       "        941.15405835, -173.38641112,  105.13207679, -173.48189393,\n",
       "        383.86516566,  105.35439775, -452.12596288,  383.71812335,\n",
       "        662.50777709,  105.44215929,  105.30121485,  383.8105758 ,\n",
       "        662.49716671, -173.48289333,  105.3035588 , -173.26571954,\n",
       "        105.20493558,  662.55393548,  941.08728041,  383.87153656,\n",
       "        662.37039024,  383.96809349,  105.19263345,  383.88892141,\n",
       "        662.42901171,  105.0884154 ,  383.77814034,  383.81412975,\n",
       "        662.50568011, -173.42072221,  105.30089635,  383.84938077,\n",
       "        105.26560435,  941.01581662,  662.48996447,  941.10384298,\n",
       "        383.99136636,  383.80907412, -452.08971853,  383.84951511,\n",
       "        383.76448837,  383.75241924,  662.60356819, -173.26277137,\n",
       "        105.23586752,  105.12206092,  662.38512606,  662.37156689,\n",
       "        383.83379522, -173.4104941 ,  105.35012512,  105.11580243,\n",
       "       -173.4809514 ,  662.41810249,  105.11351311,  662.86129527,\n",
       "        383.72968811,  383.84038172,  662.45172702,  383.89222578,\n",
       "       1219.86478658,  662.57671665,  105.11599207,  383.74400467,\n",
       "       -173.41578682,  662.47833624,  105.49192052, -173.43281175,\n",
       "        383.77447355, -173.4162812 , -173.44606695, -173.48892496,\n",
       "        941.15062184,  105.37307857,  383.97350639,  383.7679879 ,\n",
       "        383.93620634, -173.55647943, -173.39014728,  662.65550893,\n",
       "        105.12678577,  105.13200614, -173.45794415, -452.16342153,\n",
       "        384.02597108,  383.8866709 ,  383.7962675 ,  105.18799378,\n",
       "        105.24008751,  383.79084853,  383.8537689 ,  662.50114232,\n",
       "        662.57610229,  105.17267793,  105.12914198,  662.51633382,\n",
       "        662.41617898, -730.71481854,  383.85598119,  105.22512219,\n",
       "        662.41440902,  941.02770517, -173.54763055,  383.94056203,\n",
       "        941.17481077,  105.08643674,  384.14553175,  383.84539873,\n",
       "        383.99696263,  105.27463067,  941.15409967,  662.65007439,\n",
       "        662.50614853,  105.65664551,  105.20795779, -173.42324481,\n",
       "        662.47777247,  383.97623074,  383.81521039, -173.36233233,\n",
       "        662.48931717,  941.10004633,  662.53132221,  105.16165739,\n",
       "        105.27469945, -173.51350586,  383.83827497,  383.80709336,\n",
       "        383.92597196,  105.2739254 ,  105.0952104 ,  105.12804302,\n",
       "        383.80990937,  383.90029059, -173.4612942 ,  662.48842553,\n",
       "        105.13778659,  662.44422281,  941.05065484, -173.39233839,\n",
       "       -173.4806582 ,  105.38433777, -451.91679209,  105.13690524,\n",
       "       -452.11607036,  384.12625677,  662.47638715,  105.20262782,\n",
       "        105.10838374,  105.20811063,  383.97835937, -173.30397567,\n",
       "       -173.5014728 ,  383.83800457,  662.42900634,  105.25169253])"
      ]
     },
     "execution_count": 33,
     "metadata": {},
     "output_type": "execute_result"
    }
   ],
   "source": [
    "lengths"
   ]
  },
  {
   "cell_type": "code",
   "execution_count": 38,
   "metadata": {},
   "outputs": [
    {
     "data": {
      "text/plain": [
       "Text(0.5, 1.0, '100 bins')"
      ]
     },
     "execution_count": 38,
     "metadata": {},
     "output_type": "execute_result"
    },
    {
     "data": {
      "image/png": "[encoded data removed]",
      "text/plain": [
       "<Figure size 432x288 with 1 Axes>"
      ]
     },
     "metadata": {
      "needs_background": "light"
     },
     "output_type": "display_data"
    }
   ],
   "source": [
    "num = 100\n",
    "plt.hist(lengths, bins=num)\n",
    "plt.title(str(num) + ' bins')"
   ]
  },
  {
   "cell_type": "code",
   "execution_count": null,
   "metadata": {},
   "outputs": [],
   "source": []
  }
 ],
 "metadata": {
  "kernelspec": {
   "display_name": "Python 3",
   "language": "python",
   "name": "python3"
  },
  "language_info": {
   "codemirror_mode": {
    "name": "ipython",
    "version": 3
   },
   "file_extension": ".py",
   "mimetype": "text/x-python",
   "name": "python",
   "nbconvert_exporter": "python",
   "pygments_lexer": "ipython3",
   "version": "3.7.6"
  }
 },
 "nbformat": 4,
 "nbformat_minor": 4
}
