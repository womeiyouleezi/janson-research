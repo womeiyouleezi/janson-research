{
 "cells": [
  {
   "cell_type": "code",
   "execution_count": 2,
   "metadata": {},
   "outputs": [
    {
     "data": {
      "text/plain": [
       "'/usr/local/opt/python/bin/python3.7'"
      ]
     },
     "execution_count": 2,
     "metadata": {},
     "output_type": "execute_result"
    }
   ],
   "source": [
    "import sys\n",
    "sys.executable"
   ]
  },
  {
   "cell_type": "code",
   "execution_count": 23,
   "metadata": {},
   "outputs": [],
   "source": [
    "import numpy as np\n",
    "import pandas as pd\n",
    "from scipy.spatial import KDTree\n",
    "from scipy.stats import expon, anderson, probplot, sem\n",
    "import math\n",
    "\n",
    "import matplotlib.pyplot as plt\n",
    "\n",
    "from copy import deepcopy\n",
    "from collections import defaultdict\n",
    "\n",
    "\n",
    "import pickle"
   ]
  },
  {
   "cell_type": "code",
   "execution_count": 4,
   "metadata": {},
   "outputs": [],
   "source": [
    "# r_n function\n",
    "def r(n, D):\n",
    "    return (n ** (-1/(2*D))) / 10\n",
    "    # designed for n = 10^6"
   ]
  },
  {
   "cell_type": "code",
   "execution_count": 5,
   "metadata": {},
   "outputs": [],
   "source": [
    "n = 1000000\n",
    "D = 2\n",
    "\n",
    "x_init = np.array([0.1, 0.1])\n",
    "x_goal = np.array([0.9, 0.9])"
   ]
  },
  {
   "cell_type": "code",
   "execution_count": 28,
   "metadata": {},
   "outputs": [],
   "source": [
    "points = []\n",
    "distances = []\n",
    "S_n = []\n",
    "counts = []\n",
    "\n",
    "T_n_indices = defaultdict(list)\n",
    "\n",
    "filename = 'slurm scripts/data/07-06-20/path_points/'\n",
    "for i in range(1,1001):\n",
    "    #if distances[i] == float('inf'):\n",
    "    #    S_n.append(float('inf'))\n",
    "    #    continue\n",
    "    f = open(filename+str(i)+'-dim2-n1000000_pathpoints.pkl', \"rb\")\n",
    "    pathpoints = pickle.load(f)\n",
    "    points.append(pathpoints)\n",
    "    s_n = 0\n",
    "    for j in range(len(pathpoints)-2):\n",
    "        s_n += np.linalg.norm(pathpoints[j+1] - pathpoints[j])\n",
    "    S_n.append(s_n)\n",
    "    distances.append(s_n + np.linalg.norm(pathpoints[-1] - pathpoints[-2]))\n",
    "    counts.append(len(pathpoints)-2)\n",
    "    T_n_indices[len(pathpoints)-2].append(i)\n",
    "    \n",
    "    if pathpoints[-1][0] != 0.9 or pathpoints[-1][1] != 0.9:\n",
    "        print(i)\n",
    "\n",
    "        \n",
    "distances = np.array(distances)\n",
    "S_n = np.array(S_n)\n",
    "counts = np.array(counts)"
   ]
  },
  {
   "cell_type": "code",
   "execution_count": 7,
   "metadata": {},
   "outputs": [],
   "source": [
    "edge_lengths = []\n",
    "angle_displacements = []\n",
    "for i in range(1, 501):\n",
    "    f = open(filename+str(i)+'-dim2-n1000000_pathpoints.pkl', \"rb\")\n",
    "    pathpoints = pickle.load(f)\n",
    "    for j in range(len(pathpoints)-2):\n",
    "        edge_lengths.append(np.linalg.norm(pathpoints[j+1] - pathpoints[j]))\n",
    "        \n",
    "        #if j == len(pathpoints)-3:\n",
    "        #    continue\n",
    "        \n",
    "        vect_1 = pathpoints[j+1] - pathpoints[j]\n",
    "        vect_2 = x_goal - pathpoints[j]\n",
    "        angle = math.atan2( vect_1[0]*vect_2[1] - vect_1[1]*vect_2[0], vect_1[0]*vect_2[0] + vect_1[1]*vect_2[1])\n",
    "        angle_displacements.append(angle)\n",
    "        \n",
    "edge_lengths = np.array(edge_lengths)\n",
    "angle_displacements = np.array(angle_displacements)"
   ]
  },
  {
   "cell_type": "code",
   "execution_count": 9,
   "metadata": {},
   "outputs": [
    {
     "data": {
      "text/plain": [
       "1000"
      ]
     },
     "execution_count": 9,
     "metadata": {},
     "output_type": "execute_result"
    }
   ],
   "source": [
    "len(counts)"
   ]
  },
  {
   "cell_type": "code",
   "execution_count": 12,
   "metadata": {
    "collapsed": true,
    "jupyter": {
     "outputs_hidden": true
    }
   },
   "outputs": [
    {
     "data": {
      "text/plain": [
       "(array([   31.,    99.,   204.,   318.,   455.,   553.,   690.,   839.,\n",
       "         1018.,  1241.,  1383.,  1522.,  1717.,  1924.,  2153.,  2386.,\n",
       "         2676.,  2858.,  3208.,  3309.,  3662.,  4003.,  4252.,  4411.,\n",
       "         4734.,  5090.,  5277.,  5476.,  5999.,  6094.,  6507.,  6647.,\n",
       "         6818.,  7269.,  7537.,  7780.,  7985.,  8385.,  8592.,  9124.,\n",
       "         9152.,  9417.,  9776.,  9928., 10391., 10616., 10684., 10819.,\n",
       "        11202., 11535.]),\n",
       " array([1.65547906e-06, 6.48678483e-05, 1.28080218e-04, 1.91292587e-04,\n",
       "        2.54504956e-04, 3.17717325e-04, 3.80929695e-04, 4.44142064e-04,\n",
       "        5.07354433e-04, 5.70566802e-04, 6.33779172e-04, 6.96991541e-04,\n",
       "        7.60203910e-04, 8.23416279e-04, 8.86628649e-04, 9.49841018e-04,\n",
       "        1.01305339e-03, 1.07626576e-03, 1.13947813e-03, 1.20269049e-03,\n",
       "        1.26590286e-03, 1.32911523e-03, 1.39232760e-03, 1.45553997e-03,\n",
       "        1.51875234e-03, 1.58196471e-03, 1.64517708e-03, 1.70838945e-03,\n",
       "        1.77160182e-03, 1.83481419e-03, 1.89802656e-03, 1.96123893e-03,\n",
       "        2.02445129e-03, 2.08766366e-03, 2.15087603e-03, 2.21408840e-03,\n",
       "        2.27730077e-03, 2.34051314e-03, 2.40372551e-03, 2.46693788e-03,\n",
       "        2.53015025e-03, 2.59336262e-03, 2.65657499e-03, 2.71978736e-03,\n",
       "        2.78299973e-03, 2.84621210e-03, 2.90942446e-03, 2.97263683e-03,\n",
       "        3.03584920e-03, 3.09906157e-03, 3.16227394e-03]),\n",
       " <a list of 50 Patch objects>)"
      ]
     },
     "execution_count": 12,
     "metadata": {},
     "output_type": "execute_result"
    },
    {
     "data": {
      "image/png": "[encoded data removed]",
      "text/plain": [
       "<Figure size 432x288 with 1 Axes>"
      ]
     },
     "metadata": {
      "needs_background": "light"
     },
     "output_type": "display_data"
    }
   ],
   "source": [
    "plt.hist(edge_lengths, bins=50)"
   ]
  },
  {
   "cell_type": "code",
   "execution_count": 14,
   "metadata": {
    "collapsed": true,
    "jupyter": {
     "outputs_hidden": true
    }
   },
   "outputs": [
    {
     "data": {
      "text/plain": [
       "(array([5.1365e+04, 4.1713e+04, 3.3461e+04, 2.6786e+04, 2.1524e+04,\n",
       "        1.6906e+04, 1.3766e+04, 1.0748e+04, 8.6560e+03, 6.8840e+03,\n",
       "        5.4610e+03, 4.2910e+03, 3.3490e+03, 2.6910e+03, 2.1700e+03,\n",
       "        1.6700e+03, 1.2580e+03, 1.1360e+03, 8.0500e+02, 6.5600e+02,\n",
       "        5.1800e+02, 4.1500e+02, 3.0500e+02, 2.5900e+02, 1.9400e+02,\n",
       "        1.6200e+02, 1.4400e+02, 1.0900e+02, 7.7000e+01, 4.8000e+01,\n",
       "        4.6000e+01, 3.8000e+01, 3.4000e+01, 1.9000e+01, 1.5000e+01,\n",
       "        1.1000e+01, 1.4000e+01, 7.0000e+00, 7.0000e+00, 6.0000e+00,\n",
       "        8.0000e+00, 1.0000e+00, 2.0000e+00, 3.0000e+00, 2.0000e+00,\n",
       "        2.0000e+00, 0.0000e+00, 1.0000e+00, 2.0000e+00, 1.0000e+00]),\n",
       " array([4.74218698e-07, 2.56134490e-02, 5.12264238e-02, 7.68393986e-02,\n",
       "        1.02452373e-01, 1.28065348e-01, 1.53678323e-01, 1.79291298e-01,\n",
       "        2.04904273e-01, 2.30517247e-01, 2.56130222e-01, 2.81743197e-01,\n",
       "        3.07356172e-01, 3.32969147e-01, 3.58582122e-01, 3.84195096e-01,\n",
       "        4.09808071e-01, 4.35421046e-01, 4.61034021e-01, 4.86646996e-01,\n",
       "        5.12259970e-01, 5.37872945e-01, 5.63485920e-01, 5.89098895e-01,\n",
       "        6.14711870e-01, 6.40324844e-01, 6.65937819e-01, 6.91550794e-01,\n",
       "        7.17163769e-01, 7.42776744e-01, 7.68389718e-01, 7.94002693e-01,\n",
       "        8.19615668e-01, 8.45228643e-01, 8.70841618e-01, 8.96454592e-01,\n",
       "        9.22067567e-01, 9.47680542e-01, 9.73293517e-01, 9.98906492e-01,\n",
       "        1.02451947e+00, 1.05013244e+00, 1.07574542e+00, 1.10135839e+00,\n",
       "        1.12697137e+00, 1.15258434e+00, 1.17819732e+00, 1.20381029e+00,\n",
       "        1.22942326e+00, 1.25503624e+00, 1.28064921e+00]),\n",
       " <a list of 50 Patch objects>)"
      ]
     },
     "execution_count": 14,
     "metadata": {},
     "output_type": "execute_result"
    },
    {
     "data": {
      "image/png": "[encoded data removed]",
      "text/plain": [
       "<Figure size 432x288 with 1 Axes>"
      ]
     },
     "metadata": {
      "needs_background": "light"
     },
     "output_type": "display_data"
    }
   ],
   "source": [
    "plt.hist(np.abs(angle_displacements), bins=50)"
   ]
  },
  {
   "cell_type": "code",
   "execution_count": 18,
   "metadata": {},
   "outputs": [
    {
     "data": {
      "text/plain": [
       "492"
      ]
     },
     "execution_count": 18,
     "metadata": {},
     "output_type": "execute_result"
    }
   ],
   "source": [
    "max(set(counts)) - min(set(counts))"
   ]
  },
  {
   "cell_type": "code",
   "execution_count": 19,
   "metadata": {},
   "outputs": [
    {
     "data": {
      "text/plain": [
       "Text(0.5, 1.0, '46 bins')"
      ]
     },
     "execution_count": 19,
     "metadata": {},
     "output_type": "execute_result"
    },
    {
     "data": {
      "image/png": "[encoded data removed]",
      "text/plain": [
       "<Figure size 1440x432 with 1 Axes>"
      ]
     },
     "metadata": {
      "needs_background": "light"
     },
     "output_type": "display_data"
    }
   ],
   "source": [
    "num = 46\n",
    "plt.figure(figsize=(20, 6))\n",
    "plt.hist(counts, range(min(counts), 1+max(counts)))\n",
    "plt.xticks(range(min(counts), 1+max(counts)))\n",
    "plt.title(str(num) + ' bins')"
   ]
  },
  {
   "cell_type": "code",
   "execution_count": 20,
   "metadata": {},
   "outputs": [
    {
     "data": {
      "text/plain": [
       "36.445759"
      ]
     },
     "execution_count": 20,
     "metadata": {},
     "output_type": "execute_result"
    }
   ],
   "source": [
    "np.std(counts) ** 2"
   ]
  },
  {
   "cell_type": "code",
   "execution_count": 16,
   "metadata": {},
   "outputs": [
    {
     "data": {
      "text/plain": [
       "False"
      ]
     },
     "execution_count": 16,
     "metadata": {},
     "output_type": "execute_result"
    }
   ],
   "source": [
    "500 in counts"
   ]
  },
  {
   "cell_type": "code",
   "execution_count": 21,
   "metadata": {},
   "outputs": [
    {
     "data": {
      "text/plain": [
       "31.41592653589792"
      ]
     },
     "execution_count": 21,
     "metadata": {},
     "output_type": "execute_result"
    }
   ],
   "source": [
    "# expected number of points in ball\n",
    "( r(n,D) ** 2) * math.pi * n"
   ]
  },
  {
   "cell_type": "code",
   "execution_count": 18,
   "metadata": {},
   "outputs": [
    {
     "name": "stdout",
     "output_type": "stream",
     "text": [
      "533.9752683497045\n"
     ]
    }
   ],
   "source": [
    "# expected limit of T_n as n goes to infinity\n",
    "T = (0.8 * (2 ** 0.5)) / (2/3 * r(n,D)) * math.cos(math.pi / 31.41592653589792)\n",
    "print(T)"
   ]
  },
  {
   "cell_type": "code",
   "execution_count": 22,
   "metadata": {},
   "outputs": [
    {
     "data": {
      "text/plain": [
       "0.027426899385713653"
      ]
     },
     "execution_count": 22,
     "metadata": {},
     "output_type": "execute_result"
    }
   ],
   "source": [
    "# empirical variance\n",
    "\n",
    "np.std((S_n) * (np.sqrt(counts))) ** 2"
   ]
  },
  {
   "cell_type": "code",
   "execution_count": null,
   "metadata": {},
   "outputs": [],
   "source": [
    "# chain 1: step 1\n",
    "# law of total variance step"
   ]
  },
  {
   "cell_type": "code",
   "execution_count": 40,
   "metadata": {},
   "outputs": [
    {
     "ename": "TypeError",
     "evalue": "'numpy.float64' object cannot be interpreted as an integer",
     "output_type": "error",
     "traceback": [
      "\u001b[0;31m---------------------------------------------------------------------------\u001b[0m",
      "\u001b[0;31mTypeError\u001b[0m                                 Traceback (most recent call last)",
      "\u001b[0;32m<ipython-input-40-5dfae3eb186a>\u001b[0m in \u001b[0;36m<module>\u001b[0;34m\u001b[0m\n\u001b[1;32m     26\u001b[0m \u001b[0;32mfor\u001b[0m \u001b[0mi\u001b[0m \u001b[0;32min\u001b[0m \u001b[0mrange\u001b[0m\u001b[0;34m(\u001b[0m\u001b[0mlen\u001b[0m\u001b[0;34m(\u001b[0m\u001b[0mtemp_array\u001b[0m\u001b[0;34m)\u001b[0m\u001b[0;34m)\u001b[0m\u001b[0;34m:\u001b[0m\u001b[0;34m\u001b[0m\u001b[0;34m\u001b[0m\u001b[0m\n\u001b[1;32m     27\u001b[0m     \u001b[0mtemp\u001b[0m \u001b[0;34m=\u001b[0m \u001b[0;36m0\u001b[0m\u001b[0;34m\u001b[0m\u001b[0;34m\u001b[0m\u001b[0m\n\u001b[0;32m---> 28\u001b[0;31m     \u001b[0;32mfor\u001b[0m \u001b[0mj\u001b[0m \u001b[0;32min\u001b[0m \u001b[0mrange\u001b[0m\u001b[0;34m(\u001b[0m\u001b[0mtemp_array\u001b[0m\u001b[0;34m[\u001b[0m\u001b[0mi\u001b[0m\u001b[0;34m]\u001b[0m\u001b[0;34m)\u001b[0m\u001b[0;34m:\u001b[0m\u001b[0;34m\u001b[0m\u001b[0;34m\u001b[0m\u001b[0m\n\u001b[0m\u001b[1;32m     29\u001b[0m         \u001b[0mtemp\u001b[0m \u001b[0;34m+=\u001b[0m \u001b[0mnp\u001b[0m\u001b[0;34m.\u001b[0m\u001b[0mmean\u001b[0m\u001b[0;34m(\u001b[0m\u001b[0mdict_2\u001b[0m\u001b[0;34m[\u001b[0m\u001b[0mt\u001b[0m\u001b[0;34m]\u001b[0m\u001b[0;34m[\u001b[0m\u001b[0mj\u001b[0m\u001b[0;34m]\u001b[0m\u001b[0;34m)\u001b[0m\u001b[0;34m\u001b[0m\u001b[0;34m\u001b[0m\u001b[0m\n\u001b[1;32m     30\u001b[0m     \u001b[0mtemp_array\u001b[0m\u001b[0;34m[\u001b[0m\u001b[0mi\u001b[0m\u001b[0;34m]\u001b[0m \u001b[0;34m=\u001b[0m \u001b[0mtemp_array\u001b[0m\u001b[0;34m[\u001b[0m\u001b[0mi\u001b[0m\u001b[0;34m]\u001b[0m \u001b[0;34m*\u001b[0m \u001b[0mtemp\u001b[0m\u001b[0;34m\u001b[0m\u001b[0;34m\u001b[0m\u001b[0m\n",
      "\u001b[0;31mTypeError\u001b[0m: 'numpy.float64' object cannot be interpreted as an integer"
     ]
    }
   ],
   "source": [
    "# chain 1: step 2\n",
    "# assumption of linearity of (conditional) variance\n",
    "\n",
    "# first, calculate empirical value of E(R_ni | T_n) and Var(R_ni | T_n) for each i\n",
    "dict_2 = {}\n",
    "for t in set(counts):\n",
    "    dict_2[t] = {}\n",
    "\n",
    "for k in T_n_indices.keys():\n",
    "    for idx in T_n_indices[k]:\n",
    "        for j in range(len(points[idx-1]) - 2):\n",
    "            if j not in dict_2[k].keys():\n",
    "                dict_2[k][j] = [np.linalg.norm(points[idx-1][j+1] - points[idx-1][j])]\n",
    "            else:\n",
    "                dict_2[k][j].append(np.linalg.norm(points[idx-1][j+1] - points[idx-1][j]))\n",
    "\n",
    "first_term_2 = 0\n",
    "for t in counts:\n",
    "    temp = 0\n",
    "    for i in range(t):\n",
    "        temp += np.std(dict_2[t][i]) ** 2\n",
    "    first_term_2 += (temp * t)\n",
    "first_term_2 /= len(counts)\n",
    "\n",
    "temp_array = deepcopy(counts ** (1/2))\n",
    "for i in range(len(temp_array)):\n",
    "    temp = 0\n",
    "    for j in range(len(temp_array[i])):\n",
    "        temp += np.mean(dict_2[t][j])\n",
    "    temp_array[i] = temp_array[i] * temp\n",
    "second_term_2 = np.std(temp_array) ** 2\n",
    "\n",
    "print('First term: ' + str(first_term_2))\n",
    "print('Second term: ' + str(second_term_2))\n",
    "print('Value: ' + str(first_term_2 + second_term_2))"
   ]
  },
  {
   "cell_type": "code",
   "execution_count": 38,
   "metadata": {},
   "outputs": [
    {
     "name": "stdout",
     "output_type": "stream",
     "text": [
      "First term: 0.12362247160197644\n",
      "Second term: 0.026180291434548263\n",
      "Value: 0.1498027630365247\n"
     ]
    }
   ],
   "source": [
    "# chain 1: step 3\n",
    "# assumption of identical distributions among R_ni\n",
    "\n",
    "# first, calculate empirical value of E(R_ni | T_n) and Var(R_ni | T_n)\n",
    "dict_3 = {}\n",
    "for t in set(counts):\n",
    "    dict_3[t] = {'mean': 0, 'variance': 0}\n",
    "\n",
    "for k in T_n_indices.keys():\n",
    "    edges_array = []\n",
    "    for idx in T_n_indices[k]:\n",
    "        for j in range(len(points[idx-1]) - 2):\n",
    "            edges_array.append(np.linalg.norm(points[idx-1][j+1] - points[idx-1][j]))\n",
    "    dict_3[k]['mean'] = np.mean(edges_array)\n",
    "    dict_3[k]['variance'] = np.std(edges_array) ** 2\n",
    "    \n",
    "first_term_3 = 0\n",
    "for t in counts:\n",
    "    first_term_3 += (t ** 2) * dict_3[t]['variance']\n",
    "first_term_3 /= len(counts)\n",
    "\n",
    "temp_array = deepcopy(counts ** (3/2))\n",
    "for i in range(len(temp_array)):\n",
    "    temp_array[i] = temp_array[i] * dict_3[counts[i]]['mean']\n",
    "second_term_3 = np.std(temp_array) ** 2\n",
    "\n",
    "print('First term: ' + str(first_term_3))\n",
    "print('Second term: ' + str(second_term_3))\n",
    "print('Value: ' + str(first_term_3 + second_term_3))"
   ]
  },
  {
   "cell_type": "code",
   "execution_count": 26,
   "metadata": {},
   "outputs": [
    {
     "name": "stdout",
     "output_type": "stream",
     "text": [
      "First term: 0.14760847388888884\n",
      "Second term: 42315.16668828792\n",
      "Value: 42315.31429676181\n"
     ]
    }
   ],
   "source": [
    "# chain 1: step 4\n",
    "# assumption of independence between R_ni and T_n, substitution of mean and variance of R_ni\n",
    "\n",
    "first_term_4 = (np.mean(counts ** 2) * (1/18) * (r(n, D) ** 2))\n",
    "second_term_4 = np.std(counts ** (3/2)) ** 2\n",
    "print('First term: ' + str(first_term_4))\n",
    "print('Second term: ' + str(second_term_4))\n",
    "print('Value: ' + str(first_term_4 + second_term_4))"
   ]
  },
  {
   "cell_type": "code",
   "execution_count": 39,
   "metadata": {},
   "outputs": [
    {
     "name": "stdout",
     "output_type": "stream",
     "text": [
      "Value: 0.14760847388888884\n"
     ]
    }
   ],
   "source": [
    "# chain 1: step 5\n",
    "# T_n approaches a constant as n goes to infinity, so Var(T_n^(3/2)) goes to 0.\n",
    "\n",
    "print('Value: ' + str(first_term_4))"
   ]
  },
  {
   "cell_type": "code",
   "execution_count": null,
   "metadata": {},
   "outputs": [],
   "source": []
  }
 ],
 "metadata": {
  "kernelspec": {
   "display_name": "Python 3",
   "language": "python",
   "name": "python3"
  },
  "language_info": {
   "codemirror_mode": {
    "name": "ipython",
    "version": 3
   },
   "file_extension": ".py",
   "mimetype": "text/x-python",
   "name": "python",
   "nbconvert_exporter": "python",
   "pygments_lexer": "ipython3",
   "version": "3.7.6"
  }
 },
 "nbformat": 4,
 "nbformat_minor": 4
}
