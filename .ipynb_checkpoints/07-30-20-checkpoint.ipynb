{
 "cells": [
  {
   "cell_type": "code",
   "execution_count": null,
   "metadata": {},
   "outputs": [],
   "source": [
    "import sys\n",
    "sys.executable"
   ]
  },
  {
   "cell_type": "code",
   "execution_count": 2,
   "metadata": {},
   "outputs": [],
   "source": [
    "import numpy as np\n",
    "import pandas as pd\n",
    "from scipy.spatial import KDTree\n",
    "from scipy.stats import expon, anderson, probplot, sem\n",
    "import math\n",
    "\n",
    "import matplotlib.pyplot as plt\n",
    "\n",
    "from copy import deepcopy\n",
    "from collections import defaultdict\n",
    "\n",
    "from ipywidgets import interact, interactive, fixed, interact_manual\n",
    "import ipywidgets as widgets\n",
    "\n",
    "import pickle"
   ]
  },
  {
   "cell_type": "code",
   "execution_count": 3,
   "metadata": {},
   "outputs": [],
   "source": [
    "# r_n function\n",
    "def r(n, D):\n",
    "    return (n ** (-1/(2*D))) / 10\n",
    "    # designed for n = 10^6"
   ]
  },
  {
   "cell_type": "code",
   "execution_count": 4,
   "metadata": {},
   "outputs": [],
   "source": [
    "n = 1000000\n",
    "D = 2\n",
    "\n",
    "x_init = np.array([0.1, 0.1])\n",
    "x_goal = np.array([0.9, 0.9])"
   ]
  },
  {
   "cell_type": "code",
   "execution_count": 5,
   "metadata": {},
   "outputs": [],
   "source": [
    "filename = 'slurm scripts/data/07-06-20/path_points/'"
   ]
  },
  {
   "cell_type": "code",
   "execution_count": 6,
   "metadata": {},
   "outputs": [],
   "source": [
    "points = []\n",
    "distances = []\n",
    "S_n = []\n",
    "counts = []\n",
    "\n",
    "T_n_indices = defaultdict(list)\n",
    "\n",
    "for i in range(1,1001):\n",
    "    #if distances[i] == float('inf'):\n",
    "    #    S_n.append(float('inf'))\n",
    "    #    continue\n",
    "    f = open(filename+str(i)+'-dim2-n1000000_pathpoints.pkl', \"rb\")\n",
    "    pathpoints = pickle.load(f)\n",
    "    points.append(pathpoints)\n",
    "    s_n = 0\n",
    "    for j in range(len(pathpoints)-2):\n",
    "        s_n += np.linalg.norm(pathpoints[j+1] - pathpoints[j])\n",
    "    S_n.append(s_n)\n",
    "    distances.append(s_n + np.linalg.norm(pathpoints[-1] - pathpoints[-2]))\n",
    "    counts.append(len(pathpoints)-2)\n",
    "    T_n_indices[len(pathpoints)-2].append(i)\n",
    "    \n",
    "    if pathpoints[-1][0] != 0.9 or pathpoints[-1][1] != 0.9:\n",
    "        print(i)\n",
    "\n",
    "        \n",
    "distances = np.array(distances)\n",
    "S_n = np.array(S_n)\n",
    "counts = np.array(counts)"
   ]
  },
  {
   "cell_type": "code",
   "execution_count": 7,
   "metadata": {},
   "outputs": [],
   "source": [
    "edge_lengths = []\n",
    "angle_displacements = []\n",
    "for i in range(1, 501):\n",
    "    f = open(filename+str(i)+'-dim2-n1000000_pathpoints.pkl', \"rb\")\n",
    "    pathpoints = pickle.load(f)\n",
    "    for j in range(len(pathpoints)-2):\n",
    "        edge_lengths.append(np.linalg.norm(pathpoints[j+1] - pathpoints[j]))\n",
    "        \n",
    "        #if j == len(pathpoints)-3:\n",
    "        #    continue\n",
    "        \n",
    "        vect_1 = pathpoints[j+1] - pathpoints[j]\n",
    "        vect_2 = x_goal - pathpoints[j]\n",
    "        angle = math.atan2( vect_1[0]*vect_2[1] - vect_1[1]*vect_2[0], vect_1[0]*vect_2[0] + vect_1[1]*vect_2[1])\n",
    "        angle_displacements.append(angle)\n",
    "        \n",
    "edge_lengths = np.array(edge_lengths)\n",
    "angle_displacements = np.array(angle_displacements)"
   ]
  },
  {
   "cell_type": "code",
   "execution_count": 8,
   "metadata": {},
   "outputs": [],
   "source": [
    "# for a given path (simulation), look at the distribution of angle displacements (signed)\n",
    "\n",
    "angles_by_path = defaultdict(list)\n",
    "\n",
    "for i in range(1, 1001):\n",
    "    f = open(filename+str(i)+'-dim2-n1000000_pathpoints.pkl', \"rb\")\n",
    "    pathpoints = pickle.load(f)\n",
    "    for j in range(len(pathpoints)-2):\n",
    "        #edge_lengths.append(np.linalg.norm(pathpoints[j+1] - pathpoints[j]))\n",
    "                #if j == len(pathpoints)-3:\n",
    "        #    continue\n",
    "        vect_1 = pathpoints[j+1] - pathpoints[j]\n",
    "        vect_2 = x_goal - pathpoints[j]\n",
    "        angle = math.atan2( vect_1[0]*vect_2[1] - vect_1[1]*vect_2[0], vect_1[0]*vect_2[0] + vect_1[1]*vect_2[1])\n",
    "        angles_by_path[i].append(angle)"
   ]
  },
  {
   "cell_type": "code",
   "execution_count": 9,
   "metadata": {},
   "outputs": [],
   "source": [
    "def show_hist_1(path_idx):\n",
    "    #path_idx = 1\n",
    "\n",
    "    plt.figure(figsize=(20, 6))\n",
    "    plt.hist(angles_by_path[path_idx], bins=50)\n",
    "    plt.title('Number of data points: '+str(len(angles_by_path[path_idx])))\n",
    "    plt.show()\n",
    "    \n",
    "    print('mean: ' + str(np.mean(angles_by_path[path_idx])))\n",
    "    print('median: ' + str(np.median(angles_by_path[path_idx])))\n",
    "    print('std: ' + str(np.std(angles_by_path[path_idx])))"
   ]
  },
  {
   "cell_type": "code",
   "execution_count": 10,
   "metadata": {},
   "outputs": [
    {
     "data": {
      "application/vnd.jupyter.widget-view+json": {
       "model_id": "8df4f6b86ee04955bc7007c5d67819ed",
       "version_major": 2,
       "version_minor": 0
      },
      "text/plain": [
       "interactive(children=(IntSlider(value=1, description='path_idx', max=1000, min=1), Output()), _dom_classes=('w…"
      ]
     },
     "metadata": {},
     "output_type": "display_data"
    },
    {
     "data": {
      "text/plain": [
       "<function __main__.show_hist_1(path_idx)>"
      ]
     },
     "execution_count": 10,
     "metadata": {},
     "output_type": "execute_result"
    }
   ],
   "source": [
    "interact(show_hist_1, path_idx=widgets.IntSlider(min=1, max=1000, step=1, value=1))"
   ]
  },
  {
   "cell_type": "code",
   "execution_count": 12,
   "metadata": {},
   "outputs": [],
   "source": [
    "# for a given path (simulation), look at the distribution of edge lengths \n",
    "\n",
    "edges_by_path = defaultdict(list)\n",
    "\n",
    "for i in range(1, 1001):\n",
    "    f = open(filename+str(i)+'-dim2-n1000000_pathpoints.pkl', \"rb\")\n",
    "    pathpoints = pickle.load(f)\n",
    "    for j in range(len(pathpoints)-2):\n",
    "        edges_by_path[i].append(np.linalg.norm(pathpoints[j+1] - pathpoints[j]))"
   ]
  },
  {
   "cell_type": "code",
   "execution_count": 19,
   "metadata": {},
   "outputs": [],
   "source": [
    "def show_hist_2(path_idx):\n",
    "    #path_idx = 1\n",
    "\n",
    "    plt.figure(figsize=(20, 6))\n",
    "    plt.hist(edges_by_path[path_idx], bins=75)\n",
    "    plt.title('Number of data points: '+str(len(edges_by_path[path_idx])))\n",
    "    plt.show()"
   ]
  },
  {
   "cell_type": "code",
   "execution_count": 20,
   "metadata": {},
   "outputs": [
    {
     "data": {
      "application/vnd.jupyter.widget-view+json": {
       "model_id": "ec43366f496346448336e0fc464a5664",
       "version_major": 2,
       "version_minor": 0
      },
      "text/plain": [
       "interactive(children=(IntSlider(value=1, description='path_idx', max=1000, min=1), Output()), _dom_classes=('w…"
      ]
     },
     "metadata": {},
     "output_type": "display_data"
    },
    {
     "data": {
      "text/plain": [
       "<function __main__.show_hist_2(path_idx)>"
      ]
     },
     "execution_count": 20,
     "metadata": {},
     "output_type": "execute_result"
    }
   ],
   "source": [
    "interact(show_hist_2, path_idx=widgets.IntSlider(min=1, max=1000, step=1, value=1))"
   ]
  },
  {
   "cell_type": "code",
   "execution_count": 35,
   "metadata": {},
   "outputs": [
    {
     "data": {
      "image/png": "[encoded data removed]",
      "text/plain": [
       "<Figure size 1440x432 with 1 Axes>"
      ]
     },
     "metadata": {
      "needs_background": "light"
     },
     "output_type": "display_data"
    },
    {
     "name": "stdout",
     "output_type": "stream",
     "text": [
      "mean: 0.1122631808496016\n",
      "median: 0.07890720442903185\n",
      "std: 0.11034222767749928\n"
     ]
    }
   ],
   "source": [
    "plt.figure(figsize=(20, 6))\n",
    "plt.hist(np.abs(angle_displacements), bins=100)\n",
    "plt.title('Number of data points: ' + str(len(angle_displacements)))\n",
    "plt.show()\n",
    "\n",
    "print('mean: ' + str(np.mean(np.abs(angle_displacements))))\n",
    "print('median: ' + str(np.median(np.abs(angle_displacements))))\n",
    "print('std: ' + str(np.std(np.abs(angle_displacements))))"
   ]
  },
  {
   "cell_type": "code",
   "execution_count": 13,
   "metadata": {},
   "outputs": [
    {
     "data": {
      "text/plain": [
       "0.10000000000000002"
      ]
     },
     "execution_count": 13,
     "metadata": {},
     "output_type": "execute_result"
    }
   ],
   "source": [
    "1/(n * (r(n, D) ** 2) * math.pi) * math.pi"
   ]
  },
  {
   "cell_type": "code",
   "execution_count": 40,
   "metadata": {},
   "outputs": [
    {
     "data": {
      "image/png": "[encoded data removed]",
      "text/plain": [
       "<Figure size 1440x432 with 1 Axes>"
      ]
     },
     "metadata": {
      "needs_background": "light"
     },
     "output_type": "display_data"
    },
    {
     "name": "stdout",
     "output_type": "stream",
     "text": [
      "mean: 0.0022180654317228983\n",
      "median: 0.002346007257268183\n",
      "std: 0.0006833360651478497\n"
     ]
    }
   ],
   "source": [
    "plt.figure(figsize=(20, 6))\n",
    "plt.hist(np.abs(edge_lengths), bins=100)\n",
    "plt.title('Number of data points: ' + str(len(edge_lengths)))\n",
    "plt.show()\n",
    "\n",
    "print('mean: ' + str(np.mean(np.abs(edge_lengths))))\n",
    "print('median: ' + str(np.median(np.abs(edge_lengths))))\n",
    "print('std: ' + str(np.std(np.abs(edge_lengths))))"
   ]
  },
  {
   "cell_type": "code",
   "execution_count": 39,
   "metadata": {},
   "outputs": [
    {
     "data": {
      "text/plain": [
       "31.41592653589792"
      ]
     },
     "execution_count": 39,
     "metadata": {},
     "output_type": "execute_result"
    }
   ],
   "source": [
    "( r(n,D) ** 2) * math.pi * n"
   ]
  },
  {
   "cell_type": "code",
   "execution_count": 43,
   "metadata": {},
   "outputs": [
    {
     "data": {
      "text/plain": [
       "0.0021081851067789193"
      ]
     },
     "execution_count": 43,
     "metadata": {},
     "output_type": "execute_result"
    }
   ],
   "source": [
    "r(n, D) * (2/3)"
   ]
  },
  {
   "cell_type": "code",
   "execution_count": 48,
   "metadata": {},
   "outputs": [],
   "source": [
    "temp = defaultdict(list)\n",
    "\n",
    "# temp[i] = [#above, #below]\n",
    "\n",
    "for i in range(1,1001):\n",
    "    temp[i].append(0)\n",
    "    temp[i].append(0)\n",
    "    for p in points[i-1]:\n",
    "        if p[0] > p[1]:\n",
    "            temp[i][1] += 1\n",
    "        elif p[0] < p[1]:\n",
    "            temp[i][0] += 1\n",
    "        else:\n",
    "            pass"
   ]
  },
  {
   "cell_type": "code",
   "execution_count": 51,
   "metadata": {},
   "outputs": [],
   "source": [
    "def show_counts_1(path_idx):\n",
    "    print('# above shortest path: ' + str(temp[path_idx][0]))\n",
    "    print('# below shortest path: ' + str(temp[path_idx][1]))"
   ]
  },
  {
   "cell_type": "code",
   "execution_count": 52,
   "metadata": {},
   "outputs": [
    {
     "data": {
      "application/vnd.jupyter.widget-view+json": {
       "model_id": "56428102d1204a22af8dd851b7e9c8ca",
       "version_major": 2,
       "version_minor": 0
      },
      "text/plain": [
       "interactive(children=(IntSlider(value=1, description='path_idx', max=1000, min=1), Output()), _dom_classes=('w…"
      ]
     },
     "metadata": {},
     "output_type": "display_data"
    },
    {
     "data": {
      "text/plain": [
       "<function __main__.show_counts_1(path_idx)>"
      ]
     },
     "execution_count": 52,
     "metadata": {},
     "output_type": "execute_result"
    }
   ],
   "source": [
    "interact(show_counts_1, path_idx=widgets.IntSlider(min=1, max=1000, step=1, value=1))"
   ]
  },
  {
   "cell_type": "code",
   "execution_count": null,
   "metadata": {},
   "outputs": [],
   "source": [
    "temp_2 = defaultdict(list)\n",
    "\n",
    "for i in range(1,1001):\n",
    "    for p in points[i-1][1:-1]:\n",
    "        "
   ]
  },
  {
   "cell_type": "code",
   "execution_count": 56,
   "metadata": {},
   "outputs": [
    {
     "data": {
      "image/png": "[encoded data removed]",
      "text/plain": [
       "<Figure size 1440x432 with 1 Axes>"
      ]
     },
     "metadata": {
      "needs_background": "light"
     },
     "output_type": "display_data"
    },
    {
     "name": "stdout",
     "output_type": "stream",
     "text": [
      "mean: -13.373\n",
      "median: -18.0\n",
      "std: 300.8685159184989\n"
     ]
    }
   ],
   "source": [
    "# the above shows that the path followed by the traversal is in fact not in any way mean-reverting\n",
    "# below we can plot this histogram for (# above - #below)\n",
    "\n",
    "above_below_diff = []\n",
    "for k in temp.keys():\n",
    "    above_below_diff.append(temp[k][0] - temp[k][1])\n",
    "\n",
    "plt.figure(figsize=(20, 6))\n",
    "plt.hist(above_below_diff, bins=30)\n",
    "plt.title('Number of data points: ' + str(len(above_below_diff)))\n",
    "plt.show()\n",
    "\n",
    "print('mean: ' + str(np.mean(above_below_diff)))\n",
    "print('median: ' + str(np.median(above_below_diff)))\n",
    "print('std: ' + str(np.std(above_below_diff)))"
   ]
  },
  {
   "cell_type": "code",
   "execution_count": null,
   "metadata": {},
   "outputs": [],
   "source": [
    "plt.figure(figsize=(20, 6))\n",
    "plt.hist(counts, range(min(counts), 1+max(counts)))\n",
    "#plt.xticks(range(min(T_array), 1+max(T_array)))\n",
    "#plt.title(str(num) + ' bins')\n",
    "print(np.mean(counts))"
   ]
  },
  {
   "cell_type": "code",
   "execution_count": null,
   "metadata": {},
   "outputs": [],
   "source": []
  }
 ],
 "metadata": {
  "kernelspec": {
   "display_name": "Python 3",
   "language": "python",
   "name": "python3"
  },
  "language_info": {
   "codemirror_mode": {
    "name": "ipython",
    "version": 3
   },
   "file_extension": ".py",
   "mimetype": "text/x-python",
   "name": "python",
   "nbconvert_exporter": "python",
   "pygments_lexer": "ipython3",
   "version": "3.7.6"
  }
 },
 "nbformat": 4,
 "nbformat_minor": 4
}
