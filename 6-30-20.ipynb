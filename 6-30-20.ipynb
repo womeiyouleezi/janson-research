{
 "cells": [
  {
   "cell_type": "code",
   "execution_count": 1,
   "metadata": {},
   "outputs": [
    {
     "data": {
      "text/plain": [
       "'/usr/local/opt/python/bin/python3.7'"
      ]
     },
     "execution_count": 1,
     "metadata": {},
     "output_type": "execute_result"
    }
   ],
   "source": [
    "import sys\n",
    "sys.executable"
   ]
  },
  {
   "cell_type": "code",
   "execution_count": 2,
   "metadata": {},
   "outputs": [],
   "source": [
    "import numpy as np\n",
    "import pandas as pd\n",
    "from scipy.spatial import KDTree\n",
    "from scipy.stats import expon\n",
    "import math\n",
    "\n",
    "import matplotlib.pyplot as plt\n",
    "\n",
    "from copy import deepcopy\n",
    "\n",
    "import pickle"
   ]
  },
  {
   "cell_type": "code",
   "execution_count": 3,
   "metadata": {},
   "outputs": [],
   "source": [
    "x_goal = np.array([0.9, 0.9])"
   ]
  },
  {
   "cell_type": "code",
   "execution_count": 4,
   "metadata": {},
   "outputs": [],
   "source": [
    "# r_n function\n",
    "def r(n, D):\n",
    "    return (n ** (-1/(2*D))) / 5 "
   ]
  },
  {
   "cell_type": "code",
   "execution_count": 11,
   "metadata": {},
   "outputs": [],
   "source": [
    "n = 50000\n",
    "D = 2"
   ]
  },
  {
   "cell_type": "code",
   "execution_count": 5,
   "metadata": {},
   "outputs": [],
   "source": [
    "distances = []\n",
    "S_n = []\n",
    "counts = []\n",
    "\n",
    "#g = open('slurm scripts/data/06-24-20/asymptotics-dim2_n50000.out', 'r')\n",
    "#for line in g:\n",
    "#    distances.append(float(line))\n",
    "\n",
    "filename = 'slurm scripts/data/06-24-20/path_points/'\n",
    "for i in range(1,501):\n",
    "    #if distances[i] == float('inf'):\n",
    "    #    S_n.append(float('inf'))\n",
    "    #    continue\n",
    "    f = open(filename+str(i)+'-dim2-n50000_pathpoints.pkl', \"rb\")\n",
    "    pathpoints = pickle.load(f)\n",
    "    s_n = 0\n",
    "    for j in range(len(pathpoints)-2):\n",
    "        s_n += np.linalg.norm(pathpoints[j+1] - pathpoints[j])\n",
    "    S_n.append(s_n)\n",
    "    distances.append(s_n + np.linalg.norm(pathpoints[-1] - pathpoints[-2]))\n",
    "    counts.append(len(pathpoints)-2)\n",
    "    \n",
    "    if pathpoints[-1][0] != 0.9 or pathpoints[-1][1] != 0.9:\n",
    "        print(i)\n",
    "\n",
    "        \n",
    "distances = np.array(distances)\n",
    "S_n = np.array(S_n)\n",
    "counts = np.array(counts)"
   ]
  },
  {
   "cell_type": "code",
   "execution_count": 6,
   "metadata": {},
   "outputs": [],
   "source": [
    "edge_lengths = []\n",
    "angle_displacements = []\n",
    "for i in range(1, 501):\n",
    "    f = open(filename+str(i)+'-dim2-n50000_pathpoints.pkl', \"rb\")\n",
    "    pathpoints = pickle.load(f)\n",
    "    for j in range(len(pathpoints)-2):\n",
    "        edge_lengths.append(np.linalg.norm(pathpoints[j+1] - pathpoints[j]))\n",
    "        \n",
    "        #if j == len(pathpoints)-3:\n",
    "        #    continue\n",
    "        \n",
    "        vect_1 = pathpoints[j+1] - pathpoints[j]\n",
    "        vect_2 = x_goal - pathpoints[j]\n",
    "        angle = math.atan2( vect_1[0]*vect_2[1] - vect_1[1]*vect_2[0], vect_1[0]*vect_2[0] + vect_1[1]*vect_2[1])\n",
    "        angle_displacements.append(angle)"
   ]
  },
  {
   "cell_type": "code",
   "execution_count": 8,
   "metadata": {},
   "outputs": [],
   "source": [
    "test = []\n",
    "for i in range(100000):\n",
    "    test.append((np.random.uniform()) ** 0.5)"
   ]
  },
  {
   "cell_type": "code",
   "execution_count": 10,
   "metadata": {},
   "outputs": [
    {
     "data": {
      "text/plain": [
       "0.6675937674940841"
      ]
     },
     "execution_count": 10,
     "metadata": {},
     "output_type": "execute_result"
    }
   ],
   "source": [
    "np.mean(test)"
   ]
  },
  {
   "cell_type": "code",
   "execution_count": 12,
   "metadata": {},
   "outputs": [
    {
     "data": {
      "text/plain": [
       "126.88455161286771"
      ]
     },
     "execution_count": 12,
     "metadata": {},
     "output_type": "execute_result"
    }
   ],
   "source": [
    "0.8 * np.sqrt(2) / (r(n, D) * 2/3)"
   ]
  },
  {
   "cell_type": "code",
   "execution_count": 55,
   "metadata": {},
   "outputs": [
    {
     "data": {
      "text/plain": [
       "Text(0.5, 1.0, '17 bins')"
      ]
     },
     "execution_count": 55,
     "metadata": {},
     "output_type": "execute_result"
    },
    {
     "data": {
      "image/png": "[encoded data removed]",
      "text/plain": [
       "<Figure size 432x288 with 1 Axes>"
      ]
     },
     "metadata": {
      "needs_background": "light"
     },
     "output_type": "display_data"
    }
   ],
   "source": [
    "num = 17\n",
    "plt.hist(counts - 114, bins=num)\n",
    "plt.title(str(num) + ' bins')"
   ]
  },
  {
   "cell_type": "code",
   "execution_count": 38,
   "metadata": {},
   "outputs": [
    {
     "data": {
      "text/plain": [
       "0.009273531556544888"
      ]
     },
     "execution_count": 38,
     "metadata": {},
     "output_type": "execute_result"
    }
   ],
   "source": [
    "(0.8 * np.sqrt(2))/122"
   ]
  },
  {
   "cell_type": "code",
   "execution_count": 41,
   "metadata": {},
   "outputs": [
    {
     "data": {
      "text/plain": [
       "0.6933582055347963"
      ]
     },
     "execution_count": 41,
     "metadata": {},
     "output_type": "execute_result"
    }
   ],
   "source": [
    "(0.8 * np.sqrt(2))/(122 * r(n, D))"
   ]
  },
  {
   "cell_type": "code",
   "execution_count": 19,
   "metadata": {},
   "outputs": [
    {
     "name": "stdout",
     "output_type": "stream",
     "text": [
      "121.792\n",
      "8.152735999999997\n"
     ]
    }
   ],
   "source": [
    "print(np.mean(counts))\n",
    "print(np.std(counts - np.mean(counts)) ** 2)"
   ]
  },
  {
   "cell_type": "code",
   "execution_count": 50,
   "metadata": {},
   "outputs": [
    {
     "data": {
      "text/plain": [
       "32.61094399999999"
      ]
     },
     "execution_count": 50,
     "metadata": {},
     "output_type": "execute_result"
    }
   ],
   "source": [
    "(np.std(counts - np.mean(counts)) ** 2) / (1/4)"
   ]
  },
  {
   "cell_type": "code",
   "execution_count": 24,
   "metadata": {},
   "outputs": [
    {
     "data": {
      "text/plain": [
       "16"
      ]
     },
     "execution_count": 24,
     "metadata": {},
     "output_type": "execute_result"
    }
   ],
   "source": [
    "max(counts - 114)"
   ]
  },
  {
   "cell_type": "code",
   "execution_count": 53,
   "metadata": {},
   "outputs": [
    {
     "data": {
      "text/plain": [
       "Text(0.5, 1.0, '17 bins')"
      ]
     },
     "execution_count": 53,
     "metadata": {},
     "output_type": "execute_result"
    },
    {
     "data": {
      "image/png": "[encoded data removed]",
      "text/plain": [
       "<Figure size 432x288 with 1 Axes>"
      ]
     },
     "metadata": {
      "needs_background": "light"
     },
     "output_type": "display_data"
    }
   ],
   "source": [
    "test = np.random.binomial(n=32, p=0.25, size=50000)\n",
    "plt.hist(test, bins=33)\n",
    "plt.title(str(17) + ' bins')"
   ]
  },
  {
   "cell_type": "code",
   "execution_count": 49,
   "metadata": {},
   "outputs": [
    {
     "data": {
      "text/plain": [
       "{0, 1, 2, 3, 4, 5, 6, 7, 8, 9, 10, 11, 12, 13, 14, 15, 16}"
      ]
     },
     "execution_count": 49,
     "metadata": {},
     "output_type": "execute_result"
    }
   ],
   "source": [
    "set(test)"
   ]
  },
  {
   "cell_type": "code",
   "execution_count": null,
   "metadata": {},
   "outputs": [],
   "source": []
  }
 ],
 "metadata": {
  "kernelspec": {
   "display_name": "Python 3",
   "language": "python",
   "name": "python3"
  },
  "language_info": {
   "codemirror_mode": {
    "name": "ipython",
    "version": 3
   },
   "file_extension": ".py",
   "mimetype": "text/x-python",
   "name": "python",
   "nbconvert_exporter": "python",
   "pygments_lexer": "ipython3",
   "version": "3.7.6"
  }
 },
 "nbformat": 4,
 "nbformat_minor": 4
}
