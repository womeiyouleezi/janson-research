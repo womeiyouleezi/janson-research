{
 "cells": [
  {
   "cell_type": "code",
   "execution_count": 1,
   "metadata": {},
   "outputs": [
    {
     "data": {
      "text/plain": [
       "'/usr/local/opt/python/bin/python3.7'"
      ]
     },
     "execution_count": 1,
     "metadata": {},
     "output_type": "execute_result"
    }
   ],
   "source": [
    "import sys\n",
    "sys.executable"
   ]
  },
  {
   "cell_type": "code",
   "execution_count": 3,
   "metadata": {},
   "outputs": [],
   "source": [
    "import numpy as np\n",
    "import pandas as pd\n",
    "from scipy.spatial import KDTree\n",
    "from scipy.stats import uniform, expon\n",
    "import math\n",
    "\n",
    "import matplotlib.pyplot as plt\n",
    "\n",
    "from copy import deepcopy\n",
    "from collections import defaultdict\n",
    "\n",
    "from ipywidgets import interact, interactive, fixed, interact_manual\n",
    "import ipywidgets as widgets\n",
    "\n",
    "import pickle"
   ]
  },
  {
   "cell_type": "code",
   "execution_count": 16,
   "metadata": {},
   "outputs": [],
   "source": [
    "seed = 1\n",
    "np.random.seed(seed) "
   ]
  },
  {
   "cell_type": "code",
   "execution_count": 4,
   "metadata": {},
   "outputs": [],
   "source": [
    "# r_n function\n",
    "def r(n, D):\n",
    "    return (n ** (-1/(2*D))) / 10\n",
    "    # designed for n = 10^6"
   ]
  },
  {
   "cell_type": "code",
   "execution_count": 13,
   "metadata": {},
   "outputs": [],
   "source": [
    "n = 1000000\n",
    "D = 2\n",
    "\n",
    "ell = 0.8 * np.sqrt(2)\n",
    "\n",
    "x_init = np.array([0, 0])\n",
    "x_goal = np.array([ell, 0])"
   ]
  },
  {
   "cell_type": "code",
   "execution_count": 12,
   "metadata": {},
   "outputs": [],
   "source": [
    "lmbda = (n * (r(n, D) ** 2) * math.pi)"
   ]
  },
  {
   "cell_type": "code",
   "execution_count": 37,
   "metadata": {},
   "outputs": [
    {
     "data": {
      "text/plain": [
       "1.1313708498984762"
      ]
     },
     "execution_count": 37,
     "metadata": {},
     "output_type": "execute_result"
    }
   ],
   "source": [
    "ell"
   ]
  },
  {
   "cell_type": "code",
   "execution_count": 56,
   "metadata": {},
   "outputs": [],
   "source": [
    "X = [x_init[0]]\n",
    "Y = [x_init[1]]\n",
    "\n",
    "R = [None]\n",
    "Theta = [None]\n",
    "S = [None]\n",
    "Gamma = [0]\n",
    "\n",
    "t = 0\n",
    "while np.linalg.norm(np.array([X[-1], Y[-1]]) - x_goal) > r(n, D) and t < 1000:\n",
    "    t += 1 # timestep index\n",
    "    \n",
    "    # three samples for each time step\n",
    "    R.append(r(n, D) * (np.random.uniform() ** 0.5))\n",
    "    S.append(np.random.choice(a=[-1, 1]))\n",
    "    Theta.append((math.pi / lmbda) * np.random.exponential())\n",
    "    \n",
    "    # now we can determine the rest\n",
    "    X.append(X[t-1] + R[t] * np.cos(Gamma[t-1] - Theta[t] * S[t]))\n",
    "    Y.append(Y[t-1] + R[t] * np.sin(Gamma[t-1] - Theta[t] * S[t]))\n",
    "    \n",
    "    g = np.arcsin((R[t] / np.linalg.norm(np.array([X[t], Y[t]]) - x_goal)) * np.sin(Theta[t] * S[t]))\n",
    "    Gamma.append(Gamma[t-1] + g)"
   ]
  },
  {
   "cell_type": "code",
   "execution_count": 57,
   "metadata": {},
   "outputs": [
    {
     "name": "stdout",
     "output_type": "stream",
     "text": [
      "544\n"
     ]
    }
   ],
   "source": [
    "print(t)"
   ]
  },
  {
   "cell_type": "code",
   "execution_count": 58,
   "metadata": {},
   "outputs": [
    {
     "name": "stdout",
     "output_type": "stream",
     "text": [
      "1.129887325095687\n",
      "0.000532428218689384\n",
      "0.001576174371238134\n"
     ]
    }
   ],
   "source": [
    "print(X[-1])\n",
    "print(Y[-1])\n",
    "print(np.linalg.norm(np.array([X[-1], Y[-1]]) - x_goal))"
   ]
  },
  {
   "cell_type": "code",
   "execution_count": 23,
   "metadata": {},
   "outputs": [
    {
     "name": "stdout",
     "output_type": "stream",
     "text": [
      "0.003162277660168379\n"
     ]
    }
   ],
   "source": [
    "print(r(n, D))"
   ]
  },
  {
   "cell_type": "code",
   "execution_count": null,
   "metadata": {},
   "outputs": [],
   "source": []
  }
 ],
 "metadata": {
  "kernelspec": {
   "display_name": "Python 3",
   "language": "python",
   "name": "python3"
  },
  "language_info": {
   "codemirror_mode": {
    "name": "ipython",
    "version": 3
   },
   "file_extension": ".py",
   "mimetype": "text/x-python",
   "name": "python",
   "nbconvert_exporter": "python",
   "pygments_lexer": "ipython3",
   "version": "3.7.6"
  }
 },
 "nbformat": 4,
 "nbformat_minor": 4
}
