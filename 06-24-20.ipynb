{
 "cells": [
  {
   "cell_type": "code",
   "execution_count": 2,
   "metadata": {},
   "outputs": [
    {
     "data": {
      "text/plain": [
       "'/usr/local/opt/python/bin/python3.7'"
      ]
     },
     "execution_count": 2,
     "metadata": {},
     "output_type": "execute_result"
    }
   ],
   "source": [
    "import sys\n",
    "sys.executable"
   ]
  },
  {
   "cell_type": "code",
   "execution_count": 3,
   "metadata": {},
   "outputs": [],
   "source": [
    "import numpy as np\n",
    "import pandas as pd\n",
    "from scipy.spatial import KDTree\n",
    "from scipy.stats import expon\n",
    "import math\n",
    "\n",
    "import matplotlib.pyplot as plt\n",
    "\n",
    "from copy import deepcopy\n",
    "\n",
    "import pickle"
   ]
  },
  {
   "cell_type": "code",
   "execution_count": 4,
   "metadata": {},
   "outputs": [],
   "source": [
    "x_goal = np.array([0.9, 0.9])"
   ]
  },
  {
   "cell_type": "code",
   "execution_count": 5,
   "metadata": {},
   "outputs": [],
   "source": [
    "# r_n function\n",
    "def r(n, D):\n",
    "    return (n ** (-1/(2*D))) / 5 "
   ]
  },
  {
   "cell_type": "code",
   "execution_count": 6,
   "metadata": {},
   "outputs": [],
   "source": [
    "def SampleFree(n, d, distr='unif'):\n",
    "    assert distr in {'unif', 'pois'}, \"distr parameter must be one of the following: 'unif', 'pois'\"\n",
    "    \n",
    "    # start with init point (index 0)\n",
    "    V = []\n",
    "    \n",
    "    for i in range(n):\n",
    "        \n",
    "        if distr is 'unif':\n",
    "            V.append(np.random.uniform(size=d))\n",
    "        else:\n",
    "            pass       # later functionality for poisson process sampling\n",
    "        \n",
    "    # add the goal point (index n + 1)\n",
    "    #V.append(x_goal)\n",
    "    \n",
    "    return V"
   ]
  },
  {
   "cell_type": "code",
   "execution_count": 7,
   "metadata": {},
   "outputs": [],
   "source": [
    "distances = []\n",
    "S_n = []\n",
    "counts = []\n",
    "\n",
    "#g = open('slurm scripts/data/06-24-20/asymptotics-dim2_n50000.out', 'r')\n",
    "#for line in g:\n",
    "#    distances.append(float(line))\n",
    "\n",
    "filename = 'slurm scripts/data/06-24-20/path_points/'\n",
    "for i in range(1,501):\n",
    "    #if distances[i] == float('inf'):\n",
    "    #    S_n.append(float('inf'))\n",
    "    #    continue\n",
    "    f = open(filename+str(i)+'-dim2-n50000_pathpoints.pkl', \"rb\")\n",
    "    pathpoints = pickle.load(f)\n",
    "    s_n = 0\n",
    "    for j in range(len(pathpoints)-2):\n",
    "        s_n += np.linalg.norm(pathpoints[j+1] - pathpoints[j])\n",
    "    S_n.append(s_n)\n",
    "    distances.append(s_n + np.linalg.norm(pathpoints[-1] - pathpoints[-2]))\n",
    "    counts.append(len(pathpoints)-2)\n",
    "    \n",
    "    if pathpoints[-1][0] != 0.9 or pathpoints[-1][1] != 0.9:\n",
    "        print(i)\n",
    "\n",
    "        \n",
    "distances = np.array(distances)\n",
    "S_n = np.array(S_n)\n",
    "counts = np.array(counts)"
   ]
  },
  {
   "cell_type": "code",
   "execution_count": 9,
   "metadata": {},
   "outputs": [
    {
     "data": {
      "text/plain": [
       "array([0.89459604, 0.89323011])"
      ]
     },
     "execution_count": 9,
     "metadata": {},
     "output_type": "execute_result"
    }
   ],
   "source": [
    "pathpoints[len(pathpoints)-2]"
   ]
  },
  {
   "cell_type": "code",
   "execution_count": 10,
   "metadata": {},
   "outputs": [],
   "source": [
    "edge_lengths = []\n",
    "angle_displacements = []\n",
    "for i in range(1, 501):\n",
    "    f = open(filename+str(i)+'-dim2-n50000_pathpoints.pkl', \"rb\")\n",
    "    pathpoints = pickle.load(f)\n",
    "    for j in range(len(pathpoints)-2):\n",
    "        edge_lengths.append(np.linalg.norm(pathpoints[j+1] - pathpoints[j]))\n",
    "        \n",
    "        #if j == len(pathpoints)-3:\n",
    "        #    continue\n",
    "        \n",
    "        vect_1 = pathpoints[j+1] - pathpoints[j]\n",
    "        vect_2 = x_goal - pathpoints[j]\n",
    "        angle = math.atan2( vect_1[0]*vect_2[1] - vect_1[1]*vect_2[0], vect_1[0]*vect_2[0] + vect_1[1]*vect_2[1])\n",
    "        angle_displacements.append(angle)"
   ]
  },
  {
   "cell_type": "code",
   "execution_count": 11,
   "metadata": {},
   "outputs": [
    {
     "data": {
      "text/plain": [
       "Text(0.5, 1.0, '50 bins')"
      ]
     },
     "execution_count": 11,
     "metadata": {},
     "output_type": "execute_result"
    },
    {
     "data": {
      "image/png": "[encoded data removed]",
      "text/plain": [
       "<Figure size 432x288 with 1 Axes>"
      ]
     },
     "metadata": {
      "needs_background": "light"
     },
     "output_type": "display_data"
    }
   ],
   "source": [
    "num = 50\n",
    "plt.hist(edge_lengths, bins=num)\n",
    "plt.title(str(num) + ' bins')"
   ]
  },
  {
   "cell_type": "code",
   "execution_count": 12,
   "metadata": {},
   "outputs": [
    {
     "data": {
      "text/plain": [
       "Text(0.5, 1.0, '50 bins')"
      ]
     },
     "execution_count": 12,
     "metadata": {},
     "output_type": "execute_result"
    },
    {
     "data": {
      "image/png": "[encoded data removed]",
      "text/plain": [
       "<Figure size 432x288 with 1 Axes>"
      ]
     },
     "metadata": {
      "needs_background": "light"
     },
     "output_type": "display_data"
    }
   ],
   "source": [
    "num = 50\n",
    "plt.hist(np.abs(angle_displacements), bins=num)\n",
    "plt.title(str(num) + ' bins')\n"
   ]
  },
  {
   "cell_type": "code",
   "execution_count": 15,
   "metadata": {},
   "outputs": [
    {
     "data": {
      "text/plain": [
       "3.5195877384530267"
      ]
     },
     "execution_count": 15,
     "metadata": {},
     "output_type": "execute_result"
    }
   ],
   "source": [
    "m *28"
   ]
  },
  {
   "cell_type": "code",
   "execution_count": 14,
   "metadata": {},
   "outputs": [
    {
     "data": {
      "text/plain": [
       "Text(0.5, 1.0, '50 bins')"
      ]
     },
     "execution_count": 14,
     "metadata": {},
     "output_type": "execute_result"
    },
    {
     "data": {
      "image/png": "[encoded data removed]",
      "text/plain": [
       "<Figure size 432x288 with 1 Axes>"
      ]
     },
     "metadata": {
      "needs_background": "light"
     },
     "output_type": "display_data"
    }
   ],
   "source": [
    "m = np.mean(np.abs(angle_displacements))\n",
    "r = expon.rvs(size=60896)\n",
    "r *= m\n",
    "\n",
    "list(r).append(np.max(np.abs(angle_displacements)))\n",
    "\n",
    "num = 50\n",
    "plt.margins()\n",
    "plt.hist(r, bins=num)\n",
    "plt.title(str(num) + ' bins')"
   ]
  },
  {
   "cell_type": "code",
   "execution_count": 5,
   "metadata": {
    "collapsed": true,
    "jupyter": {
     "outputs_hidden": true
    }
   },
   "outputs": [
    {
     "data": {
      "text/plain": [
       "array([1.14065965, 1.13834096, 1.13830534, 1.13946738, 1.13336132,\n",
       "       1.14071186, 1.13838112, 1.14093592, 1.14786091, 1.1464944 ,\n",
       "       1.14609782, 1.13894584, 1.1416064 , 1.14454823, 1.13838332,\n",
       "       1.14175267, 1.14296017, 1.1372289 , 1.14524551, 1.13497424,\n",
       "       1.13353795, 1.13524201, 1.14541707, 1.14050147, 1.13959675,\n",
       "       1.1372671 , 1.14414012, 1.14146786, 1.14912706, 1.13787113,\n",
       "       1.14222691, 1.13625095, 1.13919327, 1.13061191, 1.14602729,\n",
       "       1.13241742, 1.14428629, 1.13289875, 1.13066293, 1.14893331,\n",
       "       1.1370958 , 1.13972199, 1.13473113, 1.13922506, 1.13302487,\n",
       "       1.13848705, 1.13951942, 1.13564042, 1.13850168, 1.1438314 ,\n",
       "       1.13874549, 1.14187018, 1.14483418, 1.14226945, 1.14031181,\n",
       "       1.14087596, 1.13814483, 1.13638149, 1.13575927, 1.14277963,\n",
       "       1.13714115, 1.14482025, 1.13598208, 1.14620387, 1.15317248,\n",
       "       1.1460604 , 1.14012902, 1.13771336, 1.13797856, 1.13963442,\n",
       "       1.13707689, 1.14365745, 1.14349491, 1.14838882, 1.14153753,\n",
       "       1.13655273, 1.14815264, 1.1360711 , 1.13679683, 1.13821001,\n",
       "       1.13671324, 1.14043495, 1.1434317 , 1.14424407, 1.13598966,\n",
       "       1.14094214, 1.13591253, 1.13019696, 1.15307511, 1.13371265,\n",
       "       1.14001017, 1.15180187, 1.13606683, 1.13965283, 1.13149175,\n",
       "       1.14492136, 1.13161657, 1.13284559, 1.15743974, 1.14352444,\n",
       "       1.13503739, 1.14073977, 1.14612545, 1.14132857, 1.13640819,\n",
       "       1.14916915, 1.14207792, 1.14125714, 1.14018475, 1.13991899,\n",
       "       1.15034421, 1.13951254, 1.13675766, 1.14204786, 1.14556458,\n",
       "       1.14168711, 1.14173796, 1.13983411, 1.13875497, 1.14319634,\n",
       "       1.13950232, 1.14379965, 1.15518556, 1.14710695, 1.14719468,\n",
       "       1.13391009, 1.1345784 , 1.13854224, 1.13699671, 1.14783565,\n",
       "       1.13532921, 1.1463736 , 1.14423544, 1.14641452, 1.13605477,\n",
       "       1.14145112, 1.15043863, 1.1369133 , 1.14129795, 1.14263856,\n",
       "       1.13834526, 1.1378941 , 1.13556489, 1.14376932, 1.13475957,\n",
       "       1.13461596, 1.14147381, 1.14231345, 1.14092762, 1.13869902,\n",
       "       1.13940575, 1.14676911, 1.14201974, 1.1522275 , 1.15141508,\n",
       "       1.14308659, 1.14616776, 1.14030219, 1.1388585 , 1.14800657,\n",
       "       1.13444506, 1.13514035, 1.13700998, 1.14219783, 1.13687556,\n",
       "       1.14086792, 1.14128811, 1.14980577, 1.14922464, 1.14619137,\n",
       "       1.13542155, 1.14362044, 1.14086181, 1.14525032, 1.13456976,\n",
       "       1.13560921, 1.14146945, 1.15026448, 1.13431588, 1.13966531,\n",
       "       1.14326224, 1.14488804, 1.13991849, 1.14299926, 1.14832664,\n",
       "       1.13727919, 1.13789006, 1.13768857, 1.13283488, 1.13795249,\n",
       "       1.13875105, 1.13573408, 1.14619281, 1.13833848, 1.14778421,\n",
       "       1.14837051, 1.14188632, 1.13435043, 1.14513565, 1.13791488,\n",
       "       1.13845332, 1.15350444, 1.13953791, 1.14416333, 1.14351872,\n",
       "       1.1351001 , 1.13839697, 1.13804088, 1.14153952, 1.13670621,\n",
       "       1.14766875, 1.13931568, 1.14466877, 1.14554659, 1.13805686,\n",
       "       1.14026069, 1.14137199, 1.13871894, 1.14433027, 1.13449414,\n",
       "       1.14709977, 1.13382829, 1.13577721, 1.1475199 , 1.13908706,\n",
       "       1.15080271, 1.14529032, 1.14732885, 1.14321981, 1.14757417,\n",
       "       1.14215677, 1.13912243, 1.13877688, 1.13958033, 1.13149614,\n",
       "       1.14459286, 1.14002181, 1.13624441, 1.13811571, 1.14285278,\n",
       "       1.13361398, 1.14061501, 1.14019547, 1.13223414, 1.14495547,\n",
       "       1.14197148, 1.13866487, 1.13929164, 1.14550422, 1.14859693,\n",
       "       1.14451918, 1.13961381, 1.13450382, 1.13487431, 1.13889369,\n",
       "       1.13222231, 1.14160541, 1.14691323, 1.1376481 , 1.12983707,\n",
       "       1.14198004, 1.14597945, 1.14028842, 1.13822962, 1.13999117,\n",
       "       1.14467825, 1.13494072, 1.14868421, 1.14534847, 1.13403354,\n",
       "       1.1439328 , 1.13477899, 1.14478688, 1.15050047, 1.14346897,\n",
       "       1.14161018, 1.14114335, 1.14628428, 1.14266266, 1.1481817 ,\n",
       "       1.1466522 , 1.14732445, 1.14368425, 1.14130085, 1.13944808,\n",
       "       1.14341488, 1.13543201, 1.15799287, 1.14150752, 1.13491439,\n",
       "       1.14102928, 1.13584234, 1.14497541, 1.14277889, 1.13855558,\n",
       "       1.13671951, 1.14132567, 1.14384491, 1.13652803, 1.13879537,\n",
       "       1.14350125, 1.13856956, 1.13861736, 1.13737096, 1.15143047,\n",
       "       1.13996552, 1.14835277, 1.1390936 , 1.13766169, 1.13922321,\n",
       "       1.13804617, 1.15653839, 1.13542465, 1.13732001, 1.14254487,\n",
       "       1.14731282, 1.13728206, 1.1429413 , 1.13688214, 1.13880289,\n",
       "       1.14813768, 1.14129363, 1.14429442, 1.13571341, 1.14620539,\n",
       "       1.15143903, 1.14702134, 1.13906856, 1.13522768, 1.14139342,\n",
       "       1.1384437 , 1.13998226, 1.13595784, 1.14240728, 1.14492579,\n",
       "       1.14225667, 1.14615821, 1.14682334, 1.13838762, 1.14135521,\n",
       "       1.13990196, 1.13721854, 1.13760267, 1.14525806, 1.13467826,\n",
       "       1.14185954, 1.13555876, 1.13978994, 1.14246259, 1.14888147,\n",
       "       1.15279027, 1.12907937, 1.13917193, 1.13929956, 1.13045107,\n",
       "       1.13788874, 1.14256878, 1.14964337, 1.14380773, 1.13858134,\n",
       "       1.14443684, 1.14897109, 1.14672477, 1.14141528, 1.14567824,\n",
       "       1.14288201, 1.15010657, 1.13738003, 1.14278969, 1.14118701,\n",
       "       1.14139094, 1.13941713, 1.14643261, 1.15178179, 1.14896956,\n",
       "       1.14363334, 1.14160798, 1.14330203, 1.14973953, 1.13574408,\n",
       "       1.14488698, 1.13616165, 1.14509649, 1.13336438, 1.14203702,\n",
       "       1.14090155, 1.13385836, 1.1345685 , 1.14704192, 1.140713  ,\n",
       "       1.14134216, 1.14788353, 1.13617111, 1.14150461, 1.14333334,\n",
       "       1.14526921, 1.13700511, 1.14901272, 1.14147202, 1.14363343,\n",
       "       1.14079839, 1.13893347, 1.13987809, 1.15113442, 1.13772374,\n",
       "       1.14239219, 1.13799913, 1.1398755 , 1.14252999, 1.14238902,\n",
       "       1.14130325, 1.14332717, 1.13086043, 1.14739119, 1.14313699,\n",
       "       1.14450407, 1.14865912, 1.14563025, 1.14047344, 1.14938077,\n",
       "       1.14175127, 1.14037336, 1.1434137 , 1.14856519, 1.14366411,\n",
       "       1.13478536, 1.13757464, 1.13055351, 1.13652795, 1.13947669,\n",
       "       1.13867368, 1.13556904, 1.13804803, 1.14443302, 1.14580375,\n",
       "       1.14658375, 1.14027971, 1.14326312, 1.14128878, 1.14690899,\n",
       "       1.14571609, 1.14250605, 1.1347287 , 1.13935683, 1.13957859,\n",
       "       1.13856268, 1.14752787, 1.14291599, 1.14181721, 1.12782868,\n",
       "       1.14430448, 1.1457856 , 1.13677467, 1.13574356, 1.14144424,\n",
       "       1.14209706, 1.14871761, 1.14218139, 1.14432467, 1.14604825,\n",
       "       1.15214984, 1.13080447, 1.13105197, 1.13888123, 1.14779227,\n",
       "       1.13712664, 1.13428955, 1.13705803, 1.14366855, 1.1415045 ,\n",
       "       1.13120655, 1.14206072, 1.14334559, 1.14584254, 1.1367533 ,\n",
       "       1.1476838 , 1.15281351, 1.14061633, 1.14275782, 1.14476034,\n",
       "       1.14090186, 1.13536457, 1.13756514, 1.15191762, 1.1389311 ,\n",
       "       1.12776959, 1.14286404, 1.12852324, 1.14769303, 1.14231025,\n",
       "       1.13750481, 1.1403378 , 1.14627152, 1.1518832 , 1.14632625,\n",
       "       1.13861292, 1.13638837, 1.13390304, 1.13707904, 1.14556125])"
      ]
     },
     "execution_count": 5,
     "metadata": {},
     "output_type": "execute_result"
    }
   ],
   "source": [
    "S_n"
   ]
  },
  {
   "cell_type": "code",
   "execution_count": 7,
   "metadata": {
    "collapsed": true,
    "jupyter": {
     "outputs_hidden": true
    }
   },
   "outputs": [
    {
     "data": {
      "text/plain": [
       "array([123, 120, 119, 123, 124, 123, 122, 121, 123, 121, 119, 120, 125,\n",
       "       125, 115, 124, 118, 123, 118, 127, 119, 123, 121, 118, 118, 122,\n",
       "       123, 117, 122, 121, 123, 122, 120, 123, 118, 121, 118, 119, 121,\n",
       "       121, 121, 119, 129, 126, 126, 124, 118, 121, 124, 121, 120, 121,\n",
       "       125, 120, 123, 120, 122, 123, 121, 122, 116, 120, 122, 124, 119,\n",
       "       122, 120, 124, 117, 122, 121, 118, 121, 130, 124, 125, 127, 117,\n",
       "       122, 123, 120, 129, 123, 122, 128, 125, 122, 115, 122, 121, 122,\n",
       "       119, 124, 123, 123, 122, 123, 121, 121, 123, 123, 122, 126, 126,\n",
       "       122, 126, 127, 120, 129, 120, 121, 122, 122, 123, 122, 121, 124,\n",
       "       122, 123, 125, 126, 117, 120, 119, 123, 128, 124, 122, 122, 123,\n",
       "       122, 122, 119, 121, 121, 126, 121, 124, 118, 125, 124, 119, 119,\n",
       "       122, 122, 125, 120, 123, 122, 125, 125, 123, 122, 126, 122, 117,\n",
       "       119, 122, 121, 123, 118, 122, 120, 121, 124, 122, 123, 121, 128,\n",
       "       116, 118, 120, 123, 121, 121, 123, 120, 125, 123, 117, 122, 121,\n",
       "       124, 121, 130, 121, 122, 122, 120, 122, 125, 118, 127, 126, 123,\n",
       "       119, 124, 120, 124, 116, 120, 117, 126, 118, 120, 118, 121, 121,\n",
       "       119, 124, 119, 119, 123, 125, 119, 118, 120, 120, 122, 117, 126,\n",
       "       121, 124, 123, 118, 126, 122, 124, 122, 122, 122, 122, 124, 122,\n",
       "       124, 120, 123, 120, 124, 120, 119, 124, 122, 120, 120, 117, 120,\n",
       "       118, 128, 126, 125, 121, 118, 119, 126, 120, 125, 124, 122, 123,\n",
       "       124, 116, 119, 120, 120, 126, 123, 120, 124, 121, 119, 124, 124,\n",
       "       118, 123, 122, 127, 123, 125, 126, 122, 121, 123, 130, 120, 127,\n",
       "       122, 123, 122, 129, 122, 121, 120, 121, 120, 121, 123, 117, 121,\n",
       "       122, 120, 121, 123, 122, 124, 118, 125, 125, 121, 123, 121, 125,\n",
       "       118, 118, 123, 121, 123, 121, 122, 124, 121, 123, 121, 117, 121,\n",
       "       120, 124, 121, 121, 120, 128, 121, 118, 124, 120, 120, 121, 123,\n",
       "       122, 122, 119, 123, 114, 127, 123, 123, 118, 122, 119, 120, 122,\n",
       "       114, 122, 128, 119, 123, 121, 128, 121, 122, 128, 122, 122, 114,\n",
       "       117, 121, 120, 121, 123, 117, 123, 123, 128, 125, 125, 124, 117,\n",
       "       121, 122, 125, 123, 125, 119, 120, 123, 120, 124, 120, 127, 122,\n",
       "       119, 120, 118, 121, 125, 123, 123, 120, 117, 122, 123, 122, 117,\n",
       "       127, 122, 120, 121, 121, 125, 116, 121, 117, 116, 126, 121, 121,\n",
       "       123, 120, 123, 116, 123, 118, 120, 122, 118, 119, 122, 121, 121,\n",
       "       119, 117, 123, 122, 122, 120, 126, 123, 122, 117, 126, 124, 118,\n",
       "       115, 123, 120, 125, 123, 129, 122, 119, 124, 123, 122, 120, 123,\n",
       "       123, 117, 125, 122, 120, 121, 122, 125, 122, 121, 121, 120, 121,\n",
       "       126, 125, 121, 122, 124, 122, 118, 126, 123, 125, 128, 120, 122,\n",
       "       121, 118, 124, 122, 119, 123, 116, 120, 123, 123, 126, 122, 120,\n",
       "       125, 123, 116, 122, 120, 122])"
      ]
     },
     "execution_count": 7,
     "metadata": {},
     "output_type": "execute_result"
    }
   ],
   "source": [
    "counts"
   ]
  },
  {
   "cell_type": "code",
   "execution_count": 146,
   "metadata": {},
   "outputs": [],
   "source": [
    "# T_n approaches 1.5 * (true length) n^(1/4)\n",
    "\n",
    "n = 50000\n",
    "D = 2\n",
    "\n",
    "T = (0.8 * (2 ** 0.5)) / (2/3 * r(n,D)) # * math.cos(math.pi / 28.099258924162903))"
   ]
  },
  {
   "cell_type": "code",
   "execution_count": 136,
   "metadata": {},
   "outputs": [
    {
     "data": {
      "text/plain": [
       "127.6817315198756"
      ]
     },
     "execution_count": 136,
     "metadata": {},
     "output_type": "execute_result"
    }
   ],
   "source": [
    "T"
   ]
  },
  {
   "cell_type": "code",
   "execution_count": 147,
   "metadata": {},
   "outputs": [],
   "source": [
    "lengths = deepcopy(S_n)"
   ]
  },
  {
   "cell_type": "code",
   "execution_count": 95,
   "metadata": {},
   "outputs": [
    {
     "data": {
      "text/plain": [
       "Text(0.5, 1.0, '50 bins')"
      ]
     },
     "execution_count": 95,
     "metadata": {},
     "output_type": "execute_result"
    },
    {
     "data": {
      "image/png": "[encoded data removed]",
      "text/plain": [
       "<Figure size 432x288 with 1 Axes>"
      ]
     },
     "metadata": {
      "needs_background": "light"
     },
     "output_type": "display_data"
    }
   ],
   "source": [
    "lengths = deepcopy(S_n)\n",
    "lengths = lengths - ((counts) * (2/3) * r(n,D))\n",
    "lengths = lengths * (counts ** (1/2))\n",
    "lengths = lengths  / (2/5)\n",
    "num = 50\n",
    "plt.hist(lengths, bins=num)\n",
    "plt.title(str(num) + ' bins')"
   ]
  },
  {
   "cell_type": "code",
   "execution_count": 153,
   "metadata": {},
   "outputs": [
    {
     "data": {
      "text/plain": [
       "Text(0.5, 1.0, '20 bins')"
      ]
     },
     "execution_count": 153,
     "metadata": {},
     "output_type": "execute_result"
    },
    {
     "data": {
      "image/png": "[encoded data removed]",
      "text/plain": [
       "<Figure size 432x288 with 1 Axes>"
      ]
     },
     "metadata": {
      "needs_background": "light"
     },
     "output_type": "display_data"
    }
   ],
   "source": [
    "T = (0.8 * (2 ** 0.5)) / (2/3 * r(n,D) * math.cos(math.pi / 28.099258924162903))\n",
    "\n",
    "lengths = deepcopy(S_n)\n",
    "lengths = lengths - ((T) * (2/3) * r(n,D))\n",
    "#lengths /= ((T) * (2/3) * r(n,D))\n",
    "lengths = lengths * (T ** (1/2))\n",
    "lengths = lengths  / (2/5)\n",
    "\n",
    "# new expectation\n",
    "\n",
    "num = 20\n",
    "plt.hist(lengths, bins=num)\n",
    "plt.title(str(num) + ' bins')"
   ]
  },
  {
   "cell_type": "code",
   "execution_count": 150,
   "metadata": {},
   "outputs": [
    {
     "data": {
      "text/plain": [
       "Text(0.5, 1.0, '20 bins')"
      ]
     },
     "execution_count": 150,
     "metadata": {},
     "output_type": "execute_result"
    },
    {
     "data": {
      "image/png": "[encoded data removed]",
      "text/plain": [
       "<Figure size 432x288 with 1 Axes>"
      ]
     },
     "metadata": {
      "needs_background": "light"
     },
     "output_type": "display_data"
    }
   ],
   "source": [
    "# old expectation\n",
    "\n",
    "num = 20\n",
    "plt.hist(lengths, bins=num)\n",
    "plt.title(str(num) + ' bins')"
   ]
  },
  {
   "cell_type": "code",
   "execution_count": null,
   "metadata": {},
   "outputs": [],
   "source": [
    "T = (0.8 * (2 ** 0.5)) / (2/3 * r(n,D))\n",
    "\n",
    "lengths = lengths - ((T) * (2/3) * r(n,D))\n",
    "#lengths /= ((T) * (2/3) * r(n,D))\n",
    "lengths = lengths * (T ** (1/2))\n",
    "lengths = lengths  / (2/5)"
   ]
  },
  {
   "cell_type": "code",
   "execution_count": 97,
   "metadata": {},
   "outputs": [
    {
     "data": {
      "text/plain": [
       "Text(0.5, 1.0, '50 bins')"
      ]
     },
     "execution_count": 97,
     "metadata": {},
     "output_type": "execute_result"
    },
    {
     "data": {
      "image/png": "[encoded data removed]",
      "text/plain": [
       "<Figure size 432x288 with 1 Axes>"
      ]
     },
     "metadata": {
      "needs_background": "light"
     },
     "output_type": "display_data"
    }
   ],
   "source": [
    "num = 50\n",
    "plt.hist(lengths, bins=num)\n",
    "plt.title(str(num) + ' bins')"
   ]
  },
  {
   "cell_type": "code",
   "execution_count": 99,
   "metadata": {},
   "outputs": [
    {
     "data": {
      "text/plain": [
       "Text(0.5, 1.0, '13 bins')"
      ]
     },
     "execution_count": 99,
     "metadata": {},
     "output_type": "execute_result"
    },
    {
     "data": {
      "image/png": "[encoded data removed]",
      "text/plain": [
       "<Figure size 432x288 with 1 Axes>"
      ]
     },
     "metadata": {
      "needs_background": "light"
     },
     "output_type": "display_data"
    }
   ],
   "source": [
    "num = 13\n",
    "plt.hist(counts, bins=num)\n",
    "plt.title(str(num) + ' bins')"
   ]
  },
  {
   "cell_type": "code",
   "execution_count": 90,
   "metadata": {},
   "outputs": [
    {
     "name": "stdout",
     "output_type": "stream",
     "text": [
      "0.4594819204443511\n",
      "1.5159302832182158\n"
     ]
    }
   ],
   "source": [
    "print(np.std(lengths) ** 2)\n",
    "print(np.mean(lengths))"
   ]
  },
  {
   "cell_type": "code",
   "execution_count": 85,
   "metadata": {},
   "outputs": [
    {
     "data": {
      "text/plain": [
       "20.48184976513034"
      ]
     },
     "execution_count": 85,
     "metadata": {},
     "output_type": "execute_result"
    }
   ],
   "source": [
    "np.linalg.norm([0.8, 0.8]) / np.mean(lengths)"
   ]
  },
  {
   "cell_type": "code",
   "execution_count": 77,
   "metadata": {},
   "outputs": [],
   "source": [
    "lengths_2 = deepcopy(distances)"
   ]
  },
  {
   "cell_type": "code",
   "execution_count": 78,
   "metadata": {},
   "outputs": [],
   "source": [
    "lengths_2 = lengths_2 - ((counts+1) * (2/3) * r(n,D))\n",
    "lengths_2 = lengths_2 * (counts ** (1/2))\n",
    "lengths_2 = lengths_2 / (2/5)"
   ]
  },
  {
   "cell_type": "code",
   "execution_count": 79,
   "metadata": {},
   "outputs": [
    {
     "data": {
      "text/plain": [
       "Text(0.5, 1.0, '50 bins')"
      ]
     },
     "execution_count": 79,
     "metadata": {},
     "output_type": "execute_result"
    },
    {
     "data": {
      "image/png": "[encoded data removed]",
      "text/plain": [
       "<Figure size 432x288 with 1 Axes>"
      ]
     },
     "metadata": {
      "needs_background": "light"
     },
     "output_type": "display_data"
    }
   ],
   "source": [
    "num = 50\n",
    "plt.hist(lengths_2, bins=num)\n",
    "plt.title(str(num) + ' bins')"
   ]
  },
  {
   "cell_type": "code",
   "execution_count": 50,
   "metadata": {},
   "outputs": [
    {
     "data": {
      "text/plain": [
       "0.008916537399685627"
      ]
     },
     "execution_count": 50,
     "metadata": {},
     "output_type": "execute_result"
    }
   ],
   "source": [
    "(2/3) * r(n, D)"
   ]
  },
  {
   "cell_type": "code",
   "execution_count": 52,
   "metadata": {},
   "outputs": [],
   "source": [
    "relatives = S_n / counts"
   ]
  },
  {
   "cell_type": "code",
   "execution_count": 53,
   "metadata": {},
   "outputs": [
    {
     "data": {
      "text/plain": [
       "Text(0.5, 1.0, '50 bins')"
      ]
     },
     "execution_count": 53,
     "metadata": {},
     "output_type": "execute_result"
    },
    {
     "data": {
      "image/png": "[encoded data removed]",
      "text/plain": [
       "<Figure size 432x288 with 1 Axes>"
      ]
     },
     "metadata": {
      "needs_background": "light"
     },
     "output_type": "display_data"
    }
   ],
   "source": [
    "num = 50\n",
    "plt.hist(relatives, bins=num)\n",
    "plt.title(str(num) + ' bins')"
   ]
  },
  {
   "cell_type": "code",
   "execution_count": 54,
   "metadata": {},
   "outputs": [],
   "source": [
    "dictionary = {}\n",
    "for i in set(counts):\n",
    "    dictionary[i] = []\n",
    "\n",
    "for j in range(len(S_n)):\n",
    "    dictionary[counts[j]].append(S_n[j])"
   ]
  },
  {
   "cell_type": "code",
   "execution_count": 55,
   "metadata": {},
   "outputs": [
    {
     "data": {
      "text/plain": [
       "dict_keys([128, 129, 130, 114, 115, 116, 117, 118, 119, 120, 121, 122, 123, 124, 125, 126, 127])"
      ]
     },
     "execution_count": 55,
     "metadata": {},
     "output_type": "execute_result"
    }
   ],
   "source": [
    "dictionary.keys()"
   ]
  },
  {
   "cell_type": "code",
   "execution_count": 60,
   "metadata": {},
   "outputs": [
    {
     "data": {
      "text/plain": [
       "Text(0.5, 1.0, '10 bins')"
      ]
     },
     "execution_count": 60,
     "metadata": {},
     "output_type": "execute_result"
    },
    {
     "data": {
      "image/png": "[encoded data removed]",
      "text/plain": [
       "<Figure size 432x288 with 1 Axes>"
      ]
     },
     "metadata": {
      "needs_background": "light"
     },
     "output_type": "display_data"
    }
   ],
   "source": [
    "num = 10\n",
    "plt.hist(dictionary[126], bins=num)\n",
    "plt.title(str(num) + ' bins')"
   ]
  },
  {
   "cell_type": "code",
   "execution_count": 63,
   "metadata": {},
   "outputs": [],
   "source": [
    "S_n_true = []\n",
    "\n",
    "for c in counts:\n",
    "    s = 0\n",
    "    for i in range(c):\n",
    "        s += (r(n,D) * (np.random.uniform()) ** 0.5)\n",
    "    S_n_true.append(s - c * (2/3) * r(n, D))"
   ]
  },
  {
   "cell_type": "code",
   "execution_count": 64,
   "metadata": {},
   "outputs": [
    {
     "data": {
      "text/plain": [
       "Text(0.5, 1.0, '50 bins')"
      ]
     },
     "execution_count": 64,
     "metadata": {},
     "output_type": "execute_result"
    },
    {
     "data": {
      "image/png": "[encoded data removed]",
      "text/plain": [
       "<Figure size 432x288 with 1 Axes>"
      ]
     },
     "metadata": {
      "needs_background": "light"
     },
     "output_type": "display_data"
    }
   ],
   "source": [
    "num = 50\n",
    "plt.hist(S_n_true, bins=num)\n",
    "plt.title(str(num) + ' bins')"
   ]
  },
  {
   "cell_type": "code",
   "execution_count": null,
   "metadata": {},
   "outputs": [],
   "source": []
  }
 ],
 "metadata": {
  "kernelspec": {
   "display_name": "Python 3",
   "language": "python",
   "name": "python3"
  },
  "language_info": {
   "codemirror_mode": {
    "name": "ipython",
    "version": 3
   },
   "file_extension": ".py",
   "mimetype": "text/x-python",
   "name": "python",
   "nbconvert_exporter": "python",
   "pygments_lexer": "ipython3",
   "version": "3.7.6"
  }
 },
 "nbformat": 4,
 "nbformat_minor": 4
}
