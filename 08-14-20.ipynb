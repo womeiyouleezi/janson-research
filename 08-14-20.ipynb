{
 "cells": [
  {
   "cell_type": "code",
   "execution_count": 1,
   "metadata": {},
   "outputs": [
    {
     "data": {
      "text/plain": [
       "'/usr/local/opt/python/bin/python3.7'"
      ]
     },
     "execution_count": 1,
     "metadata": {},
     "output_type": "execute_result"
    }
   ],
   "source": [
    "import sys\n",
    "sys.executable"
   ]
  },
  {
   "cell_type": "code",
   "execution_count": 2,
   "metadata": {},
   "outputs": [],
   "source": [
    "import numpy as np\n",
    "import pandas as pd\n",
    "from scipy.spatial import KDTree\n",
    "from scipy.stats import uniform, expon, poisson, describe\n",
    "import math\n",
    "\n",
    "import matplotlib.pyplot as plt\n",
    "\n",
    "from copy import deepcopy\n",
    "from collections import defaultdict\n",
    "\n",
    "from ipywidgets import interact, interactive, fixed, interact_manual\n",
    "import ipywidgets as widgets\n",
    "\n",
    "import pickle"
   ]
  },
  {
   "cell_type": "code",
   "execution_count": 3,
   "metadata": {},
   "outputs": [],
   "source": [
    "n = 5000000\n",
    "D = 2\n",
    "\n",
    "ell = 0.8 * np.sqrt(2)\n",
    "\n",
    "x_init = np.array([0, 0])\n",
    "x_goal = np.array([ell, 0])"
   ]
  },
  {
   "cell_type": "code",
   "execution_count": 4,
   "metadata": {},
   "outputs": [],
   "source": [
    "# r_n function\n",
    "def r(n, D):\n",
    "    return (n ** (-1/(2*D))) / 5\n",
    "    # designed for n = 5 * 10^6"
   ]
  },
  {
   "cell_type": "code",
   "execution_count": 23,
   "metadata": {},
   "outputs": [
    {
     "data": {
      "text/plain": [
       "267.49612199056884"
      ]
     },
     "execution_count": 23,
     "metadata": {},
     "output_type": "execute_result"
    }
   ],
   "source": [
    "ell / r(n ,D)"
   ]
  },
  {
   "cell_type": "code",
   "execution_count": 5,
   "metadata": {},
   "outputs": [],
   "source": [
    "filename = 'slurm scripts/data/08-14-20/path_points/'\n",
    "\n",
    "points = []\n",
    "distances = []\n",
    "lengths_based = []\n",
    "counts = []\n",
    "\n",
    "T_n_indices = defaultdict(list)\n",
    "\n",
    "for i in range(1,501):\n",
    "    # something weird happened, if i is 0 mod 50 the file doesn't exist...\n",
    "    #if i % 50 == 0:\n",
    "    #    continue\n",
    "    \n",
    "    f = open(filename+str(i)+'-dim2-n5000000_pathpoints.pkl', \"rb\")\n",
    "    pathpoints = pickle.load(f)\n",
    "    points.append(pathpoints)\n",
    "    s_n = 0\n",
    "    for j in range(len(pathpoints)-2):\n",
    "        s_n += np.linalg.norm(pathpoints[j+1] - pathpoints[j])\n",
    "    lengths_based.append(s_n)\n",
    "    distances.append(s_n + np.linalg.norm(pathpoints[-1] - pathpoints[-2]))\n",
    "    counts.append(len(pathpoints)-2)\n",
    "    T_n_indices[len(pathpoints)-2].append(i)\n",
    "    \n",
    "    if pathpoints[-1][0] != 0.9 or pathpoints[-1][1] != 0.9:\n",
    "        print(i)\n",
    "\n",
    "        \n",
    "distances = np.array(distances)\n",
    "lengths_based = np.array(lengths_based)\n",
    "counts_based = np.array(counts)"
   ]
  },
  {
   "cell_type": "code",
   "execution_count": 19,
   "metadata": {},
   "outputs": [
    {
     "data": {
      "text/plain": [
       "500"
      ]
     },
     "execution_count": 19,
     "metadata": {},
     "output_type": "execute_result"
    }
   ],
   "source": [
    "len(lengths_based)"
   ]
  },
  {
   "cell_type": "code",
   "execution_count": 11,
   "metadata": {},
   "outputs": [
    {
     "data": {
      "text/plain": [
       "280.9925892416291"
      ]
     },
     "execution_count": 11,
     "metadata": {},
     "output_type": "execute_result"
    }
   ],
   "source": [
    "(r(n,D) ** 2) * math.pi * n"
   ]
  },
  {
   "cell_type": "code",
   "execution_count": 12,
   "metadata": {},
   "outputs": [],
   "source": [
    "def run_simulation(seed, process=1):\n",
    "    np.random.seed(seed) \n",
    "    \n",
    "    results = defaultdict(lambda: float('inf'))\n",
    "    results['seed'] = seed\n",
    "    \n",
    "    X = [x_init[0]]\n",
    "    Y = [x_init[1]]\n",
    "    \n",
    "    lmbda = (n * (r(n, D) ** 2) * math.pi)\n",
    "\n",
    "    R = [None]\n",
    "    Theta = [None]\n",
    "    S = [None]\n",
    "    Gamma = [0]\n",
    "\n",
    "    t = 0\n",
    "    while np.linalg.norm(np.array([X[-1], Y[-1]]) - x_goal) > r(n, D) and t < 2000:\n",
    "        t += 1 # timestep index\n",
    "\n",
    "        # three samples for each time step\n",
    "        R.append(r(n, D) * (np.random.uniform() ** 0.5))\n",
    "        S.append(np.random.choice(a=[-1, 1]))\n",
    "        if process == 1:\n",
    "            Theta.append((math.pi / lmbda) * np.random.exponential())   # uses asymptotics on the # of points in a ball explicitly\n",
    "        elif process == 2:\n",
    "            n_B = np.random.poisson((r(n, D) ** 2) * math.pi * n)       # simulates the number of points in a ball, leading to a mixture of exponentials\n",
    "            Theta.append((math.pi / n_B) * np.random.exponential())\n",
    "                                   \n",
    "        # now we can determine the rest\n",
    "        X.append(X[t-1] + R[t] * np.cos(Gamma[t-1] - Theta[t] * S[t]))\n",
    "        Y.append(Y[t-1] + R[t] * np.sin(Gamma[t-1] - Theta[t] * S[t]))\n",
    "\n",
    "        g = np.arcsin((R[t] / np.linalg.norm(np.array([X[t], Y[t]]) - x_goal)) * np.sin(Theta[t] * S[t]))\n",
    "        Gamma.append(Gamma[t-1] + g)\n",
    "        \n",
    "    if t < 1000:\n",
    "        results['T'] = t\n",
    "        results['length'] = sum(R[1:])\n",
    "        results['last_point'] = (X[-1], Y[-1])\n",
    "        results['distance_to_goal'] = np.linalg.norm(np.array([X[-1], Y[-1]]) - x_goal) \n",
    "        results['R'] = R\n",
    "        results['Theta'] = Theta\n",
    "        results['S'] = S\n",
    "        results['X'] = X\n",
    "        results['Y'] = Y\n",
    "        \n",
    "    return results"
   ]
  },
  {
   "cell_type": "code",
   "execution_count": 13,
   "metadata": {},
   "outputs": [],
   "source": [
    "simulation_outputs_1 = defaultdict(dict)\n",
    "simulation_outputs_2 = defaultdict(dict)\n",
    "\n",
    "for i in range(1, 1001):\n",
    "    simulation_outputs_1[i] = run_simulation(i * 100, 1)\n",
    "    simulation_outputs_2[i] = run_simulation(i * 200, 2)"
   ]
  },
  {
   "cell_type": "code",
   "execution_count": 9,
   "metadata": {},
   "outputs": [
    {
     "data": {
      "application/vnd.jupyter.widget-view+json": {
       "model_id": "643daefa629c4bb38a73232096d6e339",
       "version_major": 2,
       "version_minor": 0
      },
      "text/plain": [
       "interactive(children=(IntSlider(value=1, description='idx', max=1000, min=1), Dropdown(description='key', opti…"
      ]
     },
     "metadata": {},
     "output_type": "display_data"
    },
    {
     "data": {
      "text/plain": [
       "<function __main__.show_results(idx, key, process)>"
      ]
     },
     "execution_count": 9,
     "metadata": {},
     "output_type": "execute_result"
    }
   ],
   "source": [
    "def show_results(idx, key, process):\n",
    "    if process==1:\n",
    "        print(simulation_outputs_1[idx][key])\n",
    "    else:\n",
    "        print(simulation_outputs_2[idx][key])\n",
    "\n",
    "interact(show_results, idx=widgets.IntSlider(min=1, max=1000, step=1, value=1), key=widgets.Dropdown(options=simulation_outputs_1[1].keys()), process=widgets.Dropdown(options=[1,2]))"
   ]
  },
  {
   "cell_type": "code",
   "execution_count": 14,
   "metadata": {},
   "outputs": [],
   "source": [
    "lengths_free = {1 : [], 2 : []}\n",
    "for k in simulation_outputs_1.keys():\n",
    "    lengths_free[1].append(simulation_outputs_1[k]['length'])\n",
    "    lengths_free[2].append(simulation_outputs_2[k]['length'])\n",
    "    \n",
    "lengths_free[1] = np.array(lengths_free[1])\n",
    "lengths_free[2] = np.array(lengths_free[2])\n",
    "\n",
    "counts_free = {1 : [], 2 : []}\n",
    "for k in simulation_outputs_1.keys():\n",
    "    counts_free[1].append(simulation_outputs_1[k]['T'])\n",
    "    counts_free[2].append(simulation_outputs_2[k]['T'])\n",
    "    \n",
    "counts_free[1] = np.array(counts_free[1])\n",
    "counts_free[2] = np.array(counts_free[2])"
   ]
  },
  {
   "cell_type": "code",
   "execution_count": 7,
   "metadata": {},
   "outputs": [
    {
     "name": "stdout",
     "output_type": "stream",
     "text": [
      "DescribeResult(nobs=500, minmax=(0.00017891251733326285, 0.00422558055945399), mean=0.001826468253166701, variance=1.0785253729415668e-06, skewness=0.2915675690835668, kurtosis=-0.7972677266609938)\n"
     ]
    },
    {
     "ename": "NameError",
     "evalue": "name 'lengths_free' is not defined",
     "output_type": "error",
     "traceback": [
      "\u001b[0;31m---------------------------------------------------------------------------\u001b[0m",
      "\u001b[0;31mNameError\u001b[0m                                 Traceback (most recent call last)",
      "\u001b[0;32m<ipython-input-7-68c00e6c7bea>\u001b[0m in \u001b[0;36m<module>\u001b[0;34m\u001b[0m\n\u001b[1;32m      2\u001b[0m \u001b[0;34m\u001b[0m\u001b[0m\n\u001b[1;32m      3\u001b[0m \u001b[0mprint\u001b[0m\u001b[0;34m(\u001b[0m\u001b[0mdescribe\u001b[0m\u001b[0;34m(\u001b[0m\u001b[0mlengths_based\u001b[0m \u001b[0;34m-\u001b[0m \u001b[0mconst\u001b[0m\u001b[0;34m)\u001b[0m\u001b[0;34m)\u001b[0m\u001b[0;34m\u001b[0m\u001b[0;34m\u001b[0m\u001b[0m\n\u001b[0;32m----> 4\u001b[0;31m \u001b[0mprint\u001b[0m\u001b[0;34m(\u001b[0m\u001b[0mdescribe\u001b[0m\u001b[0;34m(\u001b[0m\u001b[0mlengths_free\u001b[0m\u001b[0;34m[\u001b[0m\u001b[0;36m1\u001b[0m\u001b[0;34m]\u001b[0m \u001b[0;34m-\u001b[0m \u001b[0mconst\u001b[0m\u001b[0;34m)\u001b[0m\u001b[0;34m)\u001b[0m\u001b[0;34m\u001b[0m\u001b[0;34m\u001b[0m\u001b[0m\n\u001b[0m\u001b[1;32m      5\u001b[0m \u001b[0mprint\u001b[0m\u001b[0;34m(\u001b[0m\u001b[0mdescribe\u001b[0m\u001b[0;34m(\u001b[0m\u001b[0mlengths_free\u001b[0m\u001b[0;34m[\u001b[0m\u001b[0;36m2\u001b[0m\u001b[0;34m]\u001b[0m \u001b[0;34m-\u001b[0m \u001b[0mconst\u001b[0m\u001b[0;34m)\u001b[0m\u001b[0;34m)\u001b[0m\u001b[0;34m\u001b[0m\u001b[0;34m\u001b[0m\u001b[0m\n",
      "\u001b[0;31mNameError\u001b[0m: name 'lengths_free' is not defined"
     ]
    }
   ],
   "source": [
    "# statistics on length\n",
    "\n",
    "print(describe(lengths_based - const))\n",
    "print(describe(lengths_free[1] - const))\n",
    "print(describe(lengths_free[2] - const))"
   ]
  },
  {
   "cell_type": "code",
   "execution_count": 29,
   "metadata": {},
   "outputs": [
    {
     "name": "stdout",
     "output_type": "stream",
     "text": [
      "0.001814303273684259\n",
      "0.0016364237807000581\n",
      "0.0016712247163491734\n"
     ]
    }
   ],
   "source": [
    "print(np.median(lengths_based - const))\n",
    "print(np.median(lengths_free[1] - const))\n",
    "print(np.median(lengths_free[2] - const))"
   ]
  },
  {
   "cell_type": "code",
   "execution_count": 21,
   "metadata": {},
   "outputs": [
    {
     "name": "stdout",
     "output_type": "stream",
     "text": [
      "DescribeResult(nobs=500, minmax=(367, 397), mean=380.966, variance=26.485815631262525, skewness=0.13994369244472263, kurtosis=0.02224633502166906)\n",
      "DescribeResult(nobs=1000, minmax=(377, 425), mean=400.383, variance=53.33965065065066, skewness=0.1822804910453342, kurtosis=-0.009043922347493183)\n",
      "DescribeResult(nobs=1000, minmax=(383, 430), mean=400.399, variance=47.219018018018026, skewness=0.3488901008104228, kurtosis=0.1037307330989039)\n"
     ]
    }
   ],
   "source": [
    "# statistics on T\n",
    "\n",
    "print(describe(counts_based)) # graph based\n",
    "print(describe(counts_free[1]))  # graph free process 1\n",
    "print(describe(counts_free[2]))  # graph free process 2"
   ]
  },
  {
   "cell_type": "code",
   "execution_count": 30,
   "metadata": {},
   "outputs": [
    {
     "name": "stdout",
     "output_type": "stream",
     "text": [
      "381.0\n",
      "400.0\n",
      "400.0\n"
     ]
    }
   ],
   "source": [
    "print(np.median(counts_based)) # graph based\n",
    "print(np.median(counts_free[1]))  # graph free process 1\n",
    "print(np.median(counts_free[2]))  # graph free process 2"
   ]
  },
  {
   "cell_type": "code",
   "execution_count": 22,
   "metadata": {},
   "outputs": [
    {
     "name": "stdout",
     "output_type": "stream",
     "text": [
      "DescribeResult(nobs=500, minmax=(21.60927272174488, 22.528879188945318), mean=22.03509885359079, variance=0.02300926832944089, skewness=0.1357297046350247, kurtosis=0.06549345589638111)\n",
      "DescribeResult(nobs=1000, minmax=(21.89789043140138, 23.245437519822417), mean=22.587674817442725, variance=0.042659445852897215, skewness=0.13874358844795132, kurtosis=0.023272869662248397)\n",
      "DescribeResult(nobs=1000, minmax=(22.0866096453326, 23.39938857682867), mean=22.588416870455863, variance=0.038297549615985964, skewness=0.30022848640342853, kurtosis=0.00667076243875897)\n"
     ]
    }
   ],
   "source": [
    "# statistics on L(sqrt T)\n",
    "\n",
    "print(describe((counts_based ** 0.5) * lengths_based )) # graph based\n",
    "print(describe((counts_free[1] ** 0.5) * lengths_free[1] ))  # graph free process 1\n",
    "print(describe((counts_free[2] ** 0.5) * lengths_free[2] ))  # graph free process 2"
   ]
  },
  {
   "cell_type": "code",
   "execution_count": 6,
   "metadata": {},
   "outputs": [],
   "source": [
    "const = ell - r(n, D)"
   ]
  },
  {
   "cell_type": "code",
   "execution_count": null,
   "metadata": {},
   "outputs": [],
   "source": []
  }
 ],
 "metadata": {
  "kernelspec": {
   "display_name": "Python 3",
   "language": "python",
   "name": "python3"
  },
  "language_info": {
   "codemirror_mode": {
    "name": "ipython",
    "version": 3
   },
   "file_extension": ".py",
   "mimetype": "text/x-python",
   "name": "python",
   "nbconvert_exporter": "python",
   "pygments_lexer": "ipython3",
   "version": "3.7.6"
  }
 },
 "nbformat": 4,
 "nbformat_minor": 4
}
