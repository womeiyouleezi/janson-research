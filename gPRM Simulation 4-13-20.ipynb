{
 "cells": [
  {
   "cell_type": "code",
   "execution_count": 1,
   "metadata": {},
   "outputs": [
    {
     "data": {
      "text/plain": [
       "'/usr/local/opt/python/bin/python3.7'"
      ]
     },
     "execution_count": 1,
     "metadata": {},
     "output_type": "execute_result"
    }
   ],
   "source": [
    "import sys\n",
    "sys.executable"
   ]
  },
  {
   "cell_type": "code",
   "execution_count": 1,
   "metadata": {},
   "outputs": [],
   "source": [
    "import numpy as np\n",
    "from scipy.spatial import KDTree\n",
    "import matplotlib.pyplot as plt\n",
    "\n",
    "from collections import defaultdict\n",
    "from copy import deepcopy\n",
    "from heapq import *\n",
    "\n",
    "from gPRM import gPRM"
   ]
  },
  {
   "cell_type": "code",
   "execution_count": 2,
   "metadata": {},
   "outputs": [],
   "source": [
    "def ecdf(data):\n",
    "    xs = np.sort(data)\n",
    "    ys = np.arange(1, len(xs)+1)/float(len(xs))\n",
    "    return [xs, ys]"
   ]
  },
  {
   "cell_type": "code",
   "execution_count": 3,
   "metadata": {},
   "outputs": [],
   "source": [
    "# r function: (1/n * log n)^(1/d)\n",
    "def r(num_points, dimension):\n",
    "    return np.power(np.log(num_points) / num_points, 1 / dimension) "
   ]
  },
  {
   "cell_type": "code",
   "execution_count": 4,
   "metadata": {},
   "outputs": [],
   "source": [
    "D = 2\n",
    "n = 1000\n",
    "x_init = np.array([0.1] * D)\n",
    "x_goal = np.array([0.9] * D)\n",
    "\n",
    "num_iterations = 100"
   ]
  },
  {
   "cell_type": "code",
   "execution_count": 5,
   "metadata": {},
   "outputs": [],
   "source": [
    "G = gPRM(n, D, r, x_init, x_goal)"
   ]
  },
  {
   "cell_type": "code",
   "execution_count": 6,
   "metadata": {},
   "outputs": [],
   "source": [
    "output_lengths = []\n",
    "output_errors = []\n",
    "\n",
    "for i in range(num_iterations):\n",
    "    G.run_iteration()\n",
    "    output_lengths.append(G.get_length())\n",
    "    output_errors.append(G.get_error())\n",
    "    "
   ]
  },
  {
   "cell_type": "code",
   "execution_count": 7,
   "metadata": {
    "collapsed": true,
    "jupyter": {
     "outputs_hidden": true
    }
   },
   "outputs": [
    {
     "data": {
      "text/plain": [
       "[0.010894653077106575,\n",
       " 0.014725398236830056,\n",
       " 0.03904343368785512,\n",
       " 0.015022044607617913,\n",
       " 0.010699511576515386,\n",
       " 0.016290392758945282,\n",
       " 0.011970265246182388,\n",
       " 0.008596621217271672,\n",
       " 0.012764901842969634,\n",
       " 0.01884547600083253,\n",
       " 0.015024991268881793,\n",
       " 0.012495221066044948,\n",
       " 0.021323700627681186,\n",
       " 0.007956645600002643,\n",
       " 0.03228677880840669,\n",
       " 0.011470487519363859,\n",
       " 0.033391847927438656,\n",
       " 0.004704176159722628,\n",
       " 0.018117077446344165,\n",
       " 0.018094064508774155,\n",
       " 0.025346174850732872,\n",
       " 0.013495421118817408,\n",
       " 0.02082544466517855,\n",
       " 0.007252331264670175,\n",
       " 0.0402641310962486,\n",
       " 0.013560592201539157,\n",
       " 0.01779440465679749,\n",
       " 0.017782902909429632,\n",
       " 0.012258137497143995,\n",
       " 0.0058181667281238525,\n",
       " 0.021048627745050563,\n",
       " 0.011218218480373743,\n",
       " 0.008257956476180217,\n",
       " 0.010439795836348909,\n",
       " 0.021623110554682023,\n",
       " 0.019903374134550456,\n",
       " 0.015751060624644708,\n",
       " 0.02225986462699825,\n",
       " 0.01740559450452861,\n",
       " 0.01565841077569563,\n",
       " 0.016925355262136454,\n",
       " 0.016823655046900088,\n",
       " 0.012740466876008938,\n",
       " 0.015548323523593144,\n",
       " 0.013877335985726047,\n",
       " 0.017412312871925684,\n",
       " 0.01751497971643423,\n",
       " 0.03548561790075189,\n",
       " 0.03594908889266435,\n",
       " 0.017039786162304837,\n",
       " 0.017024793590936893,\n",
       " 0.014967555101197405,\n",
       " 0.017305013430680694,\n",
       " 0.031299949110600966,\n",
       " 0.028551279635970594,\n",
       " 0.016937783058728284,\n",
       " 0.015875355596894236,\n",
       " 0.02308333107276095,\n",
       " 0.03260054417067981,\n",
       " 0.021350924905159552,\n",
       " 0.013665115292704533,\n",
       " 0.008600371017669417,\n",
       " 0.015029214769969546,\n",
       " 0.02233232577117561,\n",
       " 0.01032891877853559,\n",
       " 0.015075430640726584,\n",
       " 0.01332663744598861,\n",
       " 0.019717767418424792,\n",
       " 0.017277839872649414,\n",
       " 0.02176772281513406,\n",
       " 0.016250864846730995,\n",
       " 0.008047916308566938,\n",
       " 0.010956147291302676,\n",
       " 0.009770139221283447,\n",
       " 0.026659816326704222,\n",
       " 0.0334182337784088,\n",
       " 0.010140724688173952,\n",
       " 0.01832920013649275,\n",
       " 0.025678083446933897,\n",
       " 0.007591444180933937,\n",
       " 0.02494336297768407,\n",
       " 0.011496944413614596,\n",
       " 0.01694166065321867,\n",
       " 0.01067395406039462,\n",
       " 0.014010078754640443,\n",
       " 0.020634228280243416,\n",
       " 0.006398742829863968,\n",
       " 0.011158363930073634,\n",
       " 0.016013661014878444,\n",
       " 0.03135418595592743,\n",
       " 0.014226731138721638,\n",
       " 0.018754546552047335,\n",
       " 0.014661173620293733,\n",
       " 0.030405505055653537,\n",
       " 0.023648299457737165,\n",
       " 0.011566780400464882,\n",
       " 0.015808992232164032,\n",
       " 0.019832061309162485,\n",
       " 0.012396575609929794,\n",
       " 0.028510727033336458]"
      ]
     },
     "execution_count": 7,
     "metadata": {},
     "output_type": "execute_result"
    }
   ],
   "source": [
    "output_errors"
   ]
  },
  {
   "cell_type": "code",
   "execution_count": 8,
   "metadata": {},
   "outputs": [
    {
     "data": {
      "text/plain": [
       "[<matplotlib.lines.Line2D at 0x114744f90>]"
      ]
     },
     "execution_count": 8,
     "metadata": {},
     "output_type": "execute_result"
    },
    {
     "data": {
      "image/png": "[encoded data removed]",
      "text/plain": [
       "<Figure size 432x288 with 1 Axes>"
      ]
     },
     "metadata": {
      "needs_background": "light"
     },
     "output_type": "display_data"
    }
   ],
   "source": [
    "ECDF = ecdf(deepcopy(output_errors))\n",
    "plt.plot(ECDF[0], ECDF[1], label=\"\"+str(num_iterations)+\" iterations\", marker=\"o\", markerfacecolor='black')"
   ]
  },
  {
   "cell_type": "code",
   "execution_count": null,
   "metadata": {},
   "outputs": [],
   "source": []
  }
 ],
 "metadata": {
  "kernelspec": {
   "display_name": "Python 3",
   "language": "python",
   "name": "python3"
  },
  "language_info": {
   "codemirror_mode": {
    "name": "ipython",
    "version": 3
   },
   "file_extension": ".py",
   "mimetype": "text/x-python",
   "name": "python",
   "nbconvert_exporter": "python",
   "pygments_lexer": "ipython3",
   "version": "3.7.6"
  }
 },
 "nbformat": 4,
 "nbformat_minor": 4
}
