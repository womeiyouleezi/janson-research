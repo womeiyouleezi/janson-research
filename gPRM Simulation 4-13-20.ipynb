{
 "cells": [
  {
   "cell_type": "code",
   "execution_count": 1,
   "metadata": {},
   "outputs": [
    {
     "data": {
      "text/plain": [
       "'/usr/local/opt/python/bin/python3.7'"
      ]
     },
     "execution_count": 1,
     "metadata": {},
     "output_type": "execute_result"
    }
   ],
   "source": [
    "import sys\n",
    "sys.executable"
   ]
  },
  {
   "cell_type": "code",
   "execution_count": 2,
   "metadata": {},
   "outputs": [],
   "source": [
    "import numpy as np\n",
    "from scipy.spatial import KDTree\n",
    "import matplotlib.pyplot as plt\n",
    "\n",
    "from collections import defaultdict\n",
    "from copy import deepcopy\n",
    "from heapq import *\n",
    "\n",
    "from gPRM import gPRM"
   ]
  },
  {
   "cell_type": "code",
   "execution_count": 7,
   "metadata": {},
   "outputs": [],
   "source": [
    "# ECDF function\n",
    "def ecdf(data):\n",
    "    xs = np.sort(data)\n",
    "    ys = np.arange(1, len(xs)+1)/float(len(xs))\n",
    "    return [xs, ys]"
   ]
  },
  {
   "cell_type": "code",
   "execution_count": 8,
   "metadata": {},
   "outputs": [],
   "source": [
    "# r function: (1/n * log n)^(1/d)\n",
    "def r(num_points, dimension):\n",
    "    return np.power(np.log(num_points) / num_points, 1 / dimension) "
   ]
  },
  {
   "cell_type": "code",
   "execution_count": 9,
   "metadata": {},
   "outputs": [],
   "source": [
    "D = 2\n",
    "n = 1000\n",
    "x_init = np.array([0.1] * D)\n",
    "x_goal = np.array([0.9] * D)\n",
    "\n",
    "num_iterations = 1000"
   ]
  },
  {
   "cell_type": "code",
   "execution_count": 10,
   "metadata": {},
   "outputs": [],
   "source": [
    "G = gPRM(n, D, r, x_init, x_goal)"
   ]
  },
  {
   "cell_type": "code",
   "execution_count": 11,
   "metadata": {},
   "outputs": [],
   "source": [
    "output_lengths = []\n",
    "output_errors = []\n",
    "\n",
    "for i in range(num_iterations):\n",
    "    G.run_iteration()\n",
    "    output_lengths.append(G.get_length())\n",
    "    output_errors.append(G.get_error())\n",
    "    "
   ]
  },
  {
   "cell_type": "code",
   "execution_count": null,
   "metadata": {},
   "outputs": [],
   "source": [
    "output_errors"
   ]
  },
  {
   "cell_type": "code",
   "execution_count": null,
   "metadata": {},
   "outputs": [],
   "source": [
    "ECDF = ecdf(deepcopy(output_errors))\n",
    "plt.plot(ECDF[0], ECDF[1], label=\"\"+str(num_iterations)+\" iterations\", marker=\"o\", markerfacecolor='black')"
   ]
  },
  {
   "cell_type": "code",
   "execution_count": null,
   "metadata": {},
   "outputs": [],
   "source": []
  }
 ],
 "metadata": {
  "kernelspec": {
   "display_name": "Python 3",
   "language": "python",
   "name": "python3"
  },
  "language_info": {
   "codemirror_mode": {
    "name": "ipython",
    "version": 3
   },
   "file_extension": ".py",
   "mimetype": "text/x-python",
   "name": "python",
   "nbconvert_exporter": "python",
   "pygments_lexer": "ipython3",
   "version": "3.7.6"
  }
 },
 "nbformat": 4,
 "nbformat_minor": 4
}
