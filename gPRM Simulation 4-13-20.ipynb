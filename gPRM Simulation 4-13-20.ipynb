{
 "cells": [
  {
   "cell_type": "code",
   "execution_count": 1,
   "metadata": {},
   "outputs": [
    {
     "data": {
      "text/plain": [
       "'/usr/local/opt/python/bin/python3.7'"
      ]
     },
     "execution_count": 1,
     "metadata": {},
     "output_type": "execute_result"
    }
   ],
   "source": [
    "import sys\n",
    "sys.executable"
   ]
  },
  {
   "cell_type": "code",
   "execution_count": 11,
   "metadata": {},
   "outputs": [],
   "source": [
    "import numpy as np\n",
    "from scipy.spatial import KDTree\n",
    "import matplotlib.pyplot as plt\n",
    "\n",
    "from collections import defaultdict\n",
    "from copy import deepcopy\n",
    "from heapq import *\n",
    "\n",
    "from gPRM import gPRM"
   ]
  },
  {
   "cell_type": "code",
   "execution_count": 10,
   "metadata": {},
   "outputs": [],
   "source": [
    "def ecdf(data):\n",
    "    xs = np.sort(data)\n",
    "    ys = np.arange(1, len(xs)+1)/float(len(xs))\n",
    "    return [xs, ys]"
   ]
  },
  {
   "cell_type": "code",
   "execution_count": 3,
   "metadata": {},
   "outputs": [],
   "source": [
    "# r function: (1/n * log n)^(1/d)\n",
    "def r(num_points, dimension):\n",
    "    return np.power(np.log(num_points) / num_points, 1 / dimension) "
   ]
  },
  {
   "cell_type": "code",
   "execution_count": 4,
   "metadata": {},
   "outputs": [],
   "source": [
    "D = 2\n",
    "n = 1000\n",
    "x_init = np.array([0.1] * D)\n",
    "x_goal = np.array([0.9] * D)\n",
    "\n",
    "num_iterations = 100"
   ]
  },
  {
   "cell_type": "code",
   "execution_count": 5,
   "metadata": {},
   "outputs": [],
   "source": [
    "G = gPRM(n, D, r, x_init, x_goal)"
   ]
  },
  {
   "cell_type": "code",
   "execution_count": 6,
   "metadata": {},
   "outputs": [],
   "source": [
    "output_lengths = []\n",
    "output_errors = []\n",
    "\n",
    "for i in range(num_iterations):\n",
    "    G.run_iteration()\n",
    "    output_lengths.append(G.get_length())\n",
    "    output_errors.append(G.get_error())\n",
    "    "
   ]
  },
  {
   "cell_type": "code",
   "execution_count": 8,
   "metadata": {
    "collapsed": true,
    "jupyter": {
     "outputs_hidden": true
    }
   },
   "outputs": [
    {
     "data": {
      "text/plain": [
       "[0.014984381726818263,\n",
       " 0.02669960494379442,\n",
       " 0.020316930223888585,\n",
       " 0.007127945148179382,\n",
       " 0.006130614307823468,\n",
       " 0.00835465652235845,\n",
       " 0.015128719078493669,\n",
       " 0.01618357153377281,\n",
       " 0.02348553670262432,\n",
       " 0.018118480174871276,\n",
       " 0.023444284642061275,\n",
       " 0.039522499172462755,\n",
       " 0.007160356589499983,\n",
       " 0.012319566138706328,\n",
       " 0.0308122212782187,\n",
       " 0.0455674433697435,\n",
       " 0.01071954843592815,\n",
       " 0.02167876119114509,\n",
       " 0.012155269195578633,\n",
       " 0.01654139743996952,\n",
       " 0.009474013015605465,\n",
       " 0.03406987960160168,\n",
       " 0.010566172478336577,\n",
       " 0.011941953912107506,\n",
       " 0.019403641807422156,\n",
       " 0.014795474178487256,\n",
       " 0.021903513965743304,\n",
       " 0.008358473655063925,\n",
       " 0.0281415973147503,\n",
       " 0.02199312547518084,\n",
       " 0.009854556750865662,\n",
       " 0.02156205615136053,\n",
       " 0.01661425652524362,\n",
       " 0.019648156271572903,\n",
       " 0.01498783934989989,\n",
       " 0.01909945163047566,\n",
       " 0.022887188767251265,\n",
       " 0.018422532473524322,\n",
       " 0.016559257155897456,\n",
       " 0.025474088571252995,\n",
       " 0.0420945328585689,\n",
       " 0.011915928330316072,\n",
       " 0.0217482597783607,\n",
       " 0.0101442549980717,\n",
       " 0.021917634792642415,\n",
       " 0.017458834433161874,\n",
       " 0.010769702108749613,\n",
       " 0.007468585015502738,\n",
       " 0.026605427639236456,\n",
       " 0.013255740972122565,\n",
       " 0.026117931031840236,\n",
       " 0.013117170493843311,\n",
       " 0.015341613004703714,\n",
       " 0.011409722347353934,\n",
       " 0.022302799855383082,\n",
       " 0.011962137092060399,\n",
       " 0.017849165997115612,\n",
       " 0.01853561510279933,\n",
       " 0.015248485500068076,\n",
       " 0.009764600336238605,\n",
       " 0.05541962407704726,\n",
       " 0.009661409954239808,\n",
       " 0.02454738794394218,\n",
       " 0.015938481999563825,\n",
       " 0.036445522752809545,\n",
       " 0.032454643944785255,\n",
       " 0.018133357549415807,\n",
       " 0.015484399761751533,\n",
       " 0.00982250098530546,\n",
       " 0.00507543577740921,\n",
       " 0.012893995687365267,\n",
       " 0.011798563964639408,\n",
       " 0.011625682326524167,\n",
       " 0.01759046416624077,\n",
       " 0.01722210258642609,\n",
       " 0.010540662387679145,\n",
       " 0.01646050475001104,\n",
       " 0.009347608816623554,\n",
       " 0.016085794304995238,\n",
       " 0.00971004411965759,\n",
       " 0.013608262405385263,\n",
       " 0.023688657702838567,\n",
       " 0.013789696261111706,\n",
       " 0.01833223351759461,\n",
       " 0.01507019266339138,\n",
       " 0.026142462924827026,\n",
       " 0.01594945354422772,\n",
       " 0.008785088951817954,\n",
       " 0.02380630577934406,\n",
       " 0.010905735472419797,\n",
       " 0.022252635010874267,\n",
       " 0.018512982970432246,\n",
       " 0.01808466278473264,\n",
       " 0.015582238200271492,\n",
       " 0.01794685884116687,\n",
       " 0.020631665818469536,\n",
       " 0.039687399421091785,\n",
       " 0.0194190447442244,\n",
       " 0.01340694036859591,\n",
       " 0.019924634480951386]"
      ]
     },
     "execution_count": 8,
     "metadata": {},
     "output_type": "execute_result"
    }
   ],
   "source": [
    "output_errors"
   ]
  },
  {
   "cell_type": "code",
   "execution_count": 12,
   "metadata": {},
   "outputs": [
    {
     "data": {
      "text/plain": [
       "[<matplotlib.lines.Line2D at 0x114ba3510>]"
      ]
     },
     "execution_count": 12,
     "metadata": {},
     "output_type": "execute_result"
    },
    {
     "data": {
      "image/png": "[encoded data removed]",
      "text/plain": [
       "<Figure size 432x288 with 1 Axes>"
      ]
     },
     "metadata": {
      "needs_background": "light"
     },
     "output_type": "display_data"
    }
   ],
   "source": [
    "ECDF = ecdf(deepcopy(output_errors))\n",
    "plt.plot(ECDF[0], ECDF[1], label=\"\"+str(num_iterations)+\" iterations\", marker=\"o\", markerfacecolor='black')"
   ]
  },
  {
   "cell_type": "code",
   "execution_count": null,
   "metadata": {},
   "outputs": [],
   "source": []
  }
 ],
 "metadata": {
  "kernelspec": {
   "display_name": "Python 3",
   "language": "python",
   "name": "python3"
  },
  "language_info": {
   "codemirror_mode": {
    "name": "ipython",
    "version": 3
   },
   "file_extension": ".py",
   "mimetype": "text/x-python",
   "name": "python",
   "nbconvert_exporter": "python",
   "pygments_lexer": "ipython3",
   "version": "3.7.6"
  }
 },
 "nbformat": 4,
 "nbformat_minor": 4
}
