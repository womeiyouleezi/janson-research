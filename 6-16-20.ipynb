{
 "cells": [
  {
   "cell_type": "code",
   "execution_count": 1,
   "metadata": {},
   "outputs": [
    {
     "data": {
      "text/plain": [
       "'/usr/local/opt/python/bin/python3.7'"
      ]
     },
     "execution_count": 1,
     "metadata": {},
     "output_type": "execute_result"
    }
   ],
   "source": [
    "import sys\n",
    "sys.executable"
   ]
  },
  {
   "cell_type": "code",
   "execution_count": 102,
   "metadata": {},
   "outputs": [],
   "source": [
    "from gPRM import gPRM\n",
    "\n",
    "import numpy as np\n",
    "import pandas as pd\n",
    "from scipy.spatial import KDTree\n",
    "import math\n",
    "\n",
    "import matplotlib.pyplot as plt"
   ]
  },
  {
   "cell_type": "code",
   "execution_count": 118,
   "metadata": {},
   "outputs": [],
   "source": [
    "# r_n function\n",
    "def r(n, D):\n",
    "    return n ** (-1/(2*D))"
   ]
  },
  {
   "cell_type": "code",
   "execution_count": 8,
   "metadata": {},
   "outputs": [],
   "source": [
    "# Creates random sample of n points (not including init and goal)\n",
    "def SampleFree(n, d, x_init, x_goal, distr='unif'):\n",
    "    assert distr in {'unif', 'pois'}, \"distr parameter must be one of the following: 'unif', 'pois'\"\n",
    "    \n",
    "    # start with init point (index 0)\n",
    "    V = [x_init]\n",
    "    \n",
    "    for i in range(n):\n",
    "        \n",
    "        if distr is 'unif':\n",
    "            V.append(np.random.uniform(size=d))\n",
    "        else:\n",
    "            pass       # later functionality for poisson process sampling\n",
    "        \n",
    "    # add the goal point (index n + 1)\n",
    "    V.append(x_goal)\n",
    "    \n",
    "    return V"
   ]
  },
  {
   "cell_type": "code",
   "execution_count": 53,
   "metadata": {},
   "outputs": [],
   "source": [
    "def Near(V, r_n):\n",
    "    \n",
    "    # Create a KD Tree first\n",
    "    KDT = KDTree(data=V)\n",
    "    \n",
    "    # Create the KD Tree to search against\n",
    "    search_against = KDTree(data=V)\n",
    "\n",
    "    # run query_ball_tree; returns list of lists\n",
    "    results = KDT.query_ball_tree(other=search_against, r=r_n)\n",
    "    \n",
    "    # for vertex indexed by i, results[i] contains all indices j such that dist(v[i],v[j]) < r\n",
    "    edges = [None] * len(V)\n",
    "    for i in range(len(V)):\n",
    "        edges[i] = []\n",
    "        for j in results[i]:\n",
    "            if i != j:\n",
    "                edges[i].append(j)\n",
    "            \n",
    "    return edges"
   ]
  },
  {
   "cell_type": "code",
   "execution_count": 87,
   "metadata": {},
   "outputs": [],
   "source": [
    "def path_algorithm(V, E):\n",
    "    # V is the vertex set, E is the output of the KDT function (both numpy arrays)\n",
    "    x_init = V[0]\n",
    "    x_goal = V[-1]\n",
    "    \n",
    "    # tracks where we've been (array of indices)\n",
    "    piece = 0\n",
    "    visited = [0]\n",
    "    distance = 0\n",
    "    \n",
    "    # boolean indicator of something going wrong, e.g. no further point or repeat node\n",
    "    failure = False\n",
    "    #print((failure is False) and (piece != len(V)-1))\n",
    "    \n",
    "    while (failure is False) and (piece != len(V)-1):\n",
    "        candidates = np.take(V, np.array(E[piece]), axis=0)\n",
    "        angles = []\n",
    "        for p in candidates:\n",
    "            vect_1 = p - V[piece]\n",
    "            vect_2 = x_goal - V[piece]\n",
    "            angle = math.atan2( vect_1[0]*vect_2[1] - vect_1[1]*vect_2[0], vect_1[0]*vect_2[0] + vect_1[1]*vect_2[1])\n",
    "            angles.append(np.abs(angle))             # absolute angle in radians\n",
    "        next_piece = E[piece][np.array(angles).argmin()]\n",
    "        if next_piece in visited:\n",
    "            #print('failed')\n",
    "            #print(next_piece)\n",
    "            #print(visited)\n",
    "            failure = True            # means we have already been to this node\n",
    "        else:\n",
    "            distance += np.linalg.norm(V[next_piece] - V[piece])\n",
    "            visited.append(next_piece)\n",
    "            piece = next_piece\n",
    "            \n",
    "    if failure:\n",
    "        return float('inf'), None\n",
    "    \n",
    "    else:\n",
    "        return distance, visited\n",
    "        "
   ]
  },
  {
   "cell_type": "code",
   "execution_count": 131,
   "metadata": {},
   "outputs": [],
   "source": [
    "D = 2\n",
    "n = 50000\n",
    "\n",
    "x_init = np.array([0.1]*D)\n",
    "x_goal = np.array([0.9]*D)"
   ]
  },
  {
   "cell_type": "code",
   "execution_count": 132,
   "metadata": {},
   "outputs": [],
   "source": [
    "V = np.array(SampleFree(n, D, x_init, x_goal))\n",
    "E = np.array(Near(V, r(n, D)))"
   ]
  },
  {
   "cell_type": "code",
   "execution_count": 133,
   "metadata": {},
   "outputs": [],
   "source": [
    "d, path = path_algorithm(V, E)"
   ]
  },
  {
   "cell_type": "code",
   "execution_count": 134,
   "metadata": {},
   "outputs": [
    {
     "data": {
      "text/plain": [
       "1.1313972593337924"
      ]
     },
     "execution_count": 134,
     "metadata": {},
     "output_type": "execute_result"
    }
   ],
   "source": [
    "d"
   ]
  },
  {
   "cell_type": "code",
   "execution_count": 135,
   "metadata": {},
   "outputs": [
    {
     "name": "stdout",
     "output_type": "stream",
     "text": [
      "[0, 43128, 11737, 37901, 8528, 10438, 9391, 25102, 47543, 13121, 22091, 3520, 32908, 14742, 49706, 35098, 38978, 43547, 9834, 19965, 26906, 14587, 32896, 50001]\n"
     ]
    }
   ],
   "source": [
    "print(path)"
   ]
  },
  {
   "cell_type": "code",
   "execution_count": 136,
   "metadata": {},
   "outputs": [
    {
     "name": "stderr",
     "output_type": "stream",
     "text": [
      "/usr/local/lib/python3.7/site-packages/ipykernel_launcher.py:1: FutureWarning: arrays to stack must be passed as a \"sequence\" type such as list or tuple. Support for non-sequence iterables such as generators is deprecated as of NumPy 1.16 and will raise an error in the future.\n",
      "  \"\"\"Entry point for launching an IPython kernel.\n"
     ]
    },
    {
     "data": {
      "text/plain": [
       "<matplotlib.collections.PathCollection at 0x11be97a10>"
      ]
     },
     "execution_count": 136,
     "metadata": {},
     "output_type": "execute_result"
    },
    {
     "data": {
      "image/png": "[encoded data removed]",
      "text/plain": [
       "<Figure size 720x720 with 1 Axes>"
      ]
     },
     "metadata": {
      "needs_background": "light"
     },
     "output_type": "display_data"
    }
   ],
   "source": [
    "path_points = np.vstack(V[ve] for ve in path[1:-1])\n",
    "x_pp, y_pp = path_points.T\n",
    "\n",
    "init_points = np.array([x_init, x_goal])\n",
    "x_ip, y_ip = init_points.T\n",
    "\n",
    "# plot points here\n",
    "plt.figure(figsize=(10,10))\n",
    "plt.margins(0.2)\n",
    "\n",
    "plt.scatter(x_pp, y_pp, s=4, c='red')\n",
    "plt.scatter(x_ip, y_ip, s=20, c='gold')"
   ]
  },
  {
   "cell_type": "code",
   "execution_count": null,
   "metadata": {},
   "outputs": [],
   "source": []
  }
 ],
 "metadata": {
  "kernelspec": {
   "display_name": "Python 3",
   "language": "python",
   "name": "python3"
  },
  "language_info": {
   "codemirror_mode": {
    "name": "ipython",
    "version": 3
   },
   "file_extension": ".py",
   "mimetype": "text/x-python",
   "name": "python",
   "nbconvert_exporter": "python",
   "pygments_lexer": "ipython3",
   "version": "3.7.6"
  }
 },
 "nbformat": 4,
 "nbformat_minor": 4
}
