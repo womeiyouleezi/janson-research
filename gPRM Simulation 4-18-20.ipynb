{
 "cells": [
  {
   "cell_type": "code",
   "execution_count": 1,
   "metadata": {},
   "outputs": [
    {
     "data": {
      "text/plain": [
       "'/usr/local/opt/python/bin/python3.7'"
      ]
     },
     "execution_count": 1,
     "metadata": {},
     "output_type": "execute_result"
    }
   ],
   "source": [
    "import sys\n",
    "sys.executable"
   ]
  },
  {
   "cell_type": "code",
   "execution_count": 2,
   "metadata": {},
   "outputs": [],
   "source": [
    "import numpy as np\n",
    "from scipy.spatial import KDTree\n",
    "import matplotlib.pyplot as plt\n",
    "\n",
    "from collections import defaultdict\n",
    "from copy import deepcopy\n",
    "from heapq import *\n",
    "\n",
    "from gPRM import gPRM"
   ]
  },
  {
   "cell_type": "code",
   "execution_count": 3,
   "metadata": {},
   "outputs": [],
   "source": [
    "# r function: (1/n * log n)^(1/d)\n",
    "def r(num_points, dimension):\n",
    "    return np.power(np.log(num_points) / num_points, 1 / dimension) "
   ]
  },
  {
   "cell_type": "code",
   "execution_count": 4,
   "metadata": {},
   "outputs": [],
   "source": [
    "D = 2\n",
    "n = 1000\n",
    "x_init = np.array([0.1] * D)\n",
    "x_goal = np.array([0.9] * D)\n",
    "\n",
    "num_simulations = 5"
   ]
  },
  {
   "cell_type": "code",
   "execution_count": 5,
   "metadata": {},
   "outputs": [],
   "source": [
    "G = gPRM(n, D, x_init, x_goal)"
   ]
  },
  {
   "cell_type": "code",
   "execution_count": 6,
   "metadata": {},
   "outputs": [],
   "source": [
    "output_lengths = []\n",
    "output_errors = []\n",
    "output_paths = []\n",
    "\n",
    "for i in range(num_simulations):\n",
    "    G.sample_points()\n",
    "    \n",
    "    output_lengths.append([])\n",
    "    output_errors.append([])\n",
    "    output_paths.append([])\n",
    "    \n",
    "    for j in range(1,4):\n",
    "        r_n = j * r(n, D)\n",
    "        \n",
    "        G.run_simulation(r_n)\n",
    "    \n",
    "        output_lengths[-1].append(G.get_length())\n",
    "        output_errors[-1].append(G.get_error())\n",
    "        output_paths[-1].append(G.get_path())"
   ]
  },
  {
   "cell_type": "code",
   "execution_count": 7,
   "metadata": {},
   "outputs": [
    {
     "data": {
      "text/plain": [
       "[[1.144368037732003, 1.1316758155580695, 1.131494683173785],\n",
       " [1.1453058112116772, 1.1315680771382688, 1.1314908115889968],\n",
       " [1.1445489365298958, 1.1323072244638965, 1.1314328843004133],\n",
       " [1.1544129232308498, 1.1329308796922954, 1.1316500445169904],\n",
       " [1.1529976466928136, 1.1344385535022317, 1.1315779404466615]]"
      ]
     },
     "execution_count": 7,
     "metadata": {},
     "output_type": "execute_result"
    }
   ],
   "source": [
    "output_lengths"
   ]
  },
  {
   "cell_type": "code",
   "execution_count": 8,
   "metadata": {},
   "outputs": [
    {
     "data": {
      "text/plain": [
       "[[0.012997187833526658, 0.0003049656595932593, 0.0001238332753088489],\n",
       " [0.013934961313200933, 0.0001972272397925412, 0.0001199616905205314],\n",
       " [0.013178086631419506, 0.0009363745654202837, 6.203440193708332e-05],\n",
       " [0.023042073332373514, 0.0015600297938191954, 0.0002791946185141114],\n",
       " [0.021626796794337322, 0.0030677036037554117, 0.0002070905481852403]]"
      ]
     },
     "execution_count": 8,
     "metadata": {},
     "output_type": "execute_result"
    }
   ],
   "source": [
    "output_errors"
   ]
  },
  {
   "cell_type": "code",
   "execution_count": 9,
   "metadata": {
    "collapsed": true,
    "jupyter": {
     "outputs_hidden": true
    }
   },
   "outputs": [
    {
     "data": {
      "text/plain": [
       "[[(0,\n",
       "   209,\n",
       "   3,\n",
       "   116,\n",
       "   74,\n",
       "   827,\n",
       "   304,\n",
       "   699,\n",
       "   982,\n",
       "   276,\n",
       "   202,\n",
       "   604,\n",
       "   248,\n",
       "   235,\n",
       "   457,\n",
       "   167,\n",
       "   924,\n",
       "   751,\n",
       "   332,\n",
       "   555,\n",
       "   1001),\n",
       "  (0, 417, 996, 316, 948, 378, 852, 752, 71, 690, 1001),\n",
       "  (0, 671, 970, 378, 852, 71, 1001)],\n",
       " [(0,\n",
       "   320,\n",
       "   335,\n",
       "   692,\n",
       "   706,\n",
       "   938,\n",
       "   849,\n",
       "   190,\n",
       "   447,\n",
       "   79,\n",
       "   750,\n",
       "   495,\n",
       "   167,\n",
       "   181,\n",
       "   725,\n",
       "   369,\n",
       "   303,\n",
       "   910,\n",
       "   1001),\n",
       "  (0, 288, 741, 820, 57, 241, 492, 727, 569, 1001),\n",
       "  (0, 741, 57, 241, 492, 727, 569, 1001)],\n",
       " [(0,\n",
       "   171,\n",
       "   325,\n",
       "   289,\n",
       "   385,\n",
       "   952,\n",
       "   409,\n",
       "   361,\n",
       "   111,\n",
       "   373,\n",
       "   814,\n",
       "   144,\n",
       "   120,\n",
       "   364,\n",
       "   844,\n",
       "   677,\n",
       "   547,\n",
       "   304,\n",
       "   487,\n",
       "   1001),\n",
       "  (0, 300, 747, 361, 814, 584, 844, 547, 304, 1001),\n",
       "  (0, 289, 273, 814, 584, 166, 1001)],\n",
       " [(0,\n",
       "   70,\n",
       "   260,\n",
       "   883,\n",
       "   579,\n",
       "   442,\n",
       "   7,\n",
       "   406,\n",
       "   146,\n",
       "   348,\n",
       "   703,\n",
       "   108,\n",
       "   769,\n",
       "   310,\n",
       "   68,\n",
       "   924,\n",
       "   922,\n",
       "   919,\n",
       "   736,\n",
       "   1001),\n",
       "  (0, 155, 360, 192, 131, 634, 585, 926, 903, 955, 1001),\n",
       "  (0, 650, 709, 200, 585, 926, 919, 1001)],\n",
       " [(0,\n",
       "   21,\n",
       "   119,\n",
       "   325,\n",
       "   978,\n",
       "   665,\n",
       "   285,\n",
       "   9,\n",
       "   896,\n",
       "   609,\n",
       "   525,\n",
       "   80,\n",
       "   231,\n",
       "   736,\n",
       "   925,\n",
       "   256,\n",
       "   362,\n",
       "   586,\n",
       "   1001),\n",
       "  (0, 151, 242, 243, 921, 80, 872, 761, 1001),\n",
       "  (0, 180, 626, 610, 736, 162, 1001)]]"
      ]
     },
     "execution_count": 9,
     "metadata": {},
     "output_type": "execute_result"
    }
   ],
   "source": [
    "output_paths"
   ]
  },
  {
   "cell_type": "code",
   "execution_count": null,
   "metadata": {},
   "outputs": [],
   "source": []
  }
 ],
 "metadata": {
  "kernelspec": {
   "display_name": "Python 3",
   "language": "python",
   "name": "python3"
  },
  "language_info": {
   "codemirror_mode": {
    "name": "ipython",
    "version": 3
   },
   "file_extension": ".py",
   "mimetype": "text/x-python",
   "name": "python",
   "nbconvert_exporter": "python",
   "pygments_lexer": "ipython3",
   "version": "3.7.6"
  }
 },
 "nbformat": 4,
 "nbformat_minor": 4
}
