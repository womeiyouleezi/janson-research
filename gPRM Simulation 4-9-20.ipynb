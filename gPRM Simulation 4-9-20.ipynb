{
 "cells": [
  {
   "cell_type": "code",
   "execution_count": 1,
   "metadata": {},
   "outputs": [
    {
     "data": {
      "text/plain": [
       "'/usr/local/opt/python/bin/python3.7'"
      ]
     },
     "execution_count": 1,
     "metadata": {},
     "output_type": "execute_result"
    }
   ],
   "source": [
    "import sys\n",
    "sys.executable"
   ]
  },
  {
   "cell_type": "code",
   "execution_count": 26,
   "metadata": {},
   "outputs": [],
   "source": [
    "import numpy as np\n",
    "from scipy.spatial import KDTree\n",
    "import matplotlib\n",
    "\n",
    "from collections import defaultdict\n",
    "from heapq import *"
   ]
  },
  {
   "cell_type": "raw",
   "metadata": {},
   "source": [
    "Things to implement:\n",
    "- gPRM algorithm\n",
    "    * SampleFree() : a simulator for the free space (takes dimension and sample size)\n",
    "    * Near() : computes nearest neighbors for each point (should be a pre-computation)\n",
    "    * CollisionFree() : ~NOT NEEDED~\n",
    "    * ShortestPath() : just implement Dijkstra's algorithm\n",
    "    \n",
    "Notes:\n",
    "- Should be able to run a simulation for any dimension, work on any n, and use the uniform sampling distribution\n",
    "- r_n is Omega( (1/n * log n)^(1/d))\n",
    "- Janson suggested x_init = {0.1}^d, x_goal = {1}^d - x_init"
   ]
  },
  {
   "cell_type": "code",
   "execution_count": 16,
   "metadata": {},
   "outputs": [],
   "source": [
    "# SampleFree Implementation"
   ]
  },
  {
   "cell_type": "code",
   "execution_count": 22,
   "metadata": {},
   "outputs": [],
   "source": [
    "def SampleFree(n, d, x_init, x_goal, distr=None):\n",
    "    \n",
    "    # start with init point (index 0)\n",
    "    V = [x_init]\n",
    "    \n",
    "    for i in range(n):\n",
    "        \n",
    "        # for now, only uniform sampling\n",
    "        V.append(np.random.uniform(size=d))\n",
    "        \n",
    "    # add the goal point\n",
    "    V.append(x_goal)\n",
    "    \n",
    "    return V"
   ]
  },
  {
   "cell_type": "code",
   "execution_count": 15,
   "metadata": {},
   "outputs": [],
   "source": [
    "# Near Implementation"
   ]
  },
  {
   "cell_type": "code",
   "execution_count": 31,
   "metadata": {},
   "outputs": [],
   "source": [
    "# This will compute X_near for all vertices in V in one go\n",
    "def Near(V, r_n):\n",
    "    \n",
    "    # Create a KD Tree first\n",
    "    KDT = KDTree(data=V)\n",
    "    \n",
    "    # Create the KD Tree to search against\n",
    "    search_against = KDTree(data=V)\n",
    "\n",
    "    # run query_ball_tree\n",
    "    results = KDT.query_ball_tree(other=search_against, r=r_n)\n",
    "    \n",
    "    # construct edge set\n",
    "    edges = []\n",
    "    for i in range(len(V)):\n",
    "        for j in results[i]:\n",
    "            if i == j:\n",
    "                continue\n",
    "            # here, i and j are indices in V\n",
    "            distance = np.linalg.norm(V[i] - V[j], ord=None)\n",
    "            edges.append((i, j, distance))\n",
    "            \n",
    "    return edges"
   ]
  },
  {
   "cell_type": "code",
   "execution_count": 4,
   "metadata": {},
   "outputs": [],
   "source": [
    "# ShortestPath Implementation"
   ]
  },
  {
   "cell_type": "code",
   "execution_count": 8,
   "metadata": {
    "jupyter": {
     "source_hidden": true
    }
   },
   "outputs": [],
   "source": [
    "class Heap(): \n",
    "# Copied from G2G :^)\n",
    "  \n",
    "    def __init__(self): \n",
    "        self.array = [] \n",
    "        self.size = 0\n",
    "        self.pos = [] \n",
    "  \n",
    "    def newMinHeapNode(self, v, dist): \n",
    "        minHeapNode = [v, dist] \n",
    "        return minHeapNode \n",
    "  \n",
    "    # Swap two nodes\n",
    "    def swapMinHeapNode(self,a, b): \n",
    "        t = self.array[a] \n",
    "        self.array[a] = self.array[b] \n",
    "        self.array[b] = t \n",
    "  \n",
    "    # Heapify at index idx\n",
    "    def minHeapify(self, idx): \n",
    "        smallest = idx \n",
    "        left = 2*idx + 1\n",
    "        right = 2*idx + 2\n",
    "  \n",
    "        if left < self.size and self.array[left][1] < self.array[smallest][1]: \n",
    "            smallest = left \n",
    "  \n",
    "        if right < self.size and self.array[right][1] < self.array[smallest][1]: \n",
    "            smallest = right \n",
    "  \n",
    "        # The nodes to be swapped in min heap if idx is not smallest \n",
    "        if smallest != idx: \n",
    "  \n",
    "            # Swap positions \n",
    "            self.pos[ self.array[smallest][0] ] = idx \n",
    "            self.pos[ self.array[idx][0] ] = smallest \n",
    "  \n",
    "            # Swap nodes \n",
    "            self.swapMinHeapNode(smallest, idx) \n",
    "            self.minHeapify(smallest) \n",
    "  \n",
    "    # Popping minimum node\n",
    "    def extractMin(self): \n",
    "  \n",
    "        # Return NULL wif heap is empty \n",
    "        if self.isEmpty() == True: \n",
    "            return\n",
    "  \n",
    "        # Store the root node \n",
    "        root = self.array[0] \n",
    "  \n",
    "        # Replace root node with last node \n",
    "        lastNode = self.array[self.size - 1] \n",
    "        self.array[0] = lastNode \n",
    "  \n",
    "        # Update position of last node \n",
    "        self.pos[lastNode[0]] = 0\n",
    "        self.pos[root[0]] = self.size - 1\n",
    "  \n",
    "        # Reduce heap size and heapify root \n",
    "        self.size -= 1\n",
    "        self.minHeapify(0) \n",
    "  \n",
    "        return root \n",
    "  \n",
    "    def isEmpty(self): \n",
    "        return True if self.size == 0 else False\n",
    "  \n",
    "    def decreaseKey(self, v, dist): \n",
    "  \n",
    "        # Get the index of v in  heap array \n",
    "        i = self.pos[v] \n",
    "  \n",
    "        # Get the node and update its dist value \n",
    "        self.array[i][1] = dist \n",
    "  \n",
    "        # Travel up while the complete tree is  \n",
    "        # not hepified. This is a O(Logn) loop \n",
    "        while i > 0 and self.array[i][1] < self.array[(i - 1) / 2][1]: \n",
    "  \n",
    "            # Swap this node with its parent \n",
    "            self.pos[ self.array[i][0] ] = (i-1)/2\n",
    "            self.pos[ self.array[(i-1)/2][0] ] = i \n",
    "            self.swapMinHeapNode(i, (i - 1)/2 ) \n",
    "  \n",
    "            # move to parent index \n",
    "            i = (i - 1) / 2; \n",
    "  \n",
    "    # A utility function to check if a given  \n",
    "    # vertex 'v' is in min heap or not \n",
    "    def isInMinHeap(self, v): \n",
    "  \n",
    "        if self.pos[v] < self.size: \n",
    "            return True\n",
    "        return False"
   ]
  },
  {
   "cell_type": "code",
   "execution_count": 114,
   "metadata": {},
   "outputs": [],
   "source": [
    "def dijkstra_revised(edges, init, goal):\n",
    "    g = defaultdict(list)\n",
    "    for l,r,c in edges:\n",
    "        g[l].append((c,r))\n",
    "\n",
    "    # dist records the min value of each node in heap.\n",
    "    q, seen, dist = [(0,init,())], set(), {init: 0}\n",
    "    while q:\n",
    "        (cost,v1,path) = heappop(q)\n",
    "        if v1 in seen: continue\n",
    "\n",
    "        seen.add(v1)\n",
    "        path += (v1,)\n",
    "        if v1 == goal: return (cost, path)\n",
    "\n",
    "        for c, v2 in g.get(v1, ()):\n",
    "            if v2 in seen: continue\n",
    "\n",
    "            # Not every edge will be calculated. The edge which can improve the value of node in heap will be useful.\n",
    "            if v2 not in dist or cost+c < dist[v2]:\n",
    "                dist[v2] = cost+c\n",
    "                heappush(q, (cost+c, v2, path))\n",
    "\n",
    "    return float(\"inf\")\n",
    "\n",
    "def ShortestPath(edges, init, goal):\n",
    "    output = dijkstra(edges, init, goal)\n",
    "    #assert not isinstance(output, float)\n",
    "    try:\n",
    "        return output[0]\n",
    "    except:\n",
    "        if isinstance(output, float):\n",
    "            print(\"Shortest path does not exist\")\n",
    "        else:\n",
    "            print(\"An error occurred\")"
   ]
  },
  {
   "cell_type": "code",
   "execution_count": 115,
   "metadata": {},
   "outputs": [],
   "source": [
    "# gPRM"
   ]
  },
  {
   "cell_type": "code",
   "execution_count": 119,
   "metadata": {},
   "outputs": [],
   "source": [
    "D = 2\n",
    "n = 10000\n",
    "r_n = 0.05\n",
    "\n",
    "x_init = np.array([0.1] * D)\n",
    "x_goal = np.array([0.9] * D)\n",
    "\n",
    "V = SampleFree(n, D, x_init, x_goal)"
   ]
  },
  {
   "cell_type": "code",
   "execution_count": 120,
   "metadata": {},
   "outputs": [],
   "source": [
    "E = Near(V, r_n)"
   ]
  },
  {
   "cell_type": "code",
   "execution_count": 121,
   "metadata": {},
   "outputs": [],
   "source": [
    "length = ShortestPath(E, 0, n+1)"
   ]
  },
  {
   "cell_type": "code",
   "execution_count": 122,
   "metadata": {},
   "outputs": [
    {
     "name": "stdout",
     "output_type": "stream",
     "text": [
      "gPRM output: 1.1328495294871275\n",
      "true distance: 1.1313708498984762\n",
      "error: +0.0014786795886512216\n"
     ]
    }
   ],
   "source": [
    "# check\n",
    "print('gPRM output: ' + str(length))\n",
    "print('true distance: ' + str(np.linalg.norm(x_init - x_goal, ord=None)))\n",
    "print('error: +' + str(length - np.linalg.norm(x_init - x_goal, ord=None)))"
   ]
  },
  {
   "cell_type": "code",
   "execution_count": null,
   "metadata": {},
   "outputs": [],
   "source": []
  }
 ],
 "metadata": {
  "kernelspec": {
   "display_name": "Python 3",
   "language": "python",
   "name": "python3"
  },
  "language_info": {
   "codemirror_mode": {
    "name": "ipython",
    "version": 3
   },
   "file_extension": ".py",
   "mimetype": "text/x-python",
   "name": "python",
   "nbconvert_exporter": "python",
   "pygments_lexer": "ipython3",
   "version": "3.7.6"
  }
 },
 "nbformat": 4,
 "nbformat_minor": 4
}
