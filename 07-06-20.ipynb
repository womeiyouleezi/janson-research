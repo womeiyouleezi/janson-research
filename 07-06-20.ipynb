{
 "cells": [
  {
   "cell_type": "code",
   "execution_count": 1,
   "metadata": {},
   "outputs": [
    {
     "data": {
      "text/plain": [
       "'/usr/local/opt/python/bin/python3.7'"
      ]
     },
     "execution_count": 1,
     "metadata": {},
     "output_type": "execute_result"
    }
   ],
   "source": [
    "import sys\n",
    "sys.executable"
   ]
  },
  {
   "cell_type": "code",
   "execution_count": 2,
   "metadata": {},
   "outputs": [],
   "source": [
    "import numpy as np\n",
    "import pandas as pd\n",
    "from scipy.spatial import KDTree\n",
    "from scipy.stats import expon, anderson, probplot, sem\n",
    "import math\n",
    "\n",
    "import matplotlib.pyplot as plt\n",
    "\n",
    "from copy import deepcopy\n",
    "\n",
    "import pickle"
   ]
  },
  {
   "cell_type": "code",
   "execution_count": 6,
   "metadata": {},
   "outputs": [],
   "source": [
    "# r_n function\n",
    "def r(n, D):\n",
    "    return (n ** (-1/(2*D))) / 10\n",
    "    # designed for n = 10^6"
   ]
  },
  {
   "cell_type": "code",
   "execution_count": 3,
   "metadata": {},
   "outputs": [],
   "source": [
    "n = 1000000\n",
    "D = 2\n",
    "\n",
    "x_init = np.array([0.1, 0.1])\n",
    "x_goal = np.array([0.9, 0.9])"
   ]
  },
  {
   "cell_type": "code",
   "execution_count": 4,
   "metadata": {},
   "outputs": [],
   "source": [
    "distances = []\n",
    "S_n = []\n",
    "counts = []\n",
    "\n",
    "#g = open('slurm scripts/data/06-24-20/asymptotics-dim2_n50000.out', 'r')\n",
    "#for line in g:\n",
    "#    distances.append(float(line))\n",
    "\n",
    "filename = 'slurm scripts/data/07-06-20/path_points/'\n",
    "for i in range(1,501):\n",
    "    #if distances[i] == float('inf'):\n",
    "    #    S_n.append(float('inf'))\n",
    "    #    continue\n",
    "    f = open(filename+str(i)+'-dim2-n1000000_pathpoints.pkl', \"rb\")\n",
    "    pathpoints = pickle.load(f)\n",
    "    s_n = 0\n",
    "    for j in range(len(pathpoints)-2):\n",
    "        s_n += np.linalg.norm(pathpoints[j+1] - pathpoints[j])\n",
    "    S_n.append(s_n)\n",
    "    distances.append(s_n + np.linalg.norm(pathpoints[-1] - pathpoints[-2]))\n",
    "    counts.append(len(pathpoints)-2)\n",
    "    \n",
    "    if pathpoints[-1][0] != 0.9 or pathpoints[-1][1] != 0.9:\n",
    "        print(i)\n",
    "\n",
    "        \n",
    "distances = np.array(distances)\n",
    "S_n = np.array(S_n)\n",
    "counts = np.array(counts)"
   ]
  },
  {
   "cell_type": "code",
   "execution_count": 48,
   "metadata": {},
   "outputs": [],
   "source": [
    "edge_lengths = []\n",
    "angle_displacements = []\n",
    "for i in range(1, 501):\n",
    "    f = open(filename+str(i)+'-dim2-n1000000_pathpoints.pkl', \"rb\")\n",
    "    pathpoints = pickle.load(f)\n",
    "    for j in range(len(pathpoints)-2):\n",
    "        edge_lengths.append(np.linalg.norm(pathpoints[j+1] - pathpoints[j]))\n",
    "        \n",
    "        #if j == len(pathpoints)-3:\n",
    "        #    continue\n",
    "        \n",
    "        vect_1 = pathpoints[j+1] - pathpoints[j]\n",
    "        vect_2 = x_goal - pathpoints[j]\n",
    "        angle = math.atan2( vect_1[0]*vect_2[1] - vect_1[1]*vect_2[0], vect_1[0]*vect_2[0] + vect_1[1]*vect_2[1])\n",
    "        angle_displacements.append(angle)\n",
    "        \n",
    "edge_lengths = np.array(edge_lengths)\n",
    "angle_displacements = np.array(angle_displacements)"
   ]
  },
  {
   "cell_type": "code",
   "execution_count": 52,
   "metadata": {
    "collapsed": true,
    "jupyter": {
     "outputs_hidden": true
    }
   },
   "outputs": [
    {
     "data": {
      "text/plain": [
       "(array([   31.,    99.,   204.,   318.,   455.,   553.,   690.,   839.,\n",
       "         1018.,  1241.,  1383.,  1522.,  1717.,  1924.,  2153.,  2386.,\n",
       "         2676.,  2858.,  3208.,  3309.,  3662.,  4003.,  4252.,  4411.,\n",
       "         4734.,  5090.,  5277.,  5476.,  5999.,  6094.,  6507.,  6647.,\n",
       "         6818.,  7269.,  7537.,  7780.,  7985.,  8385.,  8592.,  9124.,\n",
       "         9152.,  9417.,  9776.,  9928., 10391., 10616., 10684., 10819.,\n",
       "        11202., 11535.]),\n",
       " array([1.65547906e-06, 6.48678483e-05, 1.28080218e-04, 1.91292587e-04,\n",
       "        2.54504956e-04, 3.17717325e-04, 3.80929695e-04, 4.44142064e-04,\n",
       "        5.07354433e-04, 5.70566802e-04, 6.33779172e-04, 6.96991541e-04,\n",
       "        7.60203910e-04, 8.23416279e-04, 8.86628649e-04, 9.49841018e-04,\n",
       "        1.01305339e-03, 1.07626576e-03, 1.13947813e-03, 1.20269049e-03,\n",
       "        1.26590286e-03, 1.32911523e-03, 1.39232760e-03, 1.45553997e-03,\n",
       "        1.51875234e-03, 1.58196471e-03, 1.64517708e-03, 1.70838945e-03,\n",
       "        1.77160182e-03, 1.83481419e-03, 1.89802656e-03, 1.96123893e-03,\n",
       "        2.02445129e-03, 2.08766366e-03, 2.15087603e-03, 2.21408840e-03,\n",
       "        2.27730077e-03, 2.34051314e-03, 2.40372551e-03, 2.46693788e-03,\n",
       "        2.53015025e-03, 2.59336262e-03, 2.65657499e-03, 2.71978736e-03,\n",
       "        2.78299973e-03, 2.84621210e-03, 2.90942446e-03, 2.97263683e-03,\n",
       "        3.03584920e-03, 3.09906157e-03, 3.16227394e-03]),\n",
       " <a list of 50 Patch objects>)"
      ]
     },
     "execution_count": 52,
     "metadata": {},
     "output_type": "execute_result"
    },
    {
     "data": {
      "image/png": "[encoded data removed]",
      "text/plain": [
       "<Figure size 432x288 with 1 Axes>"
      ]
     },
     "metadata": {
      "needs_background": "light"
     },
     "output_type": "display_data"
    }
   ],
   "source": [
    "plt.hist(edge_lengths, bins = 50)"
   ]
  },
  {
   "cell_type": "code",
   "execution_count": 14,
   "metadata": {},
   "outputs": [
    {
     "data": {
      "text/plain": [
       "40"
      ]
     },
     "execution_count": 14,
     "metadata": {},
     "output_type": "execute_result"
    }
   ],
   "source": [
    "max(set(counts)) - min(set(counts))"
   ]
  },
  {
   "cell_type": "code",
   "execution_count": 15,
   "metadata": {},
   "outputs": [
    {
     "data": {
      "text/plain": [
       "Text(0.5, 1.0, '40 bins')"
      ]
     },
     "execution_count": 15,
     "metadata": {},
     "output_type": "execute_result"
    },
    {
     "data": {
      "image/png": "[encoded data removed]",
      "text/plain": [
       "<Figure size 1440x432 with 1 Axes>"
      ]
     },
     "metadata": {
      "needs_background": "light"
     },
     "output_type": "display_data"
    }
   ],
   "source": [
    "num = 40\n",
    "plt.figure(figsize=(20, 6))\n",
    "plt.hist(counts, range(498, 539))\n",
    "plt.xticks(range(498, 539))\n",
    "plt.title(str(num) + ' bins')"
   ]
  },
  {
   "cell_type": "code",
   "execution_count": 56,
   "metadata": {},
   "outputs": [
    {
     "data": {
      "text/plain": [
       "37.017935999999985"
      ]
     },
     "execution_count": 56,
     "metadata": {},
     "output_type": "execute_result"
    }
   ],
   "source": [
    "np.std(counts) ** 2"
   ]
  },
  {
   "cell_type": "code",
   "execution_count": 16,
   "metadata": {},
   "outputs": [
    {
     "data": {
      "text/plain": [
       "False"
      ]
     },
     "execution_count": 16,
     "metadata": {},
     "output_type": "execute_result"
    }
   ],
   "source": [
    "500 in counts"
   ]
  },
  {
   "cell_type": "code",
   "execution_count": 17,
   "metadata": {},
   "outputs": [
    {
     "data": {
      "text/plain": [
       "31.41592653589792"
      ]
     },
     "execution_count": 17,
     "metadata": {},
     "output_type": "execute_result"
    }
   ],
   "source": [
    "( r(n,D) ** 2) * math.pi * n"
   ]
  },
  {
   "cell_type": "code",
   "execution_count": 18,
   "metadata": {},
   "outputs": [
    {
     "name": "stdout",
     "output_type": "stream",
     "text": [
      "533.9752683497045\n"
     ]
    }
   ],
   "source": [
    "T = (0.8 * (2 ** 0.5)) / (2/3 * r(n,D)) * math.cos(math.pi / 31.41592653589792)\n",
    "print(T)"
   ]
  },
  {
   "cell_type": "code",
   "execution_count": 22,
   "metadata": {},
   "outputs": [
    {
     "data": {
      "text/plain": [
       "0.14142135623730953"
      ]
     },
     "execution_count": 22,
     "metadata": {},
     "output_type": "execute_result"
    }
   ],
   "source": [
    "(1/18) * (r(n, D) ** 2) * ((0.8 * (2 ** 0.5)) / (2/3 * r(n,D)) ** 2)"
   ]
  },
  {
   "cell_type": "code",
   "execution_count": 21,
   "metadata": {},
   "outputs": [
    {
     "data": {
      "text/plain": [
       "0.15840532622729936"
      ]
     },
     "execution_count": 21,
     "metadata": {},
     "output_type": "execute_result"
    }
   ],
   "source": [
    "(1/18) * (r(n, D) ** 2) * (T ** 2)"
   ]
  },
  {
   "cell_type": "code",
   "execution_count": 23,
   "metadata": {},
   "outputs": [
    {
     "data": {
      "text/plain": [
       "0.027634847846733288"
      ]
     },
     "execution_count": 23,
     "metadata": {},
     "output_type": "execute_result"
    }
   ],
   "source": [
    "# empirical variance\n",
    "\n",
    "np.std((S_n) * (np.sqrt(counts))) ** 2"
   ]
  },
  {
   "cell_type": "code",
   "execution_count": 19,
   "metadata": {},
   "outputs": [
    {
     "data": {
      "text/plain": [
       "0.14764945555555553"
      ]
     },
     "execution_count": 19,
     "metadata": {},
     "output_type": "execute_result"
    }
   ],
   "source": [
    "# our approximation\n",
    "\n",
    "(1/18) * (r(n, D) ** 2) * np.mean(counts ** 2)"
   ]
  },
  {
   "cell_type": "code",
   "execution_count": 53,
   "metadata": {},
   "outputs": [
    {
     "data": {
      "text/plain": [
       "5.555555555555554e-07"
      ]
     },
     "execution_count": 53,
     "metadata": {},
     "output_type": "execute_result"
    }
   ],
   "source": [
    "# variance of tilde(X)_ni\n",
    "\n",
    "(1/18) * (r(n, D) ** 2)"
   ]
  },
  {
   "cell_type": "code",
   "execution_count": 54,
   "metadata": {},
   "outputs": [
    {
     "data": {
      "text/plain": [
       "4.6694817793174623e-07"
      ]
     },
     "execution_count": 54,
     "metadata": {},
     "output_type": "execute_result"
    }
   ],
   "source": [
    "# empirical variance of R_ni\n",
    "\n",
    "np.std(edge_lengths) ** 2"
   ]
  },
  {
   "cell_type": "code",
   "execution_count": 55,
   "metadata": {},
   "outputs": [
    {
     "data": {
      "text/plain": [
       "0.12410035963970584"
      ]
     },
     "execution_count": 55,
     "metadata": {},
     "output_type": "execute_result"
    }
   ],
   "source": [
    "# using empirical variance of R_ni in our approximation for empirical variance of S_n sqrt(T_n)\n",
    "\n",
    "(np.std(edge_lengths) ** 2) * np.mean(counts ** 2)\n",
    "\n",
    "# lower (and closer!), but still a long way to go"
   ]
  },
  {
   "cell_type": "code",
   "execution_count": 34,
   "metadata": {},
   "outputs": [
    {
     "data": {
      "text/plain": [
       "0.07689388731124445"
      ]
     },
     "execution_count": 34,
     "metadata": {},
     "output_type": "execute_result"
    }
   ],
   "source": [
    "lengths = deepcopy(S_n)\n",
    "lengths = lengths - ((counts) * (2/3) * r(n,D))\n",
    "#lengths /= ((T) * (2/3) * r(n,D))\n",
    "lengths = lengths * np.sqrt(counts)\n",
    "\n",
    "np.std(lengths) ** 2"
   ]
  },
  {
   "cell_type": "code",
   "execution_count": 29,
   "metadata": {},
   "outputs": [
    {
     "data": {
      "text/plain": [
       "0.001431507574712072"
      ]
     },
     "execution_count": 29,
     "metadata": {},
     "output_type": "execute_result"
    }
   ],
   "source": [
    "lengths = deepcopy(S_n)\n",
    "lengths = lengths - ((T) * (2/3) * r(n,D))\n",
    "#lengths /= ((T) * (2/3) * r(n,D))\n",
    "lengths = lengths * (T ** (1/2))\n",
    "\n",
    "np.std(lengths) ** 2"
   ]
  },
  {
   "cell_type": "code",
   "execution_count": null,
   "metadata": {},
   "outputs": [],
   "source": []
  }
 ],
 "metadata": {
  "kernelspec": {
   "display_name": "Python 3",
   "language": "python",
   "name": "python3"
  },
  "language_info": {
   "codemirror_mode": {
    "name": "ipython",
    "version": 3
   },
   "file_extension": ".py",
   "mimetype": "text/x-python",
   "name": "python",
   "nbconvert_exporter": "python",
   "pygments_lexer": "ipython3",
   "version": "3.7.6"
  }
 },
 "nbformat": 4,
 "nbformat_minor": 4
}
