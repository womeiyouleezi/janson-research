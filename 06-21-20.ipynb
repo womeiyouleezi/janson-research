{
 "cells": [
  {
   "cell_type": "code",
   "execution_count": 1,
   "metadata": {},
   "outputs": [
    {
     "data": {
      "text/plain": [
       "'/usr/local/opt/python/bin/python3.7'"
      ]
     },
     "execution_count": 1,
     "metadata": {},
     "output_type": "execute_result"
    }
   ],
   "source": [
    "import sys\n",
    "sys.executable"
   ]
  },
  {
   "cell_type": "code",
   "execution_count": 2,
   "metadata": {},
   "outputs": [],
   "source": [
    "import numpy as np\n",
    "import pandas as pd\n",
    "from scipy.spatial import KDTree\n",
    "import math\n",
    "\n",
    "import matplotlib.pyplot as plt\n",
    "\n",
    "from copy import deepcopy"
   ]
  },
  {
   "cell_type": "code",
   "execution_count": 3,
   "metadata": {},
   "outputs": [],
   "source": [
    "# r_n function\n",
    "def r(n, D):\n",
    "    return n ** (-1/(2*D))"
   ]
  },
  {
   "cell_type": "code",
   "execution_count": 52,
   "metadata": {},
   "outputs": [],
   "source": [
    "distances = []\n",
    "counts = []\n",
    "\n",
    "filename = 'slurm scripts/data/06-19-20/asymptotics-dim2_n50000-'\n",
    "\n",
    "for i in range(1,4):\n",
    "    f = open(filename+str(i)+'.out', \"r\")\n",
    "    for line in f:\n",
    "        distance = line.split()[0]\n",
    "        count = line.split()[1]\n",
    "        distances.append(float(distance))\n",
    "        counts.append(int(count)-1)\n",
    "        \n",
    "distances = np.array(distances)\n",
    "counts = np.array(counts)"
   ]
  },
  {
   "cell_type": "code",
   "execution_count": 55,
   "metadata": {},
   "outputs": [
    {
     "data": {
      "text/plain": [
       "1.0000151332727982"
      ]
     },
     "execution_count": 55,
     "metadata": {},
     "output_type": "execute_result"
    }
   ],
   "source": [
    "distances[0]/(0.8 * (2 ** 0.5))"
   ]
  },
  {
   "cell_type": "code",
   "execution_count": 40,
   "metadata": {},
   "outputs": [
    {
     "data": {
      "text/plain": [
       "Text(0.5, 1.0, 'counts x distances')"
      ]
     },
     "execution_count": 40,
     "metadata": {},
     "output_type": "execute_result"
    },
    {
     "data": {
      "image/png": "[encoded data removed]",
      "text/plain": [
       "<Figure size 720x720 with 1 Axes>"
      ]
     },
     "metadata": {
      "needs_background": "light"
     },
     "output_type": "display_data"
    }
   ],
   "source": [
    "plt.figure(figsize=(10, 10))\n",
    "plt.scatter(lengths, counts, c='b', s=4)\n",
    "plt.title('counts x distances')"
   ]
  },
  {
   "cell_type": "code",
   "execution_count": 42,
   "metadata": {},
   "outputs": [],
   "source": [
    "# T_n approaches 1.5 * (true length) n^(1/4)\n",
    "\n",
    "n = 50000\n",
    "D = 2"
   ]
  },
  {
   "cell_type": "code",
   "execution_count": 43,
   "metadata": {},
   "outputs": [],
   "source": [
    "lengths = deepcopy(distances)"
   ]
  },
  {
   "cell_type": "code",
   "execution_count": 44,
   "metadata": {},
   "outputs": [],
   "source": [
    "lengths = lengths - (counts * (2/3) * r(n,D))"
   ]
  },
  {
   "cell_type": "code",
   "execution_count": 45,
   "metadata": {},
   "outputs": [],
   "source": [
    "lengths = lengths * (counts ** (1/2))"
   ]
  },
  {
   "cell_type": "code",
   "execution_count": 46,
   "metadata": {},
   "outputs": [],
   "source": [
    "lengths = lengths / (2/5)"
   ]
  },
  {
   "cell_type": "code",
   "execution_count": 21,
   "metadata": {
    "collapsed": true,
    "jupyter": {
     "outputs_hidden": true
    }
   },
   "outputs": [
    {
     "data": {
      "text/plain": [
       "array([ 0.55774615,  1.08743413,  1.41349321,  0.7924877 ,  1.72427768,\n",
       "        1.23951712,  0.75408339,  1.35340615, -0.85372517, -0.46558075,\n",
       "        0.72817583,  0.63713432,  0.46239155,  1.05099706,  1.32012677,\n",
       "        0.52029548, -0.12532569,  1.08747996,  0.2673218 , -0.51048709,\n",
       "        0.19606474,  0.91356553, -0.58245947,  0.3895832 ,  1.14818684,\n",
       "       -0.01559609, -0.31876375,  1.01725019,  0.64039729,  0.60732734,\n",
       "        1.35107049,  0.52539029, -0.23306177,  0.03899669,  0.52716675,\n",
       "        1.01832231,  1.02192261,  1.55627256,  0.60134638,  0.85133382,\n",
       "        0.61294729,  0.57376616, -0.21437086,  1.00172266,  1.95940925,\n",
       "        1.18849679,  0.90663097,  0.21189986, -0.08555508,  1.22576929,\n",
       "        1.1282382 ,  1.17333273,  0.49753818,  1.06279545,  1.12284056,\n",
       "        1.04733837,  0.61031079,  0.25547041,  0.11247967,  0.99579932,\n",
       "        1.27433845,  0.74663343, -0.0047931 ,  0.09446538,  1.06543273,\n",
       "        0.98342244,  0.91156031,  0.5679755 ,  1.6898352 ,  0.70290686,\n",
       "        0.24821276,  1.19764168,  1.11764634, -0.2354603 ,  1.73371196,\n",
       "        0.33338665,  1.14087894,  0.94842012, -0.06172783,  0.44714006,\n",
       "        0.6420198 ,  0.52000018, -0.47422597,  1.33208143,  0.67953453,\n",
       "        0.74521115,  0.29156979, -0.23629958,  0.4715429 ,  0.13896356,\n",
       "        1.36700605,  1.04003099,  1.70844554,  0.6267493 ,  0.93485043,\n",
       "        1.72180644,  1.60839794,  0.55501684,  1.21214038, -1.29673223,\n",
       "        1.49367612, -0.13353657,  0.87189135, -0.40091359,  0.04935568,\n",
       "       -0.6496474 ,  1.20123542,  0.31688338,  0.16866893,  1.08126346,\n",
       "       -0.24066701,  1.1838726 , -0.59293544,  0.05155884, -0.31433855,\n",
       "        1.00727475,  0.63689967,  1.74902049,  0.24028831, -0.07389172,\n",
       "        1.19903493,  1.12323977,  1.00240955,  0.00302427,  0.47685428,\n",
       "        0.10685435, -0.13863868,  1.08940745,  0.67341006, -0.20865068,\n",
       "        1.48986304,  0.72964973,  2.07022189, -0.41755188,  0.90729889,\n",
       "        0.72345473,  0.30446477, -0.30166343,  0.29974914,  1.55293439,\n",
       "       -0.07919217,  0.62681568,  0.22912623,  0.59884534,  0.75795684,\n",
       "        1.86767129,  0.77323314,  1.5171535 ,  1.15743906,  0.48183624,\n",
       "        0.93614943,  0.53764308,  1.00909777,  0.12548495,  1.00994341,\n",
       "        1.20057115,  0.27130755, -0.37767646, -0.5773154 ,  0.48879272,\n",
       "        0.89957256,  0.26684481,  1.51030358, -0.33342013,  0.2603097 ,\n",
       "       -1.1657496 ,  1.60929656,  2.02155723,  0.03090428, -0.0580011 ,\n",
       "       -1.1586971 ,  1.24358187,  1.10651805,  0.75584775,  1.32482933,\n",
       "        1.22386301,  0.05129518,  0.71049312,  0.72698029,  1.0375306 ,\n",
       "        0.0719275 ,  0.09314405,  1.00969754,  1.05786493,  0.32273956,\n",
       "        1.3786463 ,  1.37651728, -1.50174788,  0.32966136,  0.44497718,\n",
       "        1.04023183,  0.83637085,  0.0685531 ,  1.65546971,  0.73638841,\n",
       "        1.1789635 ,  0.61291163,  0.14827977, -0.58473458,  1.9514565 ,\n",
       "        1.47159026,  1.55900321, -0.80396776, -1.63398932,  1.55008119,\n",
       "        1.47240858,  0.51043157,  0.99419677,  2.09686397,  1.19807306,\n",
       "        0.4764643 ,  0.87901039,  1.10025336, -0.1585242 ,  1.23674316,\n",
       "        1.08050027,  0.73291786,  1.12413711,  2.07854751, -0.38138206,\n",
       "        1.71667152,  0.178713  , -0.73806448,  0.06496658,  0.58958957,\n",
       "        0.47821842,  0.14086656,  1.01957072,  1.82122533,  0.66240927,\n",
       "        0.1574545 ,  1.57233905,  1.40550283,  0.51112839,  0.03901805,\n",
       "        0.48792545, -0.59117955,  0.60686327,  1.0275968 ,  0.71141294,\n",
       "        0.11290849,  0.37879689,  1.89305512, -1.16166416,  1.02785748,\n",
       "        1.51482435,  0.3669449 , -0.78820805,  0.65008119,  0.08588256,\n",
       "       -0.32330429,  0.16487851,  0.71245501, -0.30045025,  1.29051186,\n",
       "        1.00640743,  1.09748689,  0.18445373, -0.21369113, -0.21119352,\n",
       "        1.10983341, -0.2646665 ,  0.98223852,  0.49086145,  1.01523758,\n",
       "        1.4627422 , -0.1475717 , -0.56268345,  0.86558136,  0.9929571 ,\n",
       "        0.08229924,  1.58392538,  0.10311115,  0.7087473 ,  1.90095214,\n",
       "        1.28189944,  2.02390032,  1.35369796,  1.48855585, -0.23567056,\n",
       "        1.14804331,  0.02094699,  1.16221512,  0.06288497,  0.54127912,\n",
       "        1.08594879,  0.29905849,  0.10909141,  0.0711607 ,  0.61486387,\n",
       "        0.54708601,  1.74601558,  1.50484724,  0.56769796,  1.37116584,\n",
       "        2.02798775,  0.02189   , -0.21778103, -0.1690718 ,  0.99430114,\n",
       "        0.40218356,  0.68804287,  0.3331636 ,  1.64632166,  0.90388992,\n",
       "        0.66065923,  0.65552007, -0.07495643, -0.8103064 ,  0.55416038,\n",
       "        0.81014258,  0.14943534,  0.67107991,  1.25344965,  0.34000868,\n",
       "        1.18648416, -0.00450803,  0.23795609,  0.98544348, -0.55878235,\n",
       "       -0.83595459,  0.56036079,  1.10009624,  1.11777711,  0.46909072,\n",
       "        0.81096926,  0.03171461,  1.59429671,  0.55765651,  1.4105095 ,\n",
       "        1.67109503, -0.66523714,  2.04543208,  1.72700196,  0.89344764,\n",
       "        0.71771673,  1.26129106,  0.79207959, -1.25637048,  1.00952502,\n",
       "        0.89324343,  1.14752643,  0.58706831,  1.89490633,  1.63047113,\n",
       "       -0.11976237,  0.6140331 , -0.17887884,  0.76993523,  0.24409057,\n",
       "       -0.76320749,  0.63281107,  1.41460495,  0.32353444,  0.15920357,\n",
       "        0.68403452,  0.99581092,  0.08885043,  0.12030264,  0.06012389,\n",
       "        0.44106345,  1.19043139,  1.52376958,  0.84582781,  1.39535466,\n",
       "        0.67924743,  0.35711915,  0.75627056,  1.01545665,  0.31050938,\n",
       "        0.4806912 ,  0.98792566,  1.0071646 , -0.57405029,  0.41790317,\n",
       "        0.93651527,  0.27408008,  1.58512239,  1.0512558 ,  1.48742645,\n",
       "        0.94548295,  0.51597431, -0.8245716 ,  0.63445506,  0.49104656,\n",
       "        0.5807404 ,  1.08454791, -0.49009763,  0.04216369,  0.15853821,\n",
       "        0.98653485,  1.04993034,  0.97373186, -0.54907807,  0.14933022,\n",
       "        0.67198954, -0.36690836,  1.20425781,  0.36275823,  1.57271755,\n",
       "        0.82931524,  1.17549464,  1.25556425,  0.77883031,  2.14219913,\n",
       "        0.9890579 ,  0.12940917,  0.83752467, -0.4595724 ,  1.16185613,\n",
       "        0.32954884, -0.24231754,  0.6922254 , -0.30948941, -0.44307314,\n",
       "       -0.30820206,  2.05738579,  0.12814837,  0.59861185,  0.87175342,\n",
       "        0.73725956,  0.03723063, -0.05139269,  1.00203823,  0.06383944,\n",
       "        0.30820899, -0.2366989 , -0.52419249,  0.77239501,  0.67515759,\n",
       "        1.02429687,  0.55320463,  0.42114786,  1.10459119,  0.84035057,\n",
       "        1.68060036,  1.06575241,  0.41191635,  0.27794565,  1.30606161,\n",
       "        1.20174314, -0.97621391,  0.54304478,  0.18450003,  1.01370294,\n",
       "        1.5454981 , -0.23872051,  1.10840157,  1.8494198 ,  0.42361629,\n",
       "        0.80249652,  0.47093272,  0.81037968,  0.42574602,  1.65846265,\n",
       "        1.33334803,  1.07707344,  0.21672694,  0.05893225, -0.43678239,\n",
       "        1.52409891,  1.22430857,  0.67940832, -0.58416345,  1.52424055,\n",
       "        1.58208202,  1.46937027,  0.3925364 ,  0.31081361, -0.27918328,\n",
       "        0.7372722 ,  0.88451163,  0.89127679,  0.42979742,  0.25325639,\n",
       "        0.56196258,  0.89052037,  0.93562428, -0.59847523,  1.30488146,\n",
       "       -0.06161183,  1.04801038,  1.51863443, -0.2005159 , -0.04668672,\n",
       "        0.33588805, -0.8881575 , -0.02682194, -0.84190257,  0.53653846,\n",
       "        1.16045524, -0.00742143,  0.05229208,  0.42363156,  0.95744836,\n",
       "       -0.04483004, -0.39757784,  0.82734037,  1.50851784,  0.18282975])"
      ]
     },
     "execution_count": 21,
     "metadata": {},
     "output_type": "execute_result"
    }
   ],
   "source": [
    "lengths"
   ]
  },
  {
   "cell_type": "code",
   "execution_count": 58,
   "metadata": {},
   "outputs": [],
   "source": [
    "d_temp = distances/(0.8 * (2 ** 0.5))"
   ]
  },
  {
   "cell_type": "code",
   "execution_count": 59,
   "metadata": {},
   "outputs": [
    {
     "data": {
      "text/plain": [
       "Text(0.5, 1.0, '50 bins')"
      ]
     },
     "execution_count": 59,
     "metadata": {},
     "output_type": "execute_result"
    },
    {
     "data": {
      "image/png": "[encoded data removed]",
      "text/plain": [
       "<Figure size 432x288 with 1 Axes>"
      ]
     },
     "metadata": {
      "needs_background": "light"
     },
     "output_type": "display_data"
    }
   ],
   "source": [
    "num = 50\n",
    "plt.hist(d_temp, bins=num)\n",
    "plt.title(str(num) + ' bins')"
   ]
  },
  {
   "cell_type": "code",
   "execution_count": 23,
   "metadata": {},
   "outputs": [
    {
     "data": {
      "text/plain": [
       "500"
      ]
     },
     "execution_count": 23,
     "metadata": {},
     "output_type": "execute_result"
    }
   ],
   "source": [
    "len(lengths)"
   ]
  },
  {
   "cell_type": "code",
   "execution_count": 67,
   "metadata": {},
   "outputs": [
    {
     "data": {
      "text/plain": [
       "28.099258924162903"
      ]
     },
     "execution_count": 67,
     "metadata": {},
     "output_type": "execute_result"
    }
   ],
   "source": [
    "((1 / (50000 ** 0.25)/5) ** 2) * math.pi * 50000"
   ]
  },
  {
   "cell_type": "code",
   "execution_count": null,
   "metadata": {},
   "outputs": [],
   "source": []
  }
 ],
 "metadata": {
  "kernelspec": {
   "display_name": "Python 3",
   "language": "python",
   "name": "python3"
  },
  "language_info": {
   "codemirror_mode": {
    "name": "ipython",
    "version": 3
   },
   "file_extension": ".py",
   "mimetype": "text/x-python",
   "name": "python",
   "nbconvert_exporter": "python",
   "pygments_lexer": "ipython3",
   "version": "3.7.6"
  }
 },
 "nbformat": 4,
 "nbformat_minor": 4
}
