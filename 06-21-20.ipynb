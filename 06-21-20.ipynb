{
 "cells": [
  {
   "cell_type": "code",
   "execution_count": 1,
   "metadata": {},
   "outputs": [
    {
     "data": {
      "text/plain": [
       "'/usr/local/opt/python/bin/python3.7'"
      ]
     },
     "execution_count": 1,
     "metadata": {},
     "output_type": "execute_result"
    }
   ],
   "source": [
    "import sys\n",
    "sys.executable"
   ]
  },
  {
   "cell_type": "code",
   "execution_count": 2,
   "metadata": {},
   "outputs": [],
   "source": [
    "import numpy as np\n",
    "import pandas as pd\n",
    "from scipy.spatial import KDTree\n",
    "import math\n",
    "\n",
    "import matplotlib.pyplot as plt\n",
    "\n",
    "from copy import deepcopy"
   ]
  },
  {
   "cell_type": "code",
   "execution_count": 3,
   "metadata": {},
   "outputs": [],
   "source": [
    "# r_n function\n",
    "def r(n, D):\n",
    "    return n ** (-1/(2*D))"
   ]
  },
  {
   "cell_type": "code",
   "execution_count": 4,
   "metadata": {},
   "outputs": [],
   "source": [
    "distances = []\n",
    "counts = []\n",
    "\n",
    "filename = 'slurm scripts/data/06-20-20/asymptotics-dim2_n50000-'\n",
    "\n",
    "for i in range(1,4):\n",
    "    f = open(filename+str(i)+'.out', \"r\")\n",
    "    for line in f:\n",
    "        distance = line.split()[0]\n",
    "        count = line.split()[1]\n",
    "        distances.append(float(distance))\n",
    "        counts.append(int(count)-1)\n",
    "        \n",
    "distances = np.array(distances)\n",
    "counts = np.array(counts)"
   ]
  },
  {
   "cell_type": "code",
   "execution_count": 6,
   "metadata": {},
   "outputs": [],
   "source": [
    "# T_n approaches 1.5 * (true length) n^(1/4)\n",
    "\n",
    "n = 50000\n",
    "D = 2"
   ]
  },
  {
   "cell_type": "code",
   "execution_count": 7,
   "metadata": {},
   "outputs": [],
   "source": [
    "lengths = deepcopy(distances)"
   ]
  },
  {
   "cell_type": "code",
   "execution_count": 8,
   "metadata": {},
   "outputs": [],
   "source": [
    "lengths = lengths - (counts * (2/3) * r(n,D))"
   ]
  },
  {
   "cell_type": "code",
   "execution_count": 9,
   "metadata": {},
   "outputs": [],
   "source": [
    "lengths = lengths * (counts ** (1/2))"
   ]
  },
  {
   "cell_type": "code",
   "execution_count": 10,
   "metadata": {},
   "outputs": [],
   "source": [
    "lengths = lengths / (2/5)"
   ]
  },
  {
   "cell_type": "code",
   "execution_count": 11,
   "metadata": {
    "collapsed": true,
    "jupyter": {
     "outputs_hidden": true
    }
   },
   "outputs": [
    {
     "data": {
      "text/plain": [
       "array([ 0.55774615,  1.08743413,  1.41349321,  0.7924877 ,  1.72427768,\n",
       "        1.23951712,  0.75408339,  1.35340615, -0.85372517, -0.46558075,\n",
       "        0.72817583,  0.63713432,  0.46239155,  1.05099706,  1.32012677,\n",
       "        0.52029548, -0.12532569,  1.08747996,  0.2673218 , -0.51048709,\n",
       "        0.19606474,  0.91356553, -0.58245947,  0.3895832 ,  1.14818684,\n",
       "       -0.01559609, -0.31876375,  1.01725019,  0.64039729,  0.60732734,\n",
       "        1.35107049,  0.52539029, -0.23306177,  0.03899669,  0.52716675,\n",
       "        1.01832231,  1.02192261,  1.55627256,  0.60134638,  0.85133382,\n",
       "        0.61294729,  0.57376616, -0.21437086,  1.00172266,  1.95940925,\n",
       "        1.18849679,  0.90663097,  0.21189986, -0.08555508,  1.22576929,\n",
       "        1.1282382 ,  1.17333273,  0.49753818,  1.06279545,  1.12284056,\n",
       "        1.04733837,  0.61031079,  0.25547041,  0.11247967,  0.99579932,\n",
       "        1.27433845,  0.74663343, -0.0047931 ,  0.09446538,  1.06543273,\n",
       "        0.98342244,  0.91156031,  0.5679755 ,  1.6898352 ,  0.70290686,\n",
       "        0.24821276,  1.19764168,  1.11764634, -0.2354603 ,  1.73371196,\n",
       "        0.33338665,  1.14087894,  0.94842012, -0.06172783,  0.44714006,\n",
       "        0.6420198 ,  0.52000018, -0.47422597,  1.33208143,  0.67953453,\n",
       "        0.74521115,  0.29156979, -0.23629958,  0.4715429 ,  0.13896356,\n",
       "        1.36700605,  1.04003099,  1.70844554,  0.6267493 ,  0.93485043,\n",
       "        1.72180644,  1.60839794,  0.55501684,  1.21214038, -1.29673223,\n",
       "        1.49367612, -0.13353657,  0.87189135, -0.40091359,  0.04935568,\n",
       "       -0.6496474 ,  1.20123542,  0.31688338,  0.16866893,  1.08126346,\n",
       "       -0.24066701,  1.1838726 , -0.59293544,  0.05155884, -0.31433855,\n",
       "        1.00727475,  0.63689967,  1.74902049,  0.24028831, -0.07389172,\n",
       "        1.19903493,  1.12323977,  1.00240955,  0.00302427,  0.47685428,\n",
       "        0.10685435, -0.13863868,  1.08940745,  0.67341006, -0.20865068,\n",
       "        1.48986304,  0.72964973,  2.07022189, -0.41755188,  0.90729889,\n",
       "        0.72345473,  0.30446477, -0.30166343,  0.29974914,  1.55293439,\n",
       "       -0.07919217,  0.62681568,  0.22912623,  0.59884534,  0.75795684,\n",
       "        1.86767129,  0.77323314,  1.5171535 ,  1.15743906,  0.48183624])"
      ]
     },
     "execution_count": 11,
     "metadata": {},
     "output_type": "execute_result"
    }
   ],
   "source": [
    "lengths"
   ]
  },
  {
   "cell_type": "code",
   "execution_count": 15,
   "metadata": {},
   "outputs": [
    {
     "data": {
      "text/plain": [
       "Text(0.5, 1.0, '50 bins')"
      ]
     },
     "execution_count": 15,
     "metadata": {},
     "output_type": "execute_result"
    },
    {
     "data": {
      "image/png": "[encoded data removed]",
      "text/plain": [
       "<Figure size 432x288 with 1 Axes>"
      ]
     },
     "metadata": {
      "needs_background": "light"
     },
     "output_type": "display_data"
    }
   ],
   "source": [
    "num = 50\n",
    "plt.hist(lengths, bins=num)\n",
    "plt.title(str(num) + ' bins')"
   ]
  },
  {
   "cell_type": "code",
   "execution_count": null,
   "metadata": {},
   "outputs": [],
   "source": []
  }
 ],
 "metadata": {
  "kernelspec": {
   "display_name": "Python 3",
   "language": "python",
   "name": "python3"
  },
  "language_info": {
   "codemirror_mode": {
    "name": "ipython",
    "version": 3
   },
   "file_extension": ".py",
   "mimetype": "text/x-python",
   "name": "python",
   "nbconvert_exporter": "python",
   "pygments_lexer": "ipython3",
   "version": "3.7.6"
  }
 },
 "nbformat": 4,
 "nbformat_minor": 4
}
